{
  "cells": [
    {
      "cell_type": "markdown",
      "metadata": {
        "id": "BNU1dH_9IU7v"
      },
      "source": [
        "#**Background**\n",
        "\n",
        "Dicoding Collection atau sering disingkat DiCo merupakan sebuah perusahaan yang bergerak di bidang fashion. Ia memproduksi berbagai item fashion dan menjualnya melalui platform online.\n",
        "\n",
        "Sebagai perusahaan kekinian, DiCo menyadari betapa pentingnya data bagi perkembangan sebuah bisnis. Oleh karena itu, ia menyimpan semua history penjualan beserta informasi terkait produk dan customers dalam sebuah database. Database ini terdiri dari empat buah tabel, antara lain customers, orders, products, dan sales.\n",
        "\n",
        "Tabel customers: tabel ini menyimpan berbagai informasi terkait customer, seperti customer_id, customer_name, gender, age, home_address, zip_code, city, state, dan country.\n",
        "\n",
        "Tabel orders: tabel ini menyimpan berbagai informasi terkait sebuah order yang terdiri dari order_id, customer_id, order_date, dan delivery_date.\n",
        "\n",
        "Tabel products: tabel ini berisi berbagai informasi terkait sebuah produk, seperti product_id, product_type, product_name, size, colour, price, quantity, dan description.\n",
        "\n",
        "Tabel sales: tabel ini mengandung informasi detail terkait penjualan, seperti sales_id, order_id, product_id, price_per_unit, quantity, dan total_price.\n",
        "Nah, sebagai calon praktisi data profesional, Anda akan diminta untuk menganalisis seluruh data tersebut. So, apakah Anda siap untuk menjawab tantangan ini? Tentunya siap dong!"
      ]
    },
    {
      "cell_type": "markdown",
      "metadata": {
        "id": "7Db6polAIk1-"
      },
      "source": [
        "#**Tujuan**\n",
        "\n",
        "First of all, kita akan mulai proyek analisis data ini dengan menjalankan proses data wrangling terlebih dahulu. Proses ini memiliki tujuan antara lain\n",
        "\n",
        "mengumpulkan seluruh data yang dibutuhkan;\n",
        "menilai kualitas dari data yang telah dikumpulkan; dan\n",
        "membersihkan data tersebut sehingga siap untuk dianalisis.\n",
        "\n",
        "\n",
        "Alur Latihan\n",
        "Berikut merupakan tahapan dalam latihan ini.\n",
        "\n",
        "Tahap persiapan.\n",
        "\n",
        "Tahap gathering data.\n",
        "\n",
        "Tahap assessing data.\n",
        "\n",
        "Tahap cleaning data.\n"
      ]
    },
    {
      "cell_type": "markdown",
      "metadata": {
        "id": "YKHcwtpuKzk6"
      },
      "source": [
        "**memanggil semua library yang dibutuhkan**"
      ]
    },
    {
      "cell_type": "markdown",
      "metadata": {
        "id": "bjKb-z1gLkjn"
      },
      "source": [
        "#**Gathering Data**"
      ]
    },
    {
      "cell_type": "code",
      "execution_count": 1,
      "metadata": {
        "id": "58s--gXHKtFJ"
      },
      "outputs": [],
      "source": [
        "import numpy as np\n",
        "import pandas as pd\n",
        "import matplotlib.pyplot as plt\n",
        "import seaborn as sns"
      ]
    },
    {
      "cell_type": "markdown",
      "metadata": {
        "id": "m7LimgFgLGUT"
      },
      "source": [
        "**Memuat tabel customers**"
      ]
    },
    {
      "cell_type": "code",
      "execution_count": 2,
      "metadata": {
        "colab": {
          "base_uri": "https://localhost:8080/",
          "height": 206
        },
        "id": "VXW0XPRZLJ0v",
        "outputId": "906866e0-9359-4042-bffe-351a512f7499"
      },
      "outputs": [
        {
          "data": {
            "text/html": [
              "<div>\n",
              "<style scoped>\n",
              "    .dataframe tbody tr th:only-of-type {\n",
              "        vertical-align: middle;\n",
              "    }\n",
              "\n",
              "    .dataframe tbody tr th {\n",
              "        vertical-align: top;\n",
              "    }\n",
              "\n",
              "    .dataframe thead th {\n",
              "        text-align: right;\n",
              "    }\n",
              "</style>\n",
              "<table border=\"1\" class=\"dataframe\">\n",
              "  <thead>\n",
              "    <tr style=\"text-align: right;\">\n",
              "      <th></th>\n",
              "      <th>customer_id</th>\n",
              "      <th>customer_name</th>\n",
              "      <th>gender</th>\n",
              "      <th>age</th>\n",
              "      <th>home_address</th>\n",
              "      <th>zip_code</th>\n",
              "      <th>city</th>\n",
              "      <th>state</th>\n",
              "      <th>country</th>\n",
              "    </tr>\n",
              "  </thead>\n",
              "  <tbody>\n",
              "    <tr>\n",
              "      <th>0</th>\n",
              "      <td>1</td>\n",
              "      <td>fulan 1</td>\n",
              "      <td>Female</td>\n",
              "      <td>30</td>\n",
              "      <td>8606 Victoria TerraceSuite 560</td>\n",
              "      <td>5464</td>\n",
              "      <td>Johnstonhaven</td>\n",
              "      <td>Northern Territory</td>\n",
              "      <td>Australia</td>\n",
              "    </tr>\n",
              "    <tr>\n",
              "      <th>1</th>\n",
              "      <td>2</td>\n",
              "      <td>fulan 2</td>\n",
              "      <td>Prefer not to say</td>\n",
              "      <td>69</td>\n",
              "      <td>8327 Kirlin SummitApt. 461</td>\n",
              "      <td>8223</td>\n",
              "      <td>New Zacharyfort</td>\n",
              "      <td>South Australia</td>\n",
              "      <td>Australia</td>\n",
              "    </tr>\n",
              "    <tr>\n",
              "      <th>2</th>\n",
              "      <td>3</td>\n",
              "      <td>fulan 3</td>\n",
              "      <td>Prefer not to say</td>\n",
              "      <td>59</td>\n",
              "      <td>269 Gemma SummitSuite 109</td>\n",
              "      <td>5661</td>\n",
              "      <td>Aliburgh</td>\n",
              "      <td>Australian Capital Territory</td>\n",
              "      <td>Australia</td>\n",
              "    </tr>\n",
              "    <tr>\n",
              "      <th>3</th>\n",
              "      <td>4</td>\n",
              "      <td>fulan 4</td>\n",
              "      <td>Prefer not to say</td>\n",
              "      <td>67</td>\n",
              "      <td>743 Bailey GroveSuite 141</td>\n",
              "      <td>1729</td>\n",
              "      <td>South Justinhaven</td>\n",
              "      <td>Queensland</td>\n",
              "      <td>Australia</td>\n",
              "    </tr>\n",
              "    <tr>\n",
              "      <th>4</th>\n",
              "      <td>5</td>\n",
              "      <td>fulan 5</td>\n",
              "      <td>Prefer not to say</td>\n",
              "      <td>30</td>\n",
              "      <td>48 Hyatt ManorSuite 375</td>\n",
              "      <td>4032</td>\n",
              "      <td>Griffithsshire</td>\n",
              "      <td>Queensland</td>\n",
              "      <td>Australia</td>\n",
              "    </tr>\n",
              "  </tbody>\n",
              "</table>\n",
              "</div>"
            ],
            "text/plain": [
              "   customer_id customer_name             gender  age  \\\n",
              "0            1       fulan 1             Female   30   \n",
              "1            2       fulan 2  Prefer not to say   69   \n",
              "2            3       fulan 3  Prefer not to say   59   \n",
              "3            4       fulan 4  Prefer not to say   67   \n",
              "4            5       fulan 5  Prefer not to say   30   \n",
              "\n",
              "                     home_address  zip_code               city  \\\n",
              "0  8606 Victoria TerraceSuite 560      5464      Johnstonhaven   \n",
              "1      8327 Kirlin SummitApt. 461      8223    New Zacharyfort   \n",
              "2       269 Gemma SummitSuite 109      5661           Aliburgh   \n",
              "3       743 Bailey GroveSuite 141      1729  South Justinhaven   \n",
              "4         48 Hyatt ManorSuite 375      4032     Griffithsshire   \n",
              "\n",
              "                          state    country  \n",
              "0            Northern Territory  Australia  \n",
              "1               South Australia  Australia  \n",
              "2  Australian Capital Territory  Australia  \n",
              "3                    Queensland  Australia  \n",
              "4                    Queensland  Australia  "
            ]
          },
          "execution_count": 2,
          "metadata": {},
          "output_type": "execute_result"
        }
      ],
      "source": [
        "customers_df = pd.read_csv(\"https://raw.githubusercontent.com/dicodingacademy/dicoding_dataset/main/DicodingCollection/customers.csv\")\n",
        "customers_df.head()"
      ]
    },
    {
      "cell_type": "markdown",
      "metadata": {
        "id": "LTv_g2CWLRS2"
      },
      "source": [
        "**Memuat tabel orders**"
      ]
    },
    {
      "cell_type": "code",
      "execution_count": 3,
      "metadata": {
        "colab": {
          "base_uri": "https://localhost:8080/",
          "height": 206
        },
        "id": "VcEXBOMKLT1r",
        "outputId": "03f0553b-2413-4246-b1bc-1d08cd8e9ddb"
      },
      "outputs": [
        {
          "data": {
            "text/html": [
              "<div>\n",
              "<style scoped>\n",
              "    .dataframe tbody tr th:only-of-type {\n",
              "        vertical-align: middle;\n",
              "    }\n",
              "\n",
              "    .dataframe tbody tr th {\n",
              "        vertical-align: top;\n",
              "    }\n",
              "\n",
              "    .dataframe thead th {\n",
              "        text-align: right;\n",
              "    }\n",
              "</style>\n",
              "<table border=\"1\" class=\"dataframe\">\n",
              "  <thead>\n",
              "    <tr style=\"text-align: right;\">\n",
              "      <th></th>\n",
              "      <th>order_id</th>\n",
              "      <th>customer_id</th>\n",
              "      <th>payment</th>\n",
              "      <th>order_date</th>\n",
              "      <th>delivery_date</th>\n",
              "    </tr>\n",
              "  </thead>\n",
              "  <tbody>\n",
              "    <tr>\n",
              "      <th>0</th>\n",
              "      <td>1</td>\n",
              "      <td>64</td>\n",
              "      <td>30811</td>\n",
              "      <td>2021-8-30</td>\n",
              "      <td>2021-09-24</td>\n",
              "    </tr>\n",
              "    <tr>\n",
              "      <th>1</th>\n",
              "      <td>2</td>\n",
              "      <td>473</td>\n",
              "      <td>50490</td>\n",
              "      <td>2021-2-3</td>\n",
              "      <td>2021-02-13</td>\n",
              "    </tr>\n",
              "    <tr>\n",
              "      <th>2</th>\n",
              "      <td>3</td>\n",
              "      <td>774</td>\n",
              "      <td>46763</td>\n",
              "      <td>2021-10-8</td>\n",
              "      <td>2021-11-03</td>\n",
              "    </tr>\n",
              "    <tr>\n",
              "      <th>3</th>\n",
              "      <td>4</td>\n",
              "      <td>433</td>\n",
              "      <td>39782</td>\n",
              "      <td>2021-5-6</td>\n",
              "      <td>2021-05-19</td>\n",
              "    </tr>\n",
              "    <tr>\n",
              "      <th>4</th>\n",
              "      <td>5</td>\n",
              "      <td>441</td>\n",
              "      <td>14719</td>\n",
              "      <td>2021-3-23</td>\n",
              "      <td>2021-03-24</td>\n",
              "    </tr>\n",
              "  </tbody>\n",
              "</table>\n",
              "</div>"
            ],
            "text/plain": [
              "   order_id  customer_id  payment order_date delivery_date\n",
              "0         1           64    30811  2021-8-30    2021-09-24\n",
              "1         2          473    50490   2021-2-3    2021-02-13\n",
              "2         3          774    46763  2021-10-8    2021-11-03\n",
              "3         4          433    39782   2021-5-6    2021-05-19\n",
              "4         5          441    14719  2021-3-23    2021-03-24"
            ]
          },
          "execution_count": 3,
          "metadata": {},
          "output_type": "execute_result"
        }
      ],
      "source": [
        "orders_df = pd.read_csv(\"https://raw.githubusercontent.com/dicodingacademy/dicoding_dataset/main/DicodingCollection/orders.csv\")\n",
        "orders_df.head()"
      ]
    },
    {
      "cell_type": "markdown",
      "metadata": {
        "id": "lBTLPOudLX_L"
      },
      "source": [
        "Memuat tabel product"
      ]
    },
    {
      "cell_type": "code",
      "execution_count": 4,
      "metadata": {
        "colab": {
          "base_uri": "https://localhost:8080/",
          "height": 206
        },
        "id": "LBQCGjBtLanE",
        "outputId": "0ade4664-c86f-46fb-b80e-0a3d89c39170"
      },
      "outputs": [
        {
          "data": {
            "text/html": [
              "<div>\n",
              "<style scoped>\n",
              "    .dataframe tbody tr th:only-of-type {\n",
              "        vertical-align: middle;\n",
              "    }\n",
              "\n",
              "    .dataframe tbody tr th {\n",
              "        vertical-align: top;\n",
              "    }\n",
              "\n",
              "    .dataframe thead th {\n",
              "        text-align: right;\n",
              "    }\n",
              "</style>\n",
              "<table border=\"1\" class=\"dataframe\">\n",
              "  <thead>\n",
              "    <tr style=\"text-align: right;\">\n",
              "      <th></th>\n",
              "      <th>product_id</th>\n",
              "      <th>product_type</th>\n",
              "      <th>product_name</th>\n",
              "      <th>size</th>\n",
              "      <th>colour</th>\n",
              "      <th>price</th>\n",
              "      <th>quantity</th>\n",
              "      <th>description</th>\n",
              "    </tr>\n",
              "  </thead>\n",
              "  <tbody>\n",
              "    <tr>\n",
              "      <th>0</th>\n",
              "      <td>0</td>\n",
              "      <td>Shirt</td>\n",
              "      <td>Oxford Cloth</td>\n",
              "      <td>XS</td>\n",
              "      <td>red</td>\n",
              "      <td>114</td>\n",
              "      <td>66</td>\n",
              "      <td>A red coloured, XS sized, Oxford Cloth Shirt</td>\n",
              "    </tr>\n",
              "    <tr>\n",
              "      <th>1</th>\n",
              "      <td>1</td>\n",
              "      <td>Shirt</td>\n",
              "      <td>Oxford Cloth</td>\n",
              "      <td>S</td>\n",
              "      <td>red</td>\n",
              "      <td>114</td>\n",
              "      <td>53</td>\n",
              "      <td>A red coloured, S sized, Oxford Cloth Shirt</td>\n",
              "    </tr>\n",
              "    <tr>\n",
              "      <th>2</th>\n",
              "      <td>2</td>\n",
              "      <td>Shirt</td>\n",
              "      <td>Oxford Cloth</td>\n",
              "      <td>M</td>\n",
              "      <td>red</td>\n",
              "      <td>114</td>\n",
              "      <td>54</td>\n",
              "      <td>A red coloured, M sized, Oxford Cloth Shirt</td>\n",
              "    </tr>\n",
              "    <tr>\n",
              "      <th>3</th>\n",
              "      <td>3</td>\n",
              "      <td>Shirt</td>\n",
              "      <td>Oxford Cloth</td>\n",
              "      <td>L</td>\n",
              "      <td>red</td>\n",
              "      <td>114</td>\n",
              "      <td>69</td>\n",
              "      <td>A red coloured, L sized, Oxford Cloth Shirt</td>\n",
              "    </tr>\n",
              "    <tr>\n",
              "      <th>4</th>\n",
              "      <td>4</td>\n",
              "      <td>Shirt</td>\n",
              "      <td>Oxford Cloth</td>\n",
              "      <td>XL</td>\n",
              "      <td>red</td>\n",
              "      <td>114</td>\n",
              "      <td>47</td>\n",
              "      <td>A red coloured, XL sized, Oxford Cloth Shirt</td>\n",
              "    </tr>\n",
              "  </tbody>\n",
              "</table>\n",
              "</div>"
            ],
            "text/plain": [
              "   product_id product_type  product_name size colour  price  quantity  \\\n",
              "0           0        Shirt  Oxford Cloth   XS    red    114        66   \n",
              "1           1        Shirt  Oxford Cloth    S    red    114        53   \n",
              "2           2        Shirt  Oxford Cloth    M    red    114        54   \n",
              "3           3        Shirt  Oxford Cloth    L    red    114        69   \n",
              "4           4        Shirt  Oxford Cloth   XL    red    114        47   \n",
              "\n",
              "                                    description  \n",
              "0  A red coloured, XS sized, Oxford Cloth Shirt  \n",
              "1   A red coloured, S sized, Oxford Cloth Shirt  \n",
              "2   A red coloured, M sized, Oxford Cloth Shirt  \n",
              "3   A red coloured, L sized, Oxford Cloth Shirt  \n",
              "4  A red coloured, XL sized, Oxford Cloth Shirt  "
            ]
          },
          "execution_count": 4,
          "metadata": {},
          "output_type": "execute_result"
        }
      ],
      "source": [
        "product_df = pd.read_csv(\"https://raw.githubusercontent.com/dicodingacademy/dicoding_dataset/main/DicodingCollection/products.csv\")\n",
        "product_df.head()"
      ]
    },
    {
      "cell_type": "markdown",
      "metadata": {
        "id": "4YlGsluxLqZv"
      },
      "source": [
        "**Memuat tabel sales**"
      ]
    },
    {
      "cell_type": "code",
      "execution_count": 5,
      "metadata": {
        "colab": {
          "base_uri": "https://localhost:8080/",
          "height": 206
        },
        "id": "pdwZm986LuJ6",
        "outputId": "0831fd46-5ae2-4204-cddd-b772f9714340"
      },
      "outputs": [
        {
          "data": {
            "text/html": [
              "<div>\n",
              "<style scoped>\n",
              "    .dataframe tbody tr th:only-of-type {\n",
              "        vertical-align: middle;\n",
              "    }\n",
              "\n",
              "    .dataframe tbody tr th {\n",
              "        vertical-align: top;\n",
              "    }\n",
              "\n",
              "    .dataframe thead th {\n",
              "        text-align: right;\n",
              "    }\n",
              "</style>\n",
              "<table border=\"1\" class=\"dataframe\">\n",
              "  <thead>\n",
              "    <tr style=\"text-align: right;\">\n",
              "      <th></th>\n",
              "      <th>sales_id</th>\n",
              "      <th>order_id</th>\n",
              "      <th>product_id</th>\n",
              "      <th>price_per_unit</th>\n",
              "      <th>quantity</th>\n",
              "      <th>total_price</th>\n",
              "    </tr>\n",
              "  </thead>\n",
              "  <tbody>\n",
              "    <tr>\n",
              "      <th>0</th>\n",
              "      <td>0</td>\n",
              "      <td>1</td>\n",
              "      <td>218</td>\n",
              "      <td>106</td>\n",
              "      <td>2</td>\n",
              "      <td>212.0</td>\n",
              "    </tr>\n",
              "    <tr>\n",
              "      <th>1</th>\n",
              "      <td>1</td>\n",
              "      <td>1</td>\n",
              "      <td>481</td>\n",
              "      <td>118</td>\n",
              "      <td>1</td>\n",
              "      <td>118.0</td>\n",
              "    </tr>\n",
              "    <tr>\n",
              "      <th>2</th>\n",
              "      <td>2</td>\n",
              "      <td>1</td>\n",
              "      <td>2</td>\n",
              "      <td>96</td>\n",
              "      <td>3</td>\n",
              "      <td>288.0</td>\n",
              "    </tr>\n",
              "    <tr>\n",
              "      <th>3</th>\n",
              "      <td>3</td>\n",
              "      <td>1</td>\n",
              "      <td>1002</td>\n",
              "      <td>106</td>\n",
              "      <td>2</td>\n",
              "      <td>212.0</td>\n",
              "    </tr>\n",
              "    <tr>\n",
              "      <th>4</th>\n",
              "      <td>4</td>\n",
              "      <td>1</td>\n",
              "      <td>691</td>\n",
              "      <td>113</td>\n",
              "      <td>3</td>\n",
              "      <td>339.0</td>\n",
              "    </tr>\n",
              "  </tbody>\n",
              "</table>\n",
              "</div>"
            ],
            "text/plain": [
              "   sales_id  order_id  product_id  price_per_unit  quantity  total_price\n",
              "0         0         1         218             106         2        212.0\n",
              "1         1         1         481             118         1        118.0\n",
              "2         2         1           2              96         3        288.0\n",
              "3         3         1        1002             106         2        212.0\n",
              "4         4         1         691             113         3        339.0"
            ]
          },
          "execution_count": 5,
          "metadata": {},
          "output_type": "execute_result"
        }
      ],
      "source": [
        "sales_df = pd.read_csv(\"https://raw.githubusercontent.com/dicodingacademy/dicoding_dataset/main/DicodingCollection/sales.csv\")\n",
        "sales_df.head()"
      ]
    },
    {
      "cell_type": "markdown",
      "metadata": {
        "id": "gnWxEapJeDs4"
      },
      "source": [
        "#**Assessing Data**\n",
        "\n",
        "Sekarang kita masuk ke tahap kedua dalam proses data wrangling yaitu assessing data. Seperti yang telah kita bahas sebelumnya, pada proses ini kita akan menilai kualitas dari seluruh data yang akan digunakan. Penilaian ini bertujuan untuk melihat berbagai permasalahan yang ada dalam data tersebut.\n",
        "\n"
      ]
    },
    {
      "cell_type": "markdown",
      "metadata": {
        "id": "I4GVgi_xf142"
      },
      "source": [
        "**Menilai Data customers_dfcustomers_df**\n",
        "\n",
        "\n",
        "\n"
      ]
    },
    {
      "cell_type": "code",
      "execution_count": 6,
      "metadata": {
        "colab": {
          "base_uri": "https://localhost:8080/"
        },
        "id": "lYPMfhF8eJWS",
        "outputId": "692afb80-5604-4bef-890f-27ec79790719"
      },
      "outputs": [
        {
          "name": "stdout",
          "output_type": "stream",
          "text": [
            "<class 'pandas.core.frame.DataFrame'>\n",
            "RangeIndex: 1007 entries, 0 to 1006\n",
            "Data columns (total 9 columns):\n",
            " #   Column         Non-Null Count  Dtype \n",
            "---  ------         --------------  ----- \n",
            " 0   customer_id    1007 non-null   int64 \n",
            " 1   customer_name  1007 non-null   object\n",
            " 2   gender         989 non-null    object\n",
            " 3   age            1007 non-null   int64 \n",
            " 4   home_address   1007 non-null   object\n",
            " 5   zip_code       1007 non-null   int64 \n",
            " 6   city           1007 non-null   object\n",
            " 7   state          1007 non-null   object\n",
            " 8   country        1007 non-null   object\n",
            "dtypes: int64(3), object(6)\n",
            "memory usage: 70.9+ KB\n"
          ]
        }
      ],
      "source": [
        "customers_df.info()"
      ]
    },
    {
      "cell_type": "code",
      "execution_count": 7,
      "metadata": {
        "colab": {
          "base_uri": "https://localhost:8080/"
        },
        "id": "wuQOXQX8eUcm",
        "outputId": "457de19b-86b0-4b07-94ae-76bc4d737182"
      },
      "outputs": [
        {
          "data": {
            "text/plain": [
              "customer_id       0\n",
              "customer_name     0\n",
              "gender           18\n",
              "age               0\n",
              "home_address      0\n",
              "zip_code          0\n",
              "city              0\n",
              "state             0\n",
              "country           0\n",
              "dtype: int64"
            ]
          },
          "execution_count": 7,
          "metadata": {},
          "output_type": "execute_result"
        }
      ],
      "source": [
        "customers_df.isna().sum()"
      ]
    },
    {
      "cell_type": "code",
      "execution_count": 8,
      "metadata": {
        "colab": {
          "base_uri": "https://localhost:8080/"
        },
        "id": "WiqF78k3eY3u",
        "outputId": "270dc4fa-91d6-4084-9275-8a29f5a5a69f"
      },
      "outputs": [
        {
          "name": "stdout",
          "output_type": "stream",
          "text": [
            "Jumlah duplikasi:  6\n"
          ]
        }
      ],
      "source": [
        "print(\"Jumlah duplikasi: \", customers_df.duplicated().sum())"
      ]
    },
    {
      "cell_type": "code",
      "execution_count": 9,
      "metadata": {
        "colab": {
          "base_uri": "https://localhost:8080/",
          "height": 300
        },
        "id": "1bfK2ZPlfkdt",
        "outputId": "006a1392-b0ae-443e-a3e1-5a82bfe4a87c"
      },
      "outputs": [
        {
          "data": {
            "text/html": [
              "<div>\n",
              "<style scoped>\n",
              "    .dataframe tbody tr th:only-of-type {\n",
              "        vertical-align: middle;\n",
              "    }\n",
              "\n",
              "    .dataframe tbody tr th {\n",
              "        vertical-align: top;\n",
              "    }\n",
              "\n",
              "    .dataframe thead th {\n",
              "        text-align: right;\n",
              "    }\n",
              "</style>\n",
              "<table border=\"1\" class=\"dataframe\">\n",
              "  <thead>\n",
              "    <tr style=\"text-align: right;\">\n",
              "      <th></th>\n",
              "      <th>customer_id</th>\n",
              "      <th>age</th>\n",
              "      <th>zip_code</th>\n",
              "    </tr>\n",
              "  </thead>\n",
              "  <tbody>\n",
              "    <tr>\n",
              "      <th>count</th>\n",
              "      <td>1007.000000</td>\n",
              "      <td>1007.000000</td>\n",
              "      <td>1007.000000</td>\n",
              "    </tr>\n",
              "    <tr>\n",
              "      <th>mean</th>\n",
              "      <td>501.726912</td>\n",
              "      <td>50.929494</td>\n",
              "      <td>5012.538232</td>\n",
              "    </tr>\n",
              "    <tr>\n",
              "      <th>std</th>\n",
              "      <td>288.673238</td>\n",
              "      <td>30.516299</td>\n",
              "      <td>2885.836112</td>\n",
              "    </tr>\n",
              "    <tr>\n",
              "      <th>min</th>\n",
              "      <td>1.000000</td>\n",
              "      <td>20.000000</td>\n",
              "      <td>2.000000</td>\n",
              "    </tr>\n",
              "    <tr>\n",
              "      <th>25%</th>\n",
              "      <td>252.500000</td>\n",
              "      <td>34.000000</td>\n",
              "      <td>2403.500000</td>\n",
              "    </tr>\n",
              "    <tr>\n",
              "      <th>50%</th>\n",
              "      <td>502.000000</td>\n",
              "      <td>50.000000</td>\n",
              "      <td>5087.000000</td>\n",
              "    </tr>\n",
              "    <tr>\n",
              "      <th>75%</th>\n",
              "      <td>751.500000</td>\n",
              "      <td>65.000000</td>\n",
              "      <td>7493.500000</td>\n",
              "    </tr>\n",
              "    <tr>\n",
              "      <th>max</th>\n",
              "      <td>1000.000000</td>\n",
              "      <td>700.000000</td>\n",
              "      <td>9998.000000</td>\n",
              "    </tr>\n",
              "  </tbody>\n",
              "</table>\n",
              "</div>"
            ],
            "text/plain": [
              "       customer_id          age     zip_code\n",
              "count  1007.000000  1007.000000  1007.000000\n",
              "mean    501.726912    50.929494  5012.538232\n",
              "std     288.673238    30.516299  2885.836112\n",
              "min       1.000000    20.000000     2.000000\n",
              "25%     252.500000    34.000000  2403.500000\n",
              "50%     502.000000    50.000000  5087.000000\n",
              "75%     751.500000    65.000000  7493.500000\n",
              "max    1000.000000   700.000000  9998.000000"
            ]
          },
          "execution_count": 9,
          "metadata": {},
          "output_type": "execute_result"
        }
      ],
      "source": [
        "customers_df.describe()"
      ]
    },
    {
      "cell_type": "markdown",
      "metadata": {
        "id": "8Fq5qhJQf0Hz"
      },
      "source": [
        "**Menilai data orders_df**"
      ]
    },
    {
      "cell_type": "code",
      "execution_count": 10,
      "metadata": {
        "colab": {
          "base_uri": "https://localhost:8080/"
        },
        "id": "bdTr5tmcgnSO",
        "outputId": "c76bb445-0a41-490f-ee43-b1d68ed68585"
      },
      "outputs": [
        {
          "name": "stdout",
          "output_type": "stream",
          "text": [
            "<class 'pandas.core.frame.DataFrame'>\n",
            "RangeIndex: 1000 entries, 0 to 999\n",
            "Data columns (total 5 columns):\n",
            " #   Column         Non-Null Count  Dtype \n",
            "---  ------         --------------  ----- \n",
            " 0   order_id       1000 non-null   int64 \n",
            " 1   customer_id    1000 non-null   int64 \n",
            " 2   payment        1000 non-null   int64 \n",
            " 3   order_date     1000 non-null   object\n",
            " 4   delivery_date  1000 non-null   object\n",
            "dtypes: int64(3), object(2)\n",
            "memory usage: 39.2+ KB\n"
          ]
        }
      ],
      "source": [
        "orders_df.info()"
      ]
    },
    {
      "cell_type": "code",
      "execution_count": 11,
      "metadata": {
        "colab": {
          "base_uri": "https://localhost:8080/"
        },
        "id": "8Et5SXsdgsPQ",
        "outputId": "cf9a75dc-42e9-48a3-8c09-9d92fb865727"
      },
      "outputs": [
        {
          "data": {
            "text/plain": [
              "order_id         0\n",
              "customer_id      0\n",
              "payment          0\n",
              "order_date       0\n",
              "delivery_date    0\n",
              "dtype: int64"
            ]
          },
          "execution_count": 11,
          "metadata": {},
          "output_type": "execute_result"
        }
      ],
      "source": [
        "orders_df.isna().sum()"
      ]
    },
    {
      "cell_type": "code",
      "execution_count": 12,
      "metadata": {
        "colab": {
          "base_uri": "https://localhost:8080/"
        },
        "id": "aj-QDz4Rg0tT",
        "outputId": "84063730-2efd-4844-bc02-1520f697a482"
      },
      "outputs": [
        {
          "name": "stdout",
          "output_type": "stream",
          "text": [
            "Jumlah duplikasi:  0\n"
          ]
        }
      ],
      "source": [
        "print(\"Jumlah duplikasi: \", orders_df.duplicated().sum())"
      ]
    },
    {
      "cell_type": "code",
      "execution_count": 13,
      "metadata": {
        "colab": {
          "base_uri": "https://localhost:8080/",
          "height": 300
        },
        "id": "MZXA-WkthDeB",
        "outputId": "bdd0aa71-60b0-4dd4-d821-a457735c6f42"
      },
      "outputs": [
        {
          "data": {
            "text/html": [
              "<div>\n",
              "<style scoped>\n",
              "    .dataframe tbody tr th:only-of-type {\n",
              "        vertical-align: middle;\n",
              "    }\n",
              "\n",
              "    .dataframe tbody tr th {\n",
              "        vertical-align: top;\n",
              "    }\n",
              "\n",
              "    .dataframe thead th {\n",
              "        text-align: right;\n",
              "    }\n",
              "</style>\n",
              "<table border=\"1\" class=\"dataframe\">\n",
              "  <thead>\n",
              "    <tr style=\"text-align: right;\">\n",
              "      <th></th>\n",
              "      <th>order_id</th>\n",
              "      <th>customer_id</th>\n",
              "      <th>payment</th>\n",
              "    </tr>\n",
              "  </thead>\n",
              "  <tbody>\n",
              "    <tr>\n",
              "      <th>count</th>\n",
              "      <td>1000.000000</td>\n",
              "      <td>1000.000000</td>\n",
              "      <td>1000.000000</td>\n",
              "    </tr>\n",
              "    <tr>\n",
              "      <th>mean</th>\n",
              "      <td>500.500000</td>\n",
              "      <td>506.640000</td>\n",
              "      <td>33972.936000</td>\n",
              "    </tr>\n",
              "    <tr>\n",
              "      <th>std</th>\n",
              "      <td>288.819436</td>\n",
              "      <td>277.115502</td>\n",
              "      <td>14451.609047</td>\n",
              "    </tr>\n",
              "    <tr>\n",
              "      <th>min</th>\n",
              "      <td>1.000000</td>\n",
              "      <td>1.000000</td>\n",
              "      <td>10043.000000</td>\n",
              "    </tr>\n",
              "    <tr>\n",
              "      <th>25%</th>\n",
              "      <td>250.750000</td>\n",
              "      <td>275.250000</td>\n",
              "      <td>21329.250000</td>\n",
              "    </tr>\n",
              "    <tr>\n",
              "      <th>50%</th>\n",
              "      <td>500.500000</td>\n",
              "      <td>515.000000</td>\n",
              "      <td>33697.500000</td>\n",
              "    </tr>\n",
              "    <tr>\n",
              "      <th>75%</th>\n",
              "      <td>750.250000</td>\n",
              "      <td>737.250000</td>\n",
              "      <td>46249.000000</td>\n",
              "    </tr>\n",
              "    <tr>\n",
              "      <th>max</th>\n",
              "      <td>1000.000000</td>\n",
              "      <td>1000.000000</td>\n",
              "      <td>59910.000000</td>\n",
              "    </tr>\n",
              "  </tbody>\n",
              "</table>\n",
              "</div>"
            ],
            "text/plain": [
              "          order_id  customer_id       payment\n",
              "count  1000.000000  1000.000000   1000.000000\n",
              "mean    500.500000   506.640000  33972.936000\n",
              "std     288.819436   277.115502  14451.609047\n",
              "min       1.000000     1.000000  10043.000000\n",
              "25%     250.750000   275.250000  21329.250000\n",
              "50%     500.500000   515.000000  33697.500000\n",
              "75%     750.250000   737.250000  46249.000000\n",
              "max    1000.000000  1000.000000  59910.000000"
            ]
          },
          "execution_count": 13,
          "metadata": {},
          "output_type": "execute_result"
        }
      ],
      "source": [
        "orders_df.describe()"
      ]
    },
    {
      "cell_type": "markdown",
      "metadata": {
        "id": "w7sSv75ohSPp"
      },
      "source": [
        "**Menilai Data product_df**"
      ]
    },
    {
      "cell_type": "code",
      "execution_count": 14,
      "metadata": {
        "colab": {
          "base_uri": "https://localhost:8080/"
        },
        "id": "XMH5TGEMhWWr",
        "outputId": "bc701c1e-9dd4-4d13-c852-b19376738194"
      },
      "outputs": [
        {
          "name": "stdout",
          "output_type": "stream",
          "text": [
            "<class 'pandas.core.frame.DataFrame'>\n",
            "RangeIndex: 1266 entries, 0 to 1265\n",
            "Data columns (total 8 columns):\n",
            " #   Column        Non-Null Count  Dtype \n",
            "---  ------        --------------  ----- \n",
            " 0   product_id    1266 non-null   int64 \n",
            " 1   product_type  1266 non-null   object\n",
            " 2   product_name  1266 non-null   object\n",
            " 3   size          1266 non-null   object\n",
            " 4   colour        1266 non-null   object\n",
            " 5   price         1266 non-null   int64 \n",
            " 6   quantity      1266 non-null   int64 \n",
            " 7   description   1266 non-null   object\n",
            "dtypes: int64(3), object(5)\n",
            "memory usage: 79.3+ KB\n"
          ]
        }
      ],
      "source": [
        "product_df.info()"
      ]
    },
    {
      "cell_type": "code",
      "execution_count": 15,
      "metadata": {
        "colab": {
          "base_uri": "https://localhost:8080/"
        },
        "id": "7WEg5Fb7hqGt",
        "outputId": "5ea28ee5-c6e2-48eb-de8f-53c82a5b4a2a"
      },
      "outputs": [
        {
          "data": {
            "text/plain": [
              "product_id      0\n",
              "product_type    0\n",
              "product_name    0\n",
              "size            0\n",
              "colour          0\n",
              "price           0\n",
              "quantity        0\n",
              "description     0\n",
              "dtype: int64"
            ]
          },
          "execution_count": 15,
          "metadata": {},
          "output_type": "execute_result"
        }
      ],
      "source": [
        "product_df.isna().sum()"
      ]
    },
    {
      "cell_type": "code",
      "execution_count": 16,
      "metadata": {
        "colab": {
          "base_uri": "https://localhost:8080/"
        },
        "id": "C7VrYh3GhwS6",
        "outputId": "92e1204d-7fac-4ff8-c035-515916aabbfb"
      },
      "outputs": [
        {
          "name": "stdout",
          "output_type": "stream",
          "text": [
            "Jumlah duplikasi:  6\n"
          ]
        }
      ],
      "source": [
        "print(\"Jumlah duplikasi: \",product_df.duplicated().sum())"
      ]
    },
    {
      "cell_type": "code",
      "execution_count": 17,
      "metadata": {
        "colab": {
          "base_uri": "https://localhost:8080/",
          "height": 300
        },
        "id": "ht38JrQPh_RY",
        "outputId": "15aa5487-7e65-4b35-bdf7-d190b23a8cab"
      },
      "outputs": [
        {
          "data": {
            "text/html": [
              "<div>\n",
              "<style scoped>\n",
              "    .dataframe tbody tr th:only-of-type {\n",
              "        vertical-align: middle;\n",
              "    }\n",
              "\n",
              "    .dataframe tbody tr th {\n",
              "        vertical-align: top;\n",
              "    }\n",
              "\n",
              "    .dataframe thead th {\n",
              "        text-align: right;\n",
              "    }\n",
              "</style>\n",
              "<table border=\"1\" class=\"dataframe\">\n",
              "  <thead>\n",
              "    <tr style=\"text-align: right;\">\n",
              "      <th></th>\n",
              "      <th>product_id</th>\n",
              "      <th>price</th>\n",
              "      <th>quantity</th>\n",
              "    </tr>\n",
              "  </thead>\n",
              "  <tbody>\n",
              "    <tr>\n",
              "      <th>count</th>\n",
              "      <td>1266.000000</td>\n",
              "      <td>1266.000000</td>\n",
              "      <td>1266.000000</td>\n",
              "    </tr>\n",
              "    <tr>\n",
              "      <th>mean</th>\n",
              "      <td>627.926540</td>\n",
              "      <td>105.812006</td>\n",
              "      <td>60.138231</td>\n",
              "    </tr>\n",
              "    <tr>\n",
              "      <th>std</th>\n",
              "      <td>363.971586</td>\n",
              "      <td>9.715611</td>\n",
              "      <td>11.682791</td>\n",
              "    </tr>\n",
              "    <tr>\n",
              "      <th>min</th>\n",
              "      <td>0.000000</td>\n",
              "      <td>90.000000</td>\n",
              "      <td>40.000000</td>\n",
              "    </tr>\n",
              "    <tr>\n",
              "      <th>25%</th>\n",
              "      <td>313.250000</td>\n",
              "      <td>95.250000</td>\n",
              "      <td>50.000000</td>\n",
              "    </tr>\n",
              "    <tr>\n",
              "      <th>50%</th>\n",
              "      <td>626.500000</td>\n",
              "      <td>109.000000</td>\n",
              "      <td>60.000000</td>\n",
              "    </tr>\n",
              "    <tr>\n",
              "      <th>75%</th>\n",
              "      <td>942.750000</td>\n",
              "      <td>114.000000</td>\n",
              "      <td>70.000000</td>\n",
              "    </tr>\n",
              "    <tr>\n",
              "      <th>max</th>\n",
              "      <td>1259.000000</td>\n",
              "      <td>119.000000</td>\n",
              "      <td>80.000000</td>\n",
              "    </tr>\n",
              "  </tbody>\n",
              "</table>\n",
              "</div>"
            ],
            "text/plain": [
              "        product_id        price     quantity\n",
              "count  1266.000000  1266.000000  1266.000000\n",
              "mean    627.926540   105.812006    60.138231\n",
              "std     363.971586     9.715611    11.682791\n",
              "min       0.000000    90.000000    40.000000\n",
              "25%     313.250000    95.250000    50.000000\n",
              "50%     626.500000   109.000000    60.000000\n",
              "75%     942.750000   114.000000    70.000000\n",
              "max    1259.000000   119.000000    80.000000"
            ]
          },
          "execution_count": 17,
          "metadata": {},
          "output_type": "execute_result"
        }
      ],
      "source": [
        "product_df.describe()"
      ]
    },
    {
      "cell_type": "markdown",
      "metadata": {
        "id": "VzbPOuQ_iLbY"
      },
      "source": [
        "**Menilai data sales_df**"
      ]
    },
    {
      "cell_type": "code",
      "execution_count": 18,
      "metadata": {
        "colab": {
          "base_uri": "https://localhost:8080/"
        },
        "id": "oe7Usii5iR0s",
        "outputId": "27a0e57d-a1f1-433e-fa52-942915d1f0b8"
      },
      "outputs": [
        {
          "name": "stdout",
          "output_type": "stream",
          "text": [
            "<class 'pandas.core.frame.DataFrame'>\n",
            "RangeIndex: 5000 entries, 0 to 4999\n",
            "Data columns (total 6 columns):\n",
            " #   Column          Non-Null Count  Dtype  \n",
            "---  ------          --------------  -----  \n",
            " 0   sales_id        5000 non-null   int64  \n",
            " 1   order_id        5000 non-null   int64  \n",
            " 2   product_id      5000 non-null   int64  \n",
            " 3   price_per_unit  5000 non-null   int64  \n",
            " 4   quantity        5000 non-null   int64  \n",
            " 5   total_price     4981 non-null   float64\n",
            "dtypes: float64(1), int64(5)\n",
            "memory usage: 234.5 KB\n"
          ]
        }
      ],
      "source": [
        "sales_df.info()"
      ]
    },
    {
      "cell_type": "code",
      "execution_count": 19,
      "metadata": {
        "colab": {
          "base_uri": "https://localhost:8080/"
        },
        "id": "wJ5nBe97iUUz",
        "outputId": "997b7afc-5432-41d5-9356-2031fbc14cb9"
      },
      "outputs": [
        {
          "data": {
            "text/plain": [
              "sales_id           0\n",
              "order_id           0\n",
              "product_id         0\n",
              "price_per_unit     0\n",
              "quantity           0\n",
              "total_price       19\n",
              "dtype: int64"
            ]
          },
          "execution_count": 19,
          "metadata": {},
          "output_type": "execute_result"
        }
      ],
      "source": [
        "sales_df.isna().sum()"
      ]
    },
    {
      "cell_type": "code",
      "execution_count": 20,
      "metadata": {
        "colab": {
          "base_uri": "https://localhost:8080/"
        },
        "id": "jtn5FiNTicFm",
        "outputId": "696f864e-3979-4c6d-86d3-6f0cee1bb422"
      },
      "outputs": [
        {
          "name": "stdout",
          "output_type": "stream",
          "text": [
            "Jumlah duplikasi:  0\n"
          ]
        }
      ],
      "source": [
        "print(\"Jumlah duplikasi: \",sales_df.duplicated().sum())"
      ]
    },
    {
      "cell_type": "code",
      "execution_count": 21,
      "metadata": {
        "colab": {
          "base_uri": "https://localhost:8080/",
          "height": 300
        },
        "id": "v0LU2f1diihh",
        "outputId": "338cf2d9-b2d9-4cbe-f644-bb9458fba4ac"
      },
      "outputs": [
        {
          "data": {
            "text/html": [
              "<div>\n",
              "<style scoped>\n",
              "    .dataframe tbody tr th:only-of-type {\n",
              "        vertical-align: middle;\n",
              "    }\n",
              "\n",
              "    .dataframe tbody tr th {\n",
              "        vertical-align: top;\n",
              "    }\n",
              "\n",
              "    .dataframe thead th {\n",
              "        text-align: right;\n",
              "    }\n",
              "</style>\n",
              "<table border=\"1\" class=\"dataframe\">\n",
              "  <thead>\n",
              "    <tr style=\"text-align: right;\">\n",
              "      <th></th>\n",
              "      <th>sales_id</th>\n",
              "      <th>order_id</th>\n",
              "      <th>product_id</th>\n",
              "      <th>price_per_unit</th>\n",
              "      <th>quantity</th>\n",
              "      <th>total_price</th>\n",
              "    </tr>\n",
              "  </thead>\n",
              "  <tbody>\n",
              "    <tr>\n",
              "      <th>count</th>\n",
              "      <td>5000.000000</td>\n",
              "      <td>5000.000000</td>\n",
              "      <td>5000.000000</td>\n",
              "      <td>5000.000000</td>\n",
              "      <td>5000.00000</td>\n",
              "      <td>4981.000000</td>\n",
              "    </tr>\n",
              "    <tr>\n",
              "      <th>mean</th>\n",
              "      <td>2499.500000</td>\n",
              "      <td>503.038200</td>\n",
              "      <td>634.053200</td>\n",
              "      <td>103.501600</td>\n",
              "      <td>1.99240</td>\n",
              "      <td>206.307368</td>\n",
              "    </tr>\n",
              "    <tr>\n",
              "      <th>std</th>\n",
              "      <td>1443.520003</td>\n",
              "      <td>285.964418</td>\n",
              "      <td>363.255794</td>\n",
              "      <td>9.195004</td>\n",
              "      <td>0.80751</td>\n",
              "      <td>86.352449</td>\n",
              "    </tr>\n",
              "    <tr>\n",
              "      <th>min</th>\n",
              "      <td>0.000000</td>\n",
              "      <td>1.000000</td>\n",
              "      <td>1.000000</td>\n",
              "      <td>90.000000</td>\n",
              "      <td>1.00000</td>\n",
              "      <td>90.000000</td>\n",
              "    </tr>\n",
              "    <tr>\n",
              "      <th>25%</th>\n",
              "      <td>1249.750000</td>\n",
              "      <td>258.000000</td>\n",
              "      <td>323.000000</td>\n",
              "      <td>95.000000</td>\n",
              "      <td>1.00000</td>\n",
              "      <td>112.000000</td>\n",
              "    </tr>\n",
              "    <tr>\n",
              "      <th>50%</th>\n",
              "      <td>2499.500000</td>\n",
              "      <td>504.500000</td>\n",
              "      <td>635.000000</td>\n",
              "      <td>102.000000</td>\n",
              "      <td>2.00000</td>\n",
              "      <td>204.000000</td>\n",
              "    </tr>\n",
              "    <tr>\n",
              "      <th>75%</th>\n",
              "      <td>3749.250000</td>\n",
              "      <td>749.000000</td>\n",
              "      <td>951.000000</td>\n",
              "      <td>112.000000</td>\n",
              "      <td>3.00000</td>\n",
              "      <td>285.000000</td>\n",
              "    </tr>\n",
              "    <tr>\n",
              "      <th>max</th>\n",
              "      <td>4999.000000</td>\n",
              "      <td>999.000000</td>\n",
              "      <td>1259.000000</td>\n",
              "      <td>119.000000</td>\n",
              "      <td>3.00000</td>\n",
              "      <td>357.000000</td>\n",
              "    </tr>\n",
              "  </tbody>\n",
              "</table>\n",
              "</div>"
            ],
            "text/plain": [
              "          sales_id     order_id   product_id  price_per_unit    quantity  \\\n",
              "count  5000.000000  5000.000000  5000.000000     5000.000000  5000.00000   \n",
              "mean   2499.500000   503.038200   634.053200      103.501600     1.99240   \n",
              "std    1443.520003   285.964418   363.255794        9.195004     0.80751   \n",
              "min       0.000000     1.000000     1.000000       90.000000     1.00000   \n",
              "25%    1249.750000   258.000000   323.000000       95.000000     1.00000   \n",
              "50%    2499.500000   504.500000   635.000000      102.000000     2.00000   \n",
              "75%    3749.250000   749.000000   951.000000      112.000000     3.00000   \n",
              "max    4999.000000   999.000000  1259.000000      119.000000     3.00000   \n",
              "\n",
              "       total_price  \n",
              "count  4981.000000  \n",
              "mean    206.307368  \n",
              "std      86.352449  \n",
              "min      90.000000  \n",
              "25%     112.000000  \n",
              "50%     204.000000  \n",
              "75%     285.000000  \n",
              "max     357.000000  "
            ]
          },
          "execution_count": 21,
          "metadata": {},
          "output_type": "execute_result"
        }
      ],
      "source": [
        "sales_df.describe()"
      ]
    },
    {
      "cell_type": "markdown",
      "metadata": {
        "id": "tOvy4PmRjxcB"
      },
      "source": [
        "![image.png](data:image/png;base64,iVBORw0KGgoAAAANSUhEUgAAA3sAAAKpCAYAAAAFTDVzAAAAAXNSR0IArs4c6QAAAARnQU1BAACxjwv8YQUAAAAJcEhZcwAADsMAAA7DAcdvqGQAAMSASURBVHhe7P0PVFTnvT/6v/uN644n3g5pWqk9zRhyHJtWiDZic1aGFSpUl9J4CUIqGI8QXULNOSCeIsRFRH4Ew1KUs/iXKwW/GEys4DkoskjAhZmx9DK514KGdEhMwIQyrqYZe9JAl6nzvfb29+y9H2BmGGAQjDC8X2tt3X8e9uzZ+9nPPJ+9n2fvry1a9N2/g4iIiIiIiPzK/5D/ExERERERkR9hsEdEREREROSHGOwRERERERH5IQZ7REREREREfojBHhERERERkR9isEdEREREROSHZsSrF0ymH8sxIiIiIiKiuc1q/bUcm5oZE+xN1xei2Yv5gGhm4TlJ/oJ5mSbCPEIzyXTmRzbjJCIiIiIi8kMM9oiIiIiIiPwQgz0iIiIiIiI/xGCPiIiIiIjIDzHYIyIiIiIi8kMM9oiIiIiIiPwQgz0iIiIiIiI/xGCPiIiIiIjIDzHYIyIiIiIi8kMM9oiIiIiIiPwQgz0iIiIiIiI/xGCPiIiIiIjIDzHYIyIiIiIi8kMM9oiIiIiIiPwQgz0iIiIiIiI/xGCPiIiIiIjIDzHYIyIiIiIi8kMM9oiIiIiIiPwQgz0iIiIiIiI/xGCPiIiIiIjIDzHYo7ljUwXae7rQfMgkZ8wEB2Hu/wS22mQ5TUQIysZZ21V01EzzeXG31vsVK7R8gn7bSaTIaZobUmq70N/fikI5DRiwr6ELPR3VzAtEU+DvZSqDPZrVtB8/cZKOOwz9OP5v0On00Ou/pU4R0d2SjFM27fzrqImX87wxIL9FnqceP7TzdToEBCyUU9Pnbq2X/NSRVpffkpGhx3YJzVUZiAmS6e6V+TroAgIQKCfpHthxEjaRJ8xH5DTRDMNgj2a17osNaDjTODyYrznF3BvodJnXcKYFl5XEp7dj1eJHEPZCozLlB7LR/HEXTu2Qk0QzzW0g8IlNSJOTowT9G8KWyXFXfQWIWvoIlsYUyBnT5G6tl/zcIDor0rFrtzIUoebMeXTc0CF4XSpKm5qQv0Ym+8rZcWD997F4aRwOyDnTi78xND32tbAF073EYI9mtfaKXPkDrA3Wz5RgbwA9LvOUH+daLblfMWSbYJwnJ4hmIMe1XjgXBCMyQ87wEJYh8vDtbnT3yRlEM9Qtx9DFw3Lk7N6JzRErEFZggUMXjKQj/tn8i78xNC2CshH2sByne4LBHs0dXppaqM1AleZja7Jxynp1pInOu60o3RYsU7kQ6V6zdKHnY9mcp6cL5uJEGOTi8Ri2lsD8rstnXGpC6dZ/kEtdBEVjX00rOmwjaT0/J01sd/vOYOigR9h+mcalL0fwthKctbpspxhs1pPYd8+uQNNcNP+/rWh36BC6Ns/LORKP5CcNcL5nwe/+JmcN89aXNUI9L2w9I3laPS+qMxAmUyjnWPMll6bdH1+FTZxnhZtkAi/rVcuAd0UZ8IxSBrj8ra0Np7IjZKohBsTsP4l22URVHXquoucDOTTlyXQugvLQLM7DngZvEa9y50Sso0Xun+WJKK1vc/+OXrfDk/a9vDUjG93PS2FAUnGTKGNGPoflw+TZK7Yj64IdeNCEjXkjOVzt/2M5KKdcTMdvkAfvfY1EAFrsfq4ozU5fS5WLp+E3hnlofJMvV6phFmXX8G+2Una1liBpVDPhCY6tQilHWj3WdalatrCYXFkxnJdd8+dwfvNhu9NFnjcnI3gBoDdla2k8Pn9UuT1BmWfIaxLpruKstyJ1v7LsEzQPnY93Wqaq56r3u9rez7mZfT4w2CO6PwS7jiZi8acNOLw7HTnl52GfZ0RM3q/cT/RwUUgeTUbk1+1oVu8oFqH2PScMsXk4Wz1evyRhUwXO5kXDOM+OlnL5tx/oELl/NQKVm5Gu+hYj+AcBuNFZp27PrtxytPQBxthslKZrSczHcrDrTVHJcGteVIAabTEeWLEMS502uZ3pOHzqMm4tNCFlf8lwxZjo7ruOlu4bwDIT0jwrLZvWIURkfpulSM4YX0ptMVIiAuG4qNxZ0c6Lhk4HcJ8T7UoCcX7WKOcYelFbqJ0Th1+3oue2E/P/qK5ibHpRBhxRyoCLKMtVyoBGdH4ZiLCdxW5lgGH/URzeYUJA7wlkJYQjansuarqd0ImKTG9jFjKLT8uULvqOoeMjQLdcBKty1rD9JgTPA7qtuVDOZjwQipAlTvzuTfkdC+vkduShNFz9i2mR8kYT8mONcL57YrjMc+hF+XC0CfvudR+0WcZ8yCpynKiC//NWbcad8PU3yCcmFLbWi+NrwMB751FbXoSyU+fR8WkPeptkkmn4jWEe8oGP5YrSHNewLAR6Rydq/0PZz7koe1vs+0dFUF7kGsX5cGyVekp9HmKCBmA7X4eywnLUnu+E46NeNMgkk3bfUpwtS8Zjzk60KHe3z11Et7rAh+22HMO+PSI/i9HBy1UyH6XjwAltsRJUNb8iyu1bNtQo5baSFz8NEPvoKJr3j1xAcWU/3onu28pFxGw5Z8Q+UzBwuxvtuWqJyjJVYrBHNE+PW6KyFRa3F2WiIKsp3InIf61D7209wp4duSORlh4jKpLdqHx2gygwTqjNebLi4lD7PhC4euvoipyLfdvXIVAJ9HavRYr825yktThgdUKvk4mGlWPzE08gKkkUnErBerwIKckXRWGpw9IfJaopui+I+Te1KHGkeZFFFsBAu/ickIgtcjsbUfZiHCo7B4GgZXhGpiH6KtT+z8si7xrVJpuu0uJNCHRYUVciZ0zA+G09cK0ZkclKnyntvNiVsBaRSeVagu8ZxDk2iI7KOGSJSpWa73O3Y6MpDrvatCRjGi4DRIB4XCkD0rFxj3LO6fHYau2cUySJioROVCRqY3JRa7WL8/CEqEBo56bhuw+g4cLQGejKjhyrmD8vGGH75SyVAflKxeTmZZhflrPa0hH5w7XYrPYLE9+hfC82VneK6rYBIU/LNFMVXoKkcD0cF8T3/RetjFHLvJe1Jokx+6NlQvJJ3zV8JopWfEsEZ9qcyfPxN8gn6RnY+KgO9jdfEOvbiSxR2T/84k5sXrsFB4abS0/xN4Z5yDc+liuKsoQnsGrDdjUgbDgjAobk7TCL46Vb8iSSZBpfjq1aT9GJusYL4dj4wl4cFgFh1gtbEPkvBeJz71DQSiztKkCUqFOkKAHTS1XaBTZhwu1+zyLmfwE1J926IfNRI8zvKTNMKE00iWDRgpzwLdo6lLy4tgBmhw7B0SJoVZJ56stF+0fi/++Z3OtdQXkI+x7U1iLDfVhZpqoY7BGJ077nYp0cl9r2ouOa+P/hECSoM5JhEoUsrl+DbWU0YmKHhsfRbRdF6DwDgrepCb1IRvBD4r++K8i/oM0ZUnvOBoccH1efDf1KhWLeqMjQZ5XXffokounVdgKd4sff8OQOlx/uDEQu08HRfd7n/rT2z0V1YUkUzMXJCPN2pfSjP2FAVKJWpZxE/qaJm7+5uwHbOc8yoNP7Oed0ahWXIX1/1abHOzdfbkHnTSDY5FJxD9qBVUrF5H0LDstZXlXYtTLiPnVqygzRy8Q2iDKv+68u5ZgYbtthF9sYaJhJr6aZRebrpvBETF9+g3yT8qRRhGx2dB6yyDk+msRvDPOQryZRroxih+0PIuE8ETjJORMfW1lP8VLXmJpevLW3ysdgcfR2jykoGiGiLB/s7cYt13wU+1fYr4tSNdAgwkHvDjRfhlO5gObSfNqwLRTB83xoLTIHy1QGe0TitLcfl6Muev9bFFgL9NAe0r4Eyo0FLIlGaXGJ21C4ThY2YxYc2t8O/sE2urA84xBFhKdgJB06qbWD/0C2ke/PRpjy+T4yPJOBSqWdutKPaKgt/SajXEr0VbLisKVb/OKFIEb2nTPkRSB0gR3W/+lRERpHWUYBGj7UmpqdMneho6kCmc+43PNoS0dOhRWOr5uQdKRJ7fN06lCiOJt8MQDHGTk6jhprN5wLViKpIQ8JJgMMpnjkN0TBKMK9nt+2yFTelMP8vqi8fC8UKTJQ1Somg+holncmFaLyk1lVj/Z3xXk73MckXqx/+kQ9pIQkeoSlu5djpcWJ4piIRXwgx50Z/Mtwy4rJ8+U3yDfqHfBBUeEevovnzdR+Y5iHfOVbuaII3nYQp1ovuf1m7zO5H5CJj+04dY2pGHSgd4zP9GW7x7TGoF4g0ZtSPfJRCZJWThAqllhgUy6g/fMOeQHNgJR/FqX9YCeaXVuLsExVMdgjmoRBawEWL37Ey7ACm4/JRFMi2+RvDoHu42aUvpSFlIRwsf4CtI+OCr1T2sCXpSLi4UFYjxcgc892RCnbeFrpWUL01dP6WCxEWLzSj8OEzAjxo3xNBIETNa901XcCu9auQFhCAWovOTB/2TqklbWi/ejIQyXMBVsQ9oMNyCo/j97/ZUDY5jw0d9RPWyd5+8sv4MA5O3QrE1FY24b22oNIMA6gveIFbCwav3pVVicCUeVKdKqytQakhYt94OjEueFyIxmnGkqQttqAwd9W4cCL6Xh+g1K21Kl9wqaXHQ3hruWXyxCxV6Yhn4SHYrGo2zodPcNN22a2afiNUTEPTZewQ61oyIvHY7oevPVqFjLTRDkm9uMB66QOyFduurbbfkbJf17y0eK1yJJpRitH3SWX/uDyNT6OzkZUagkElqlDGOwRIRCGUU0wDdpVtJuDEMWJoPXL0C8OvYMHnNzAwE3xt99cIqddhD/g3tQhdgciH9XBYSkQlVqt/0aLValEyjuLPtj3rAl6pV/Rsxtk/0Ctn0XSojtvZEQ0JX25ML/nhG5ZhAhy4hEqfpy72169o6vPdmsVshLWIiQyHQ3XxJn69FaPh7+IvF+4E1FPfB9RRVYMBq5Ewo7per/Teqx/ygCnVZyf8od8aUg4Nhf40GTu9HnYHIAx9N9gEBWTVaI4cGvGuv8ZhD0otv5XcYiS/RLVfi3btKvfvtAtGN1cKGC++xXy5j8OiH9FmRenTdPUJDy/Ur3Y0HvZo+mY7oHRvxUB88do2ubLb5BvetUfKoPaPM6rafiNYR6aTtFI/okROocFB8K3aP2N37SqZaPxm+4HZMJjO1RP+ceQ4QtgY/GlrBif79s9pgtK03uRk4KGH5c8KbVvKt1gjFiVaoAhNVSM3YDtTZfWIlMuU3WYHyBHh5nwgMdumg3nA4M9IuixdLXH0zTX7NHeC/N7m6yMVcH6oRN46Emk7pyoGPV0Grbfi/+WhKLQ4+lPkZuVtt4uHhSFi/jP+WerNi0Z9o9TeHs0EVAf+PLlAOxuzS7iEfF9HwtgortAacqpNIFMOPgkDMpDSYaelnan+hpxuEvpeREAEc951V1yEb9TKj8PTKYh3Di2rcZjovIw8MfP5IzJqEPDe6LaLsqBzN1KxcSOy67NWNUTdxBffOq+XxKeWipKKN8EfudJOSYFZWh9eFzYz1wRn6xD6DMliJTz6M5EZit3jUXeun4eh4cesqO4LYZvLPTob2RA5lPKqwy88eU3yDeV79nhFJ8V+uIYj5afht8Y5qHp9G3olAPy5V/c7wwHZeMxj6BuwmMr6indfaKeEvQ4ciZozeBLWTE+37d7TH11an9u3fJnUHonrS9ON8gLaHuQGWoU5+FlVLk+EHkqZar6OiAdAo0eQfGaRO0ZDC5mw/nAYI/othMBpjy0v5GHtNhoJGVVwFwcDcO8GzBXy0eiC2UlDeh16hGW1QRzjZY2JjUPpTVN6Gjw8n6tYXbk/JcVg/OMSPiPJhSmKp13E5FZ1SoKuAAMKhWDIcfeQc9N8cO7phqlLumaNweqdwfdWK/BIYqsVc9VyG1JVDvyn7OJLdaHIqU2D0nq/IM4a81DiJfegURfmZLTaBc/zIaHFk78UJJRkvGa9RKaaw4ic5tyXmjnac0aUT112NCi9Is51ASb5SQq81JlB/lUFNYnY5XeiW7r69pqpur4Mbx1TXndSgna1b4fcvi4C+212RP+0De89o4oDYyIWicqJn1XUOPajLXxfbFMnM/bTyJf/Y7K9rchf7lSXZnIq2qfQKV5qbkqQz3vk7JKcPZ0MpY6Pf66LR01FhF0BkXjl9Z6lGYlauXMoQqcsrTitTEfNDW3zQ8cyncHUXr0JMwdV/HazpXQO6w4vHMnzDKdouw3sm9na4WWX7dloLS+HilBTu/H0sffIJ8UFOGskkefPor2+hL189PySvCa+PxS5dhOw28M89B0kheSg1ajplgru9Tj35SIhQNivquJjq1woFippxiw/mgbzhYrZUEq8ourcbahRD7VcxJlxbgmsd2wovePSrVkKyrVPJeKJPVmnhW7TlhEHjMgZnh7tXOssrZV5H33J5aO1oiqd8TZ8fA6RD0salqdJ9wDz6mUqccb0aH8Xq0pxtlD2vdLy6sW5+VqBCgPC3M1C84HBntE8+xo3lMHx/fikVlcgvzUdTDc7kXDS3F43vUqUdteRMblokEUlIFPiRNZ6YArTuqo0EAM2q/LRGM4tgXxuY3oVQI+UbCWFuchZcUgzu4pV+88jCjHrgKR7rYRMUPpfqT0RYqD2fMjzryCsjO9cD60TtuW9E3qwyja03JRaXUg4IlEUciL+b+IQmD/CWS9amO4R/dQnfbOPdxAe53LQ0l80o3uqwPqA1GUyo3S+T1/52oEftqInO3btTsfnTbYF4QgYquoWCv5XlQcNj56Cx3HspDy8qSqy2OIQH5LMRIecqDzTe3x4cOPEVeak5qSUVg1wSO22+SV7AWiYtJV514xcX3AjPodM/DT79hRs1eUEZ/LNGOy48BO7QE2hp8olTuxf5JFpeSDE9h1ZvR3r0yKw65jFtjvD9YuWIlyJu1nq/GYzoFe5QmQ5EGP0J0y36XGI2ZdKAL/PzvaT+UiatUWlKmPkR+h9u0UZTOC1mn5NScZkQ/aUCN+Z+yuF/eG+Pob5BMLsrZlodJiR8ByLRhQgoKwJTrcUlqbTcNvjIJ5aPqMPHxKK7vyk58ELhRgo/LOOjcTHVvhwl4k7akSxzIAIdFKWSACqGgTls7/q9pkcrJlxXh83+5G5JeJPHdTBKFKnjuSioQVctGx7dj4767bq51jEd/X4bO+iXvWtf/nFdjn6aAT51Dnf7rfrZ5amVqH5/dWof2GDqGbte+XGRcCp/h+By6PrknN9PPha4sWfffvcvyeMZl+DKv113KK5qp7kQ9Saruwz+RA7bgdgYnmJpbNLvY3oX+HEZ0l38fGUU/2TsYpWzbCbtTx4RQz1EzNy/wNmjlY3tFMMp35kXf2iIiIJiL7fwx8ok26CV+Cb98vln7GWxpERDSzMNgjIiKayCXlRbwLEba3Xva71Ya0QyfR/n/Gw/i3Xrx1rEomJiIimhkY7BEREU3k9HYkKf1uYcTGXyj9P7QhMzYE+LAROXFrkXVBpiUiIpohGOzRnFaZsALjv7iTiEjTfTwdUU+swNJ/cnlh7tIVCItLR43HQzqIfMHfICK62xjsERERERER+SEGe0RERERERH6IwR4REREREZEfYrBHRERERETkhxjsERERERER+SEGe0RERERERH6IwR4REREREZEfYrBHRERERETkhxjsERERERER+SEGe0RERERERH6IwR4REREREZEfYrBHRERERETkhxjsERERERER+SEGe0RERESTseMkbP2fwHxEThMRzVAM9oiIiIiIiPwQgz0iIiKir0psNTr6W1EoJ4mI7iYGe0RERERfkcioEATKcSKiu43BHhEREdEYIrNPot32Cfr7tcFmqcY+b9Ha8kSU1rfB1jOStt/WhlPZETJBNEotV/HauoVi3IiE4TQnkaIuNyBmfzXMl7rQ87Fc9vFV2FpLkBSkJiAimjQGe0REREReGPY34Zc7TQj88jJqC9OxK7cc5s9DkPRciEzh4oFQhCxx4ndvliNnt0hbWIfOLwMRtjMPpeFKgiuoO5KFysuDYtyOFiWNMrz4KpqVxWKeYVkI9I5O1P6HsiwXZW/bgUejsa8oVU1BRDRZDPaIiIiIRolGfnQwdDcvo3JTHLLKG9FwvAi74uJQe10PvUw1rC0dkT9ci827i1BzRqQt34uN1Z0YhAEhTysJ7Gh/sxGOW8q4E18oaZThTatYoilLeAKrNmxHjvJZZ07gcPJ2mPsA3ZInkSTTEBFNBoM9IiIiIk9BP8HSQGCwqwWHRcA1wo4ca7ccn0CFHQ7l//vUqTtgh+0Pg8A8EfDJOUREk8Fgj4iIiMjTmm8hQPznuF6lTbv6wwCUxphugqKRWVWP9nevome43148jHKxL4K3HcSp1kuwfSDWIfvt7TONuodIROQzBntEREREU5KMUw0lSFttwOBvq3DgxXQ8v+ERLF5ch16ZYiJhh1rRkBePx3Q9eOvVLGSmbUHY4kdwwDoqrCQi8hmDPSIiIiJPH/0FA+K/wEWJ2rSrgPnuzSr3P4OwB4HuX8UhKlnrs2d+T8zfZvDxNQvRSP6JETqHBQfCt2j9A2VfPuM3eWePiO4cgz0iIiIiT20W9DgA/Q/XyVcjDDEg86lg92BPr0wN4otPhx61okl4aunoB7modJjv9jqFb0M3X/z35V/Qrs3QBGXjMb52gYimgMEeERER0Sh1qHq7F069CZlt1cjcFo2Y2FQU1tcjxeiEU6ZSNb4PuwjrVm0/ifzhdG3IX66EgO4q37OLvzUgsjgPSbHRSNqZiDBUwfqhWGPQatQUp4q/F/OzKmBuSsTCAbdPIiKaFAZ7RERERF60v7gdmcescDwYgbS8EpQWZ+CnD15G6XPNw69LULWlI6dCpPu6CUlD6b5jR83ecvzuc5lmSEERaqx26JYnIr+4BPnbV6sPcSnLKEDDh4AxNkP8vZif/CRwoQAblXftERHdoa8tWvTdv8vxe8Zk+jGs1l/LKZqrmA+IZhaek+QvmJdpIswjNJNMZ37knT0iIiIiIiI/xGCPiIiIiIjIDzHYIyIiIiIi8kMM9oiIiIiIiPwQgz0iIiIiIiI/xGCPiIiIiIjIDzHYIyIiIiIi8kMM9oiIiIiIiPwQgz0iIiIiIiI/xGCPiIiIiIjIDzHYIyIiIiIi8kMM9oiIiIiIiPwQgz0iIiIiIiI/xGCPiIiIiIjIDzHYIyIiIiIi8kMM9oiIiIiIiPwQgz0iIiIiIiI/xGCPiIiIiIjIDzHYIyIiIiIi8kMM9oiIiIiIiPzQ1xYt+u7f5fg9YzL9WI4RERERERHNbVbrr+XY1MyYYG+6vhDNXswHRDMLz0nyF8zLNBHmEZpJpjM/shknERERERGRH2KwR0RERERE5IcY7BEREREREfkhBntERERERER+iMEeERERERGRH2KwR0RERERE5IcY7BEREREREfkhBntERERERER+iMEeERERERGRH2KwR0RERERE5IcY7BEREREREfkhBntERERERER+iMEeERERERGRH2KwR0RERERE5IcY7BEREREREfkhBntERERERER+iMEeERERERGRH2KwR0RERERE5IcY7BEREREREfkhBntERERERER+iMEe3YGDMPd/AlttspweEoF9tW3o+fgT9Ivl/R+3oXSdXERE9FXbcRI2URaZj8hpolmq0CJ+U20nkSKniTyl1HaJulcrCuU00RAGezRtwsrykGIKhOM35cjZnYuy10+j4bxcSERzglbhkBd8xhxYIZmM4PRqdPSI/WY5KOd4MiCpuAkdNpd9bLuE5uJEsYTujHZR0z3fjh5GX/SksQRvK0Hzpa6RC8JiML8iF85KyTjles6NNYx53hJ9NRjsTVJM9SWeuGN45vuiWjHYiZqkItScOYHDueUwy2VENDd0X2xAw5nG4cF8zSnm3kCny7yGMy24rCWfc/a1TCZAMCDmlSbUZZgQIOd4k1Bdj/xYI/BhHQ7vTscuUfa2fKpDcGw2ao5EyFQ0OVfQ7JZnL8Mh5jqvWVzmNeLsxW4t+Rwz2bpQ5JFWNORFw3i7F5bXi7BL5tOzXTLBrNQNyznXPGJB700x23HZZZ4Ymq9oyeea2Gp08MLejMBgb1Ii8NOQhXKcRpkn/yeiOau9IleryMnB+pkS7A2gx2Xert1FqNWSzy1B2Qh7WI5PKBhpNfU4vNUIx+kqdCiVSK8S8cxK8bvUdx4b4/aiTKlcHi9CytrdaPmjDkZTPMJkSpoMGTgPDz0YFHOdn73jMi8dORVWLfmcMsm60KZqFG4ywmktQKQpDikiyFODIJFPy07LNLOSFZUvueaRd/DZ38Tsv/S4zBNDYZ2WfI6JjApBoByne2v2B3vLE1Ha6tIs4OOrsF2qRppcrLZz93b1yUtfDsNWrYnB8K13dV1NopASC2NLYP6gGusXifEl8cNp3K7QrsnGaxbXbelCR1MJkoLkckndptaDCE6vgPndobTis1q1tJHZ1SPzlc+wiu+zXP7xsNHNdmzWk9i3Ri6Whr+/2LZT1qta2km0+1f2ifld+Xdi6BH7o3TrP8ilktLESGxHwhIxrjdhn5q2C6d2aIuJiMYWgX01rbApzRSVssOlLByhNalTyuvI7JNo/0BL61r+qvNdy0NLNfZ5q2kERauf12EbKdf6e7pg9mjyqDZHVcpK17JTDD3vtqJ0W7BMJfmyznTxm2NORvACpZjMHk43dn/CQBj+Eeg9/gIi94gwY9IX00SQfVuO0ldiVB3C1oZT2e53Vif8TQ7yqNN8oDXHnS8Xu1KaRZ61ujeLHF0PGDp3lDqDOM9c6ifttdmI8aifTLhOX+pCHtLiTQi82Y3avVWwy3lzlmc9cbyyR+YFbR+73iHTno/geizNNdneAyuljlwv0g6Vr8owTr7U6nwjadVj/4xHY/AJ1xmNUstVvLZOuSBgRMJwGvY5vVdmd7AXLgqx+jxRWA3Adr4OZYXlqD3fCcdHvWiQSXwm1lWjNDFAL2oLtasxh1+3oue2E/P/KJZfrkPhS1XoVC7t9Z0fvmKzp7RF/XOsEdtyNBmRCx1oV5so5KLsbVGsPRqN/AblpNWSDXsoCnWpKzFwUfZv+40DOpF234k2lO4IBX4r55/vFWkjkFly0O3qbMobTWqzHee7J9Srjznl5+EQgVbK0Sbs8/ys+5bibFkyHnN2okW5mnbuInxqeLKpAmeVfTLPjpZy5Wp9EWo/0CFy/2oEKhfrh1hex4H96WjpE+ODl1Gp7psslF/QFhMReWdCYetRpDwVAPubSpknyt3/7MYtETzl/1c1EmSqITpjPX65IwTOrvPqnYGhJnSG/U345U5RofzyslZ+K03IPw9B0nMh6nI3fYsR/IMA3Oh0afIoyi5jbDZK02WaIfeHYNfRRCz+tGG4nLXPMyIm71fuF7N8WaflGPbtEX8vRgcvVw3/hhw4oS0ezYKstU8gKtcip8dyAucu3xBBwmoUpo8EoZHZ2TA95ETvb06gXc6ju2jHSTS/In4vb9lQI/Ngy6cBCNt5FM37PSrLY/4mx6PytKjTPArY35bnw2kbdCJAiFzo+qOreWDFMix12tAs76YfPnUZtxaKesD+klF3cw3rRZ1BBGxWNa34Lb/iRKApGYer3OsWE65zorrQKMkwPaoDfm/FAaWOMJcpdValnvh1u9y/4ji854QhNg9nq+NloiEBiPpVHqK+YYdZySPDTd8N2NckykxTIG5d0cqbnIqLGPhBIhK8FHd4IBQhS5z4nSxflbuMnV8GinyZh9JwmWbIoig0562W9U+XY3+kGoWuaSdc5xXUHclC5WUlk4j6o5JGGV58Fc3KYvrKfW3Rou/+XY7fMybTj2G1/lpO+S6t/ioyf+RAy/ZwpIwRWChXKxJQh8URe+UcSbmzt98Ex+lHELlnaDoEv3t5BTYf05KMpnTGzUbYjdHrG2tbDBn1MKevhOPcFoSlac091G0SJ0pnyVpsLBq6zmUQ89vUu2Pdx8PFD/zI9a/MhqtIW2lH7eK1yFJmhJeg/Y1o6C7sxartLs0DNlWjQ+mfcSFdzG9UZ2mfJSoX1gJEJUzuqprStyRlmThRPb5TQs0lFEYsVNcZItY5RP2shaJAD9mCSjlvMu40HxDR3TEd56RylXqfyTFSfrlKr0dPRjB6j61F1MsjpZMhrwnt24LRfewRMV+Zo9ydiIcRg2gv2IDNFa4lWTRe6yhB5ILLKIuKw+HhCqUB+S1tSFoG9A6V82MJEmVqWzQC2nIR8i9a9KVttx4Oiyhnk1zKWaXC9prYlo9OIGx97thlqpd1Dn2PQI+yc2Jj//ZoIpDfVIyk5Xo4r3fD5jQg9GHxvRuLkLT7BO+mCFPPy+MdOxNK204i5n4RoK/a7tJEOV7kzYOIFIH7LjFfuQg97m/y/ib07wiG/c3tCHvBJciXv+2BgxP/vo4+3+S5c7sbNZEbkOMScGlpnTDveQLPj9OccvQ6J8qPrrTP172Zi+Zv7EDCEwbolbvUtwfhuNKAAxm5aJghQeDU88j4+0WtJy7vReXaDS6BryynvteNyn8S88WcobLHea0OPxfrcXv2gdIPrjgCAZfLERlTNJJ/gvLQbE5E8Lxe72Wtq52ivpst6r+nRLn4ojZrKF961j+H6sq3PMtBT17WOTrf0GRMZ514Ft/Zk1eL+q4gfzruIH30JwxAj1UpJ5G/yaOJzoTG3hZ7UQs6BsXpvCLe7TY9bveiczjQU9jR+5lyFaQXv3M90YTaPqVb+AhD9DKxrkH0dP8VMbHRI8NtO+w3gUCDSaYc0ou3Jt18IhnBD4n/vHyn2nM2taM6EdFUpDxphE6UWz22x93KstCr19XyyvC9RC3hkGvNyHIL9ISgn2BpoKg8d7W4BHoKO3KsPj48o8+GfqX4nSfKcTeinL3oUcFp24uOa+L/h0NG3Xl0M+Y67wbxe3KpUy3/dYuCEbpED3zpgK1LzJMp6C4KikZIkMgtvd245ZKPY2L/Cvt1p/KjLMJBV95/k1OWKbUEOzoPedzNPd0Am48/upXXx0h4zeYW6Ckqz9tEDl+IpRGedQZ3Y67TFzsMavPCgCdTkfDN91GTr93lOdzowPwfJY66s+i/ZD3x+jXYVrrmkcfRbRc5YZ4BwdtkUtUgOk56BHqCIdwo9qdY1uIS6Cn6ctH+kRyfiChD1SN6nzrlYnT9E8fO43efiyy8NGL84zTmOmkmmMXB3hJ8W/yeDf7BNj0/Zm1aR2vH101IOtKk9ss4dSgRvoV9422LKNBviP8e/BaitBmaLwd8Dpjst92bb0Q9pBSdeoSll6C02HVIROgCscizb8egA72TvnI2znc64xBFzUwRjEi3H9doRI7q30hEM5FRKWSUZpFu5ZgYDq3TLo55BEqDn10bXR6t+Zb6pErHdS93yv4w4KWsCkbSoZMwK4+A/2Coj102wsSmjOaA/bgcddH732KtC/SimjxkMuucbgakvFGP0h2iwv5/5SLqnx5BWEIBGj4NRExePcx8Gufdt0YLaPSmVPd8LIaklV6C/TF+k9XzYdAO26hljXD8RY66MDyTgUql75TIc8N9wDYZ5VJ3g/+tXKHwcFyroAd8Y6SmM5l1ToZ+8B3sWrsTh48rTRIbUbZ7LQ5YbkD3aCSSY2Uiv6bVqbAkelQeKVwnbwW4BUqi7PHSyixqkVrawV6hTbtyfOGlZhYUjcyqerS/K47ncB87pZWEF0q+lKMjTsD+Z/Gf/usj9eHJrJNmBD6N04W5YAvCfrABWeXn0fu/DAjbnIfmjvpRDz2ZGexoCH8Eixd7GSZsVuFPtmKfR8G5z+NmABHNYErTNG/lmBgm19TRF0ofwXrkbw6B7uNmlL6UhZSEcPFZBWi/4ytYd2OdkxC+B0nhC+Gw5CIs+YTa98turRIV6w0ouywCiE1e+ubQXWE/oxx3b3n5LjRjU/oIlqUi4uFBWI8XIHPPdkQpn3V6dHXdZ3djnZ87cUv813spfdRdqtrfKE841SPgETljDlCa73rPI+N1IbpTyTjVUIK01QYM/rYKB15Mx/MblM+q8xLU+epurJPutlkc7F2D0upR/48h7s0jvdE9MPr2c8B8eG9c043awp2IeuL7iCqyYjBwJRJ2TPROpPG2JRkG5fLv53+ato6pzX8cEP8GwhCnTd8dNzBwU3ynby6R0y7CHxhj390LexHpUWiO2zeHiGYMtem63oBVUwlGPvoL1BJxkZerPJ7lfOwORD6qE4FRAcIStNcUtFiVe4Xyqvsoopx1a1qlMGh3YG4OilJSmPQ6p9nqJWKLBtHzG8/+NHYcvtQLJwKw8HtyFt0dF5RuICK3BCmP7r5zNwac4nwI9HKHxIQHPH509z1rgv62qK88uwEphSegvONNCfSTFnl9JqP333LZxHLgz1pz58mu0ydnenHjttg3D3mpR6nnpwgGlZ3n92Q9cXHolJqtdv9Z1v9GlUvK7vTIJPufQdiD4m9+FYeoZOX9x40wvyfmb9OO+yhe856sww7+RXuI0GTXSTPCLA72qtDdJwrGoMeRM96dN+XR099Y6NFe3oDMp4InDFi6Sy7id8rJ+YDH+2Tu+wePoK4K1g+9b4shYz1WiR98e1edlyaed8Z+5opYlw6hz5QgUs6bfqdh+734b0mo+1OYhMjNSp9BIqKpqXxHCUYMMP2rqFDIeZPWZkGPQ5TTP1zn8VhvL+X8gzr1EfbOP7u/G82wf6yLhnosXe3xlLw1e7R35f3epj2IY9LrnGZ2pamqHotDRzfXTHg0UHz/AfzF1748dGf66tDZB+iWP4PSKbQEqu1S7o0YseqIRx+6NYlaH3oXeiVjfzkAu1uTz3hEfH+MKwxLQpDv9qRuA1LWhIiccwM9Fi3vTnqdo+pC3hTgrStO6FesR6bH52vnpwP26Xjuwown64kPPYnUnXdeMrRbesUe0+OxdR7Bc1CG1ifQlXpAB/HFp+61z4Snloo1eGPEY3nu22bYuRqPicSOHov2VN9Jr1OUj55PiKev3KxuxnmguAG9TgPWH23D2eIMJMWmIr+4GmcbSpAk05T9phvOBSuR1FqBzG3RiNmWgdL6eqQEOUV2dXGoCTbLSVTmpcq+X6korE8WgZoT3dbXZaKhAHM1SvMSRZpEpGzVCuWyjBPoVraluBWVWcqyaKQdqsfZnSuh+9yKGvkkzmnRlo4ai/Ko7Wj80lqPUvXzEpF5qAKnLK14zcsVn8mzI+e/rBicZ0TCfzShMFXZJ+IzqlrFj1kABvn+JiKaqpIinBUVIOW9c82t1chXyxmtHG++VI98mWx8dah6WwSNehMy26q1cl4tv0U5b3Qqb5sbcewd9NwUFZg11Sh1KdOaNweqLRlGue1EgCkP7W/kIU2U6UlZFTAXR8Mw7wbM1fJJnJNapxW9fxT1pdCtqJTfNWlqN4OA48fw1jURMj9dDHOV8js49P3bkB+xEM73WpDfJtPSXWLFrhMWUQk3IGa4PqLkl4OorG0VecW3vgX23HNo/1xUuWOL0XxIq4toeW41AtwqLMA5m8h9+lCk1OZpxzz1IM5a8xDiXrMZ5nQakfRfTbK+oJ0fmcoTH99vQI58Eqfv6xy7LuRN2VFRV5u3EmlNsn40VA9bqcNg22lkeem/6I/KSpQ6qx5hWU0w12hlSkxqHkprmtDRkCdTTeD0MZjVMjMD7TXyfFeO0+lkLP2bW2kHNL4vyig9Vm0/ifzhclGUC8uVcM2Lm04Yt9ajWeZftQ6bYYLe2Y2GXNlyYBLrrHzPrl7MiyzW8lPSzsQ58jCemWd299m7sBdJe6pgvh6AkGilgiAyaLQJS+f/VW1SobC//AIOnOkVhdI6pOWVoDQnGZEP2lCzpw5214Cl0wb7ghBEbBWFkNr3KwMbH72FjmNZSHF5JPiB4hNov65D6DZxgooMnBIhb3r3FSAqLlftFB+hvGtErCPzZ2LZh43IibmzVxGMpzIpDruOWWC/P1grLMS2pP1sNR7TOdDrpR/2HTm2BfG5jaKQFgFflrJPxPddMYize8rVO55ERFNjRdbaOOSc6cat70SIiq1W9iY9HYqFA9oTOX3R/uJ2ZB6zwvFghFbOi3X89MHLKH2u2WMd5dhVIMq020bEDJVpP1L6a8eJ3xGZxNU8O5rFb4Xje/HIFGV6fuo6GG73ouGlOJdH1U9mnY3ILxNpbxqwXkl7JBUJK+SiO2ZB1rYsVFocCFyt/A5q3z9heQDsZ3IRs6HA5/1IU3BsOzb+u2t9RMkvyl0xHT7r87U3UxU2J4p6xDUdjD/T6iL521Zi4FwWSt91/9FtT8tFpdWBgCcStWP+iygE9p9A1qvKEzZHc3aV4/AVHSLV+onIH4/r4LBW4efrR/LHZNY5Zl3IG1FXi3xB7JsbgViv1FeUi+rLdWr+jP+X6e6XO4O1if2g1BPfdyLwqUS1TFGC76jQQAzavRVA3ogyM1mc78pxekqe7+I4BYjjG/+mx5nu+uDBoXLxO3bU7BV1uM9lGld/60RpyWXoZDmSuXkl5t+wovIFl1dFTGadBUWosdqhW67lp/ztq/kQl3tkVr9nj/wL8wHRzDKXz0m+I8q/zN28fKfvdpx75nJ5N9X3JNP0m878yKdxEhERERER+SEGe3OUchVHezeK98F8RCYkIiIiIqJZicHeHJUV4f66As+Bry8gIiIiIprdGOwRERF5qExYgbvyMmyir5T2Llr216PxqDcA2F/PbzHYIyIiIiIi8kMM9oiIiIiIiPwQgz0iIiIiIiI/xGCPiIiIiIjIDzHYIyIiIiIi8kMM9oiIiIiIiPwQgz0iIiIiIiI/xGCPiIiIiIjIDzHYIyIiIiIi8kMM9oiIiIiIiPwQgz0iIiIiIiI/xGCPiIiIiIjIDzHYIyIiIiIi8kMM9oiIaMZJqGpDj60JheFyxjS5W+v9Su04CVv/JzAfkdP01eMxIMkvypS5bA6cywz2iIho5rlvPnT36/HAt+T0dLlb6yWiuYllCs1wDPaIiGjGqd3+BBb/UzhSzsgZ0+RurZfIZ7HV6OhvRaGcpNmNZcoEmN/vOQZ7RERERF+RyKgQBMpxIn/H/H7vMdgjIqLppfaB6MKpHdHIr7+Eno8/QX+/GGxtOJUdAQQlorTJZX5PF5pfiYZB/rkipbZLLHO9GmxAUnETOmzyb+TfdTQdRIJMAURgX00rbD3uaczVGQiTKUav9yDMIp35ULBYv8vffnwVttYSJAXJZFLwthKY373qsv6r6PlADtZqJMl0rhJqLom0baj00qcnplpZdgmvbVKmDIjZXw3zpa6RfTPGdnhSv5ftJFLk9Ajt+9lqk+W0tCYbr1lcPkfZT8WJbsfAl/05F0Rmn0S7S76zWaqxz1vtdbnI1/Vt7vtrKM+rolFquYrX1i0U40YkDKcZOm53dvy1/DWUh9yFHW0Ty5RzUZnycf0u5+++WvF9htN2ob02G5Ey2ZA7OSf8yVTLlInzzQjDM9k4ZfU4fk15WC+Xa8dYya+ux0MpX9dpi4ePrTbpqtCifK5LGTKcVil7xfeQnznct23K+V3hUcb4nN/vbnmq7gvLQTnlYqz+fT6Vp/cOgz0iIroL9HhsdyE26m2o/Y907CqsQ/dtA8J2HkL7iWxEPWjHWTm/8886BG/NR6GXCsiQsCPVyI81Ah/W4fBu8Xe7i1Bj7YXz9j/ALtOk1BYjJSIQjovlyFHS5JajodMB3OdEu0wzFsPTv0L+GqDjV0Xaun8j1vqoqOxWHRwJbDZVoyZPBKWDF3F4+waEJezE4Yti/Qt0GLhUhMxXjsEsk7qqfdMGh/jZX/l8tJwzJBoxy0VFyGFDw2ll2g7DshDoHZ3aPtudi7K35XYUpap/MS3CRWX0aDIiv25Hc0Wu+n1r33PCEJuHs9XxMtHU9qe/MOxvwi93mhD45WXUFmr7wPx5CJKeC5EpXDwQipAlTvzuTbm/lLz9ZaDI83koVSumV1B3JAuVlwfFuB0taj4Ww4uvollZfIfHv/Z/viP+ciFCnh45dppoJP9IVDfF+s4dU6Yns37t/E1afANmJY8ox/6KE4GmZJS+4XLh4A7PibnApzJFMWG+kUSg0VyWjDC9A+2NJ3C48AQaftMN+yfX0SKTpLzRhNIdJgR8akXD8SIcPt4I83t29HxyXqaYvAc2nET+0wGw/6YRDWca0XxpaMFU87sJha1HkfKUWLdcx+H/7MatoGjk/1e1y0U8d7O1PL2XvrZo0Xf/LsfvGZPpx7Bafy2naK5iPiCaWe74nFSufu43QX/9PJ437Ryp7A3Nd1iQtWo7auVshFeg/Y11CGjLRci/nFBnKVfL95kcqF28FllD0yE2HAjZgko1xWjK1dgE1GFxxF45ZzTP9WpX4eNhvN2NmsgNyOlTZ6oyG64ibaV9OK1y1bhUVN7Mu5/A88P9c5JxypaNsE/F564d63Oj8VpHCSJhwS7xvRvkXKWi3HEkAs43tyDsBauc6cmA0rY2xOityPnhFtQos+R+dJx+BJF71ETj7B/t+wVaCxCSUKXOSau/iszlvahcuwEHhr+vAfktbUj6Xjcq/0nMF3N82Z+zxZ3lZXncFlxGWVQcDnvuq2VAr8sx8GqnOFbZ4lidEule1GaNzoPj8XL8R5Hb8/BlHP5BHMrk3Knmr1HnqaicV1pPYv39I2nv/JyYee60vJtKmTKmUfnGJI7TScQs9MyLLsJLRDkajcDL5YiMKRKhjhfqsQ3B715egc3qBYAR6vm+0DpShgzlA2cval8Q23tBTTa+yeT39Hr0ZASj99haRL08srWGvCa0bwtG97FHxHw5083dL0/HLPu8pPW1PJ2s6awT884eERHdFY6rb7lf1T9mh0P8N9j7jksFUmjrRL9y8XeeTpv2ovvGAKAPFRWHPCQslzM92D93AkuiYC5ORtgEzXRG+Uj8+HtUoA73eqsu3cL/+pMcdTVP/u9VI6reEesKDEGMS1O7hKeVvix2dJ4aq2KisMP2B7FzxPrH3juTkQzTo2JN16/BtjIaMbFDw+PotottnGdA8DYt5ZT2pz8I+gmWBor82tXiUbm2I8faLccnUKHledynTt0BX46/3J4FwYjMkLOEqeYvx3sN7ucprOhQTtRRae/knJgDfC5TvPDMN0HxCBXn4Oi8OMIgzmEDBtHRMkagd4cGO0/7FugpJpHfU540Qnfbjh7b4y7lUDRCr15Xt9/wvUQt4Sizszy9lxjsERHRXTH4eaMcm7r2tFxUWh0IeCIRhQ1XYbOcROG2YLlUU5ZRgIYPAWNsNk6Zlf58Fch8xrdeE4Nf3JBjY2to0ZoPRRyoQNoa8dnLI5BWtRWr9KIKcXX8ZlLt/3lFVDNcm9rFY33wQuCaFYfb5CwheNtBnGq9BJvS30n2/9hnEh8wbZbg28rqlkSjtLjEbShcJ/eVrKhNZX/6hTXfQoD4z3FduyPq5g8DolrtISgamVX1aH9XHLvhfkzxMMrFvrjj4/9yCzpv6hC6Nk/kUEUyngkV+et9yx3nL1/O36mcE/7OlzJF5Uu+GS8vSlGL1BSwV2jT02XMz5xifjcqBdE8I2I8yqHSQ+u0PDzOxb/ZWJ7eSwz2iIhoFrDgQEI4lsbsRdnbvbi1yISEvCZ01Ls8MKLvBHatXYGwhALUXnJg/rJ1SCtrRfvRaeoof3o7so5dhvOhdcisbkJ/UzUyVwfAfiYXCS9YZKIxtB2B+X0gMDRaezjBjmisCgS6215Vr2Irwg61oiEvHo/pevDWq1nITNuCsMWP4IB1VFgxZYPWAiwW6x49uDTvutv7068k41RDCdJWGzD42yoceDEdz29Q9mcdemWKiUzt+Jej7pIILpaZkKbchU1frwZc3f/Psbubv6ZyTpAw9Xxzb0zTdg9accCt/BkZhpqdezUby9N7iMEeERHNHu/V4XDyBqz6wQYcFj/agT+KR7LHg13s1ipkJaxFSGQ6Gq4Bhqe3ahXgKTNh/VPB0F9vxPNDP+ZLVyBy94nhCsbY7Kj8f7oBfQgixPamrAmB/nY3Oo4P/WU0kn9ihM4hgtrwLcgqb0TDm1Z1vcZv+ngl+r756tV/N+EPeDRXuobPRF1HvzjU5ydq3r39OcN99BcMiP8CF3lpThYw332/7n8GYQ+Kyuav4hCVXISaM8qDMcT8bQYfHzs/9eOvPajFiLAMEfCFB0N38zLeyp3G/OXVVM4J8jnfXPiTlhcf8niqrovmP6opYNipTY9Nh/mjCgoTHphMu8Yp53egVy2IDFjl5amaE/sKylPdA6PLSM/z/g7K03uBwR4REc1C3Si7aMMg9HjgH+UsT32NONyl9CAJQOBKbdbURGPVozoM3ujBZ3LOZNhzrei+rcdjaw4iIkQP53sWlz4934Zuvvjvy7+4P+kyKBuP+RBYOW+LfxYsxFKPilPk5mUed+GqYP3QCTz0JFJ3TvL+3LTvzxmuzYIe8XX1P1zn8qh4hQGZIsBxq/TplalBfPGpe4iT8NRSkUO9ERVut+M6teOvknc7DCEZiFymg/N9y8jDWqZj/V5N7ZyY83zNN31vo/uPIvmK9cgc43jZ296HQ/zVqvUZY995/5vyjw6BRpM6OWxNIoIfkuO+mHJ+Byrf6YVTbKnpX5PvqKXA3SxPoZSn31goQmBXXs77qZSnXyEGe0RENOMVtnTBXFuB/FTZAT71IM5uD4Xe2Y129QGeyXjNegnNNQeRuU1Lk5RVgZo14gfYYUPL8JMCp+JVnG0T4eWPMtCs9k+Rg4/vbgIK8NYVp6iwxWCV3gmbpUjOV8hKQ9Bq1BSnDm+/uSkRCwfE/AnUNHZqfaeO1KNQ3UepyK9pRemaAAzelImkspIG9Dr1CMtqgrkmD2nq/sxDaU0TOhryZKqvYn/OdHWoeltUSPUmZLZVy/2QisL6eqQYnaKi6qLxfdiVivb2k8gfTteG/OVKldhd5Xt2tZIbWZyHJGW/7kxE2BSPv0be7ViyEqELbqC9rlzOV0zH+r2Z6jkxx/mcbxqRX23F4IKVSGtqxWt54hhuy0Dh0ZPiHM7Wkpx5BZXWQehWpqK5tVotK5OyDqKyVqSXSXC8ER0OEbasKcbZQ1o+SMurhrl4NQKUBzL5asr5XSgpwlmRJ/Wm7OHtVcut4mo0X6pHvvrX47l75WnZb7rhFPs6qbVCO+/Fvi5Vzvsg56jv51t5em8x2CMiohnvsk1ULUJWix9s2QH+FzFYersTlXtekI+77kb31QEYTPGi8qKlyd+5GoGfNiJnu+vj4++UASnV9dhlAnot2vumhoaWKw7olHc3lQ/VqMZW1qZUInTQ3eyGuUTOlEYeiCIqFsr2Jz8JXCjARuXdUBNR+k5VWOG4fyUS1H2UgY0/cML8cgE6PII9tO1FZFwuGt53IvCpRGQq+zMrEVGhgRi0X5eJ7vb+nB3aX9yOzGNivz4YIfdDBn764GWUPtesNgkb1paOHGX/f92EpKF037GjZm85fve5TDOkoAg1Vjt0yxNFxVbs1+2r1YdaTOn4S/ZcCzqV4z38rrER07F+d9NzTsxpk8g39ootiM9tRPeXgYhUgg8R8CWsCxEh11D4IYL9hOeQc6Ybt74ToZaV+anxWB8SAAyXAXV4fm8V2m/oELpZyweZcSFwinxwQH0fno+mIb8rT3fNWhvntr3KepKeDhUBmfZEzoncrfLU/rL4XTnTK4LFddp5n5OMyAdtqNlTB7ty18+VT+XpvcX37NGMwXxANLPwnHQRW42O4rHe4STf3fSgyzuqaEaZM3l56F1j50Q+TRvvEfTTwM/OCZZ3NJNMZ37knT0iIqKJPKiD0gVk8FNvFej1WPig+O+GHc3aDKJ7wIDM50wIvN0Nc9FdDvQUPCeIZgUGe0RERBO50A27Ewje1IrKrES1D8hQP5DmjgyE6QfRXjfy2G+ir0rYM/EiLyYis+YkUlbq4Lj4+qiXed8VPCeIZoX7/vf/Xf//k+P3jMEQBLv993KK5irmA6KZheekiy9+g7b+BXhk+T8jfM16/B8/jULU+ihErggE/ngJJ/NSkH6S1dqZyp/zcmTOr3D45+vxz4b5+PT/Po7srRX4RC67q/zsnGB5RzPJdOZH9tmjGYP5gGhm4TlJ/oJ5mSbCPEIzyXTmRzbjJCIiIiIi8kMM9oiIiIiIiPwQgz0iIiIiIiI/xGCPiIiIiIjIDzHYIyIiIiIi8kMM9oiIiIiIiPwQgz0iIiIiIiI/xGCPiIiIiIjIDzHYIyIiIiIi8kMM9oiIiIiIiPwQgz0iIiIiIiI/xGCPiIiIiIjIDzHYIyIiIiIi8kMM9oiIaFZLqe1Cf38rCuX0lOw4CVv/JzAfkdPToNDyCfptJ5Eip8kP3IV8MpZR+TsoG2dtV9FRkyxnCF/h9tC9dBBmcZxttS7HfgqmtexUTe/20fRgsEdEREQ0i8zX6RAQsFBOERGNjcEeERER0WzRV4CopY9gaUyBnHEXxFajY1rv+BDRvcJgj4iIiIiGRUaFIFCOE9HsxmCPiIiml9p/qAundkRgX20bej7+BP39Yujpgrk4EcEymcaAmP3VMF/qGkn38VXYWkuQFCSTDNPWZxtOJ9ZXk+21Uhq8rQRnrS7rVPqRWE9i3xqZYDKCknHqXbGOd+vd/t6wtQTNYruH1q9+P7E9kXL5+MR3qWmFrcdl+y41oXSrQS6XhvdlNPLrL418H1sbTmVHiG1LRGmTy3yxDc2vRIu9StMlMvsk2m1y/yrHyVKNfV4yndo303JQTrnw0p9O7Sul9ONck41T1qvD6+55txWl29zPkNF87BflLd8uF/mlXpxDLvluOC+polFquYrX1ilNRI1IGE7DPqdjmdSxDIpWz/sO20i6oXLR85xVyhfzuy7rU8uHf5BLXU2mDJ2YYaeWX20NrmWZAUnFTWK75fqV7RHf77XhfDMBsW9es7huXxc6mkZvn7ov3xX78pk8nL008t2Hym6tzHXdx03If4al3UQY7BER0V2gx2O7jyJp8Q2c/Y907MotR0ufqD7G5qHuDddKqh2GZSHQOzpRq6TbnYuyt+3Ao6JSVJQq0ygM2Nd0FCmmQNy6UofDu9ORU3ERAz9IREKITOLigRXLsNRpQ3NFrlhnOg6fuoxbC01I2V+CMJnGNxEoPJ6BsAW9qN0ThwMXtLlKhUgJqozoRUO58hlFqO0cQGBEMn4pKvzjB3xinRbxXSIC4bCe0L5L+XnY/4cRMa804dROz8qLsi8LsVFv0/ZRYR26bxsQtvMQ2k9kI+pBu7aPxfzOP+sQvDUfhTvkn9KUGPY34Zc7TQj88jJqC7V8bP48BEnPecl0k3V/CHYdTcTiTxtG8sA8kQfyfiWCe5nmjnnPt3ggFCFLnPjdm+XIEZ+p5pkvA0VeykNpuJLgCuqOZKHy8qAYt6NFSaMML76KZmUxeefrsexbjOAfBOBGp1aGjZSL2ShNl2kUmypwNk+UL/PEMRgqXz7QIXL/agQ6ZZphvpahPlhzEDUZJuiu1WFXTAHM6kyDCMJEUBVrBD5sRFmulm86BgMRufMozEcmCPjEOs1HkxG50IH214vcti+/QQR2ngGpXuzLIzEI+EDbR4dPdQMPibK7oA21+9dBb9f2sVKmDywIRtIrB3khYgIM9oiI6K7Q37IixxSHrPJGNBwvQsraF1B7Tcw3PYN8lx/4soQnsGrDdlFBEunOiOAneTvMogKkW/IkkmQaiCAxZrkOzstV2Bi3F2VnGlEjKt8bN9XBfr9eJhrRvnstQiK2iErJCbFOUUF5MQ6VnaICG7QMz8g0E4tAfksxEh4ahLloO7KGKswwIfM5E/Q3L6NyU5z8jHJkJYRj15t2sd0xSHOtuHlKT8XGJTrY39yNyCRR8VG/y05EPVuFzpt6hD23Z1RAqh+8iF1r5T4q34uocisGsRCG+132sZi/cc9FUfUTweHqRPmXdOdEZTQ6GDp5nIfy8a64ONRe14u9PEXz9LhlzUXYcH7eich/rUPvbZEHns0bdafHd2PlW6EtHZE/XIvNInioEZ+p5pnqTpGXDAh5WklgR/ubjXDcUsad+EJJowxvWsUSGpPPx7Icm594AlHyvFfLxWTlnNVh6Y9Gztl929chUAn0RDmWIsuXnKS1OGB1Qq+TiVz4VIZOZE0emovjYfizBYe37ZWBnhC+B0kmvSx7RZB1XMs3m8N3o+W6DsanU5Emk3qT9kIMjDrtuzwvgltt+zZgY8VlOB80IUkEl27Evhy4MFI2lr24AaVWUXYvMkDnso+VMj39gsiVIjiM2Cb/lrxisEdERHfF4NWLqJXjGiuyLvWKH3MjQuLkLK/ssP1B/LjPE5UVOccQbkSgqJJ2tBS5Vzr7ctH+kRyfQOV1hxzzhXI1uxhJy0TgWBSH5ytcPjUoHqEiWB3sasFhUaFyZT5kRa9ScXty7CZ2KU8aRQo7Og9Z5ByprwjNXUpA+jjiPa52O66+NVL5UhyzQ/k2g73vuO/jtk70Kzdl5nmpEdLkBP0ESwO9HWc7cqzdcnwqBtFzsU6OS2170XFN/P9wCBK0OZM0Tr4di0ijnhn3qVN0R6ZwLPtsHudsMoIfEv/1XUG+a6Au1J6zacdqQqPL0HEpTX6PJCL4thWHN21HpUt+N8Q+LnKVl7IXFuRbRXm+wAjTTjlrlGSYHhVb4OW72Ita0CE20bBCBJhynuYGelrdy0at7Bb7+Dfu+7i9yy7mCsy742KwR0REd4XjjyfkmIseh/hx1iHgO3JaCN52EKdaL8H2wdXhPh37TO73TaIWBYh/HbBXaNOuHF+oP/duDM9koFLpm+Syzv5NRrl0YvrQamQq29B3EVWeFeY134K6NdertGlXfdfwmdgc/beXyBmjGb8t1jsoKmMegaJCq9QEYKFH38LBzxvlGH1lxjvOfxjQKplTIvLzcTnqove/xZoX6HEnL1YYN98qgqKRWVWP9nfFeTHcby8evp8Z5J2vxzIYSYdOav3rRNmk7f9shLkVd0ugFhF/sHkEV8IZpfwczZcydGwBWKU0+X1QBGAXj7kFeorxyl77VWV79Pj2mBlonO+CKthviP8e/BaitBnSABxn5OhEbsv/aVwM9oiI6J4JO9SKhrx4PKbrwVuvZiEzbQvCFj+CA0qznTu14ySay1IR8fAgrMcLkLlnO6LEOhef7pUJJha4JBC9v7XDKSrH+cU+PoSA6B4bP98m41RDCdJWGzD42yoceDEdz28Q58XiOvh+ZtCdM6GwtR75m0Og+7gZpS9lISUhXOz/ArRPobibehm6EMZv9KKzzwlDdB5K7+QhVjSjMdgjIqK7InDR6H5jhu8HQg8nBj5VpqKR/BMjdA4LDoRv0fpEyb5Bxm+6X5Xu/vOA+DcQBi99MwLmuzdU2vesCfrb3ah9doPs72KB0uguaZHvD5O3n3kOUXF7cfZDUQGKLXZ/yMIFrdlb4ENemmoGhWCxciX7M6X9lne96q0/A0I8H0wgpDykbOMAbng0eaJ74KO/iCPhPR+LTOe9eZzugdEPABorrdf8bNDu/N4chHLTY7LGzbf7n1Hv3nT/Kg5RyVqfPfN7Yv42A1+zMGU+HMvYHYh8VAeHpQBhCVq/sxarUtppd79G3MDATVFEfNNL64DwBzzyku9l6NjsaEjcgI37GtD7NwNijrg/ebVZbW0gvp+XppqGEIMozwfx2ZhXC2RLh38M8WiqqUiGQbnl+fmf+PCfu4zBHhER3RX676/26KsSgcwnjMDtXtjqlelvQzdf/PflX9CuTA4JysZjHoFQu6VXBFh6PLbOI8AKytD6hLhQH2Dw5QDsbs2R4hHxfV8rP4BTBItqH8Nk+dCUVJenxvU1qk0w9SvWI9NjOyNfVPq3ONHzjpemf1LlO70ihQGhL3rceRHfJWqF2Ma+K6jz0sSTvmJtFqXVMfQ/XOfxtD8DMp8KHh3AKU3KvrEQ7o+bGCOtSo+lq+PluLRmD8IeFv//3ubR39U34+Zb9cQYxBefujeoS3hqqdgSb3SYP+qCRDAiY6MRuVxOkuTDsXxQ7E/xn/PPVmVqmGG/ZyB0Grbfi/+WhKJQfULqiMjNyzzS+l6Gjs2JW0rQ37YXSfKhKbtqRSCmLYS98X0RDuqxan2Gx2dHIOcJMedmL6xemnhqqmD90Cm253HkeNwxNGSsxyqR8exddV6aeNJ0YrBHRER3hXOBCfltJ5GfGo2YbRmobC1GjKiAOC6+jhw1mBmqCKxGTXEqYkQlMimrAuamRCwc8Hi++OljMIu0elMG2msykCTSxqQexNnTyVj6N/e052yi6qAPRUpt3kg6ax5C7qSXVV8RdpVYMahUgA4OVYCs2FV+Hg7dSqScrkeh8v1iE5FZ1YrSp0Wo92EDjpSoCb0r2Y2a90S493QxzFXu3yV0wSDaT6S7V9zoHqlD1dsiMNebkNlWjcxtynFORWF9PVKMTlFFdlf2m26R51ciqbVCSyvyfKmSNsjpPefddiLAlIf2N/KQNpT3i6NhmHcD5urcqVWAveXboUr7dnFODn+XNuSLwM1z+yrfs6sXJCKLtXMoaWeidsfyUDFeKy7Ba0Ve3ic4l/lyLI+9g56bIshZU41SlzKjeXOgeidvhB05/yWO3TwjEv6jyb18WROAQbd+apMoQ31gL9qNw9ZBUc6KvDH0Cpi2dJSdvwHdymScrT+ofr+h8nz9Q070NhahTEvpVVnGCXQ7DVhf3IrKrER1G9MO1ePszpXQfW5FTZp78EvTj8EeERHdFfbzWai9sRQJvyhBaV4q1otAr/dMLjZuH3miWllGARo+VN4zJSrGohKZn/wkcKEAG5X3MLlR7lZkodLqQMBTqcgXaUt/EYWArnLEv+metj0tV0v3ROJwusD+E8h61XYn4R7sFXvVR38rgWbNIXnf5vRObPz3KnTcFhWyLPEZolKctjoQDksVfr527wTBmh0HNsQh54wDgavld8mKx1LlnX0vbcDmYzIZ3XPtL25H5jErHA9GIC1POc4Z+OmDl1H6XPOoYMz+8gs4cKZXVLzXaWlzkhH5oA01e+pg9/YgiXl2NItlju/FI1PJ+6nrYLit5IE4PH9appmCUflWVNpzKsR3+boJSUPf5Tt21Owtx+8+l380pKAINVY7dMu1cyh/+2rtIS7qA5YA5807OZP8mE/Hshy7ChrRK8qMGFlmpPwIMBfEwXxdJhlybAvic0VaJeAbSrtiEGf3iGPlset9L0N9YUelyA/tn+sRllE9fGexNjkOu451wvmo9v2U8jxioQPmihcQ+eIEwVpfAaLictHwaSAilPc5ir/P/JnITR82IidmCyplMrp7vrZo0Xf/LsfvGZPpx7Bafy2naK5iPiCaWe74nNxxErb9JjhOP4LIPXIe0T00035fUmq7sM/kQO3itciS8+jeutM8wmNJd8N0llm8s0dEREREROSHGOwRERERERH5IQZ7REREREREfojBHhERTa9jWxCymP31iMZSmbACi9nHyy/wWNJMx2CPiIiIiIjIDzHYIyIiIiIi8kMM9oiIiIiIiPwQgz0iIiIiIiI/xGCPiIiIiIjIDzHYIyIiIiIi8kMM9oiIiIiIiPwQgz0iIiIiIiI/xGCPiIiIiIjIDzHYIyIiIiIi8kMM9oiIiIiIiPwQgz0iIiIiIiI/xGCPiIiIiIjIDzHYIyKiOSGltgv9/a0olNNERET+jsEeERERERGRH2KwR0RERERE5IcY7BEREREREfkhBntERDTNDIjZfxLttk/Q3y+Hnqvo+UAOTXkynbAmG69ZutDz8VC6LpiLE8UaXOw4CVt/F07tiMa+2jbYhtJ+3IX22mxEymQjIkalM9dkI1AudWdAUnETOly21WY9iX1r5GKp0CKWWQ6q23vKelVLazuJFLmciOaoIFEu1bSKMkSWC8rgrRxT0rmWS2IYLhPF0PyKTKfwpVwk8hGDPSIimlaG/UdxeIcJAb0nkJUQjqjtuajpdkK3AOhtzEJm8WktYfhBmI8mI/LrdjRX5GLX7iLUvueEITYPZ6vjtTTD9HhsdyGSFt+AWUmbW46GK04EmpJR+kayTKMwYF/TUaSYAnHrSh0O705HTsVFDPwgEQkhMomLlDeakB9rhPPdE1ra8vNw6E1IOdqEfUEy0ZD7luJsWTIec3ai5UwjGs5dRLdcRERzVN9iBP8gADc6tfJGKZta+gBjbDZK02UapVyqKBTlUgB6Xt+LzeEb8HzuCdicOujm9eLsS1k4XCeTTqpcJJoYgz0iIppWSaZg6G53ozYmF7VWO7ovnEDO7ouwQwfDdx9AwwUtREpLj4FRhEuVz27ArsITaDhTjqy4ONS+DwSu3op9aqoR+ltW5JjitLTHi7Arbjcs18X8kNVIkmkgKkQxy3VwXq7Cxri9KBNBWU1hOjZuqoP9fr1MJIWXIClcD8eFXIT9S65MuxORL1vg0AUjZn+0TCgFrcTSrgJERWxBilKpe6kK7XIREc1V5dj8xBOIStLKEKVsSknWyrulP0qUabYi7Hs64P06bMytQ3tfN8zHRSB30Q7oDDAENML8npZysuUi0UQY7BER0fRzOuGUo6q+v2rT80SFR5UM06Ni/Po12FZGIyZ2aHgc3XZRAZpnQPA2mVRyvNeAWjmusaKjf1CkFfUlOccQbkQgBtHRUiQqWy76ctH+kRyXDNHLYBBpe7r/6vL5Yrhth/2mqFgZTDLlkF68tbfKfb1ERJ76bFCKppHyTuO85VYqwn5bTt+n/Xcn5SLRRBjsERHRtKqxdsO5YCWSGvKQYDLAYIpHfkMUjCLc6/lti0y1BN9WbrQtiUZpcYnbULhO9kwZrgBpBj9vlGNji1oUIP51wF6hTbtyfKHUvkZEPaT04tMjLN3980uLExG6QCwSQaSbQQd6++Q4EZEqGEmHTsJ8qUvte6f1x8tGmFtDgtfR/pETupWJOJsXj7AgA8I25+HsGiNwsxeXL8hkd1AuEk2EwR4REU0r+8sv4MA5u1qxKaxtQ3vtQSQYB9Be8QI2FrnfFxu0FmDx4ke8DCuw+ZhMdFfZ0RDu7fPFELFXpiEi8saEwtZ65G8Oge7jZpS+lIWUhHBRfhSg3e3akh0HdhagoU+H0G0HcaqtDadeicfSL62oTIvDYY+LSPe+XCR/wmCPiIim2Xqsf8oAp6iwhMlKytKQcGwusMjlimv4TFSG9ItDESbnTIfuPw+IfwNh8NLUKWC+e5Oq5j/KtHHaNBHRpMTuQOSjOjgsoqxL0PoIt1iVC1ryDp2rNesQGeREe4ESDIpy8Z++jxDTFhwYvqunuDvlIs1tDPaIiGh6bVuNxx4EBv74mZzhTRWsHzqBh55E6s7pe6B4u6UXDuXJnetcn9ApBGVofWFc2M9cUR+iEPpMiZfXN0zC8gjExEYgWE4S0RzxoA7zxX/OP1u1acmwP2TUaxKSVodAf3sANz6VM7yaRLnIcod8xGCPiIim1/FjeOua8qjwErTL90mpg8d78cpKGtDr1CMsqwnmmjykKQ8iSM1DaU0TOhpc3sU3GaePwSwqS3pTBtprMpCkrvMgzp5OxtK/uT8cAW3pqLHcUN9/9UtrPUqzEkXlKRGZhypwytKK13x8EEJhUTVKi6tRdkjOIKK54dg76Lkpgrs1ogxIVR6kIsqPqlY0bw7EgJjvqua1ZvT+zYCYsraRMlEZbG04lR0hU/leLrLcIV8x2CMiomkUgfyWYiQ85EDnm41oUB5FLgfzNVEpMiWjsEq+0qBtLyLjctHwvhOBT4lKkvIgAhFwRYUGYtB+XUszaVZkJWeh0upAwFOpyFfW+YsoBHSVI/7N0c/RrEyKw65jFtjvD9YqVMWicvWz1XhM50Cv2F5f9CrtruDEgNIqlIjmkHLsKmhE720jYrKUB6nkIeVHgLkgDmbXImxNHpqL42G4cVl7R+fwYEEvDAjbeQiVsTKtj+Uiyx3y1dcWLfru3+X4PWMy/RhW66/lFM1VzAdEM8sdnZP7m9C/w4jOku9jY5GcNywZp2zZCLtRx4ef0FeKvy80kbuZR/a1fIKUhy+j7AdxOCznDdt5ErZsExynH0HkHjmP5rzpzI+8s0dERNNHr/SLG8TAJ9qkm/Al+Pb9YulnPt4yIyLyA2qxeHMAPdqkmzBjIPSizPzsqpxBNM0Y7BER0fS5ZIcDCxG2tx6Fah8WbUg7dBLt/2c8jH/rxVvHqmRiIiL/d/mTG0CgCfvqD2p98NQhVX01zS83GeG81owqvlKB7hIGe0RENH1Ob0dSbiN6YcTGX2gvA1aGzNgQ4MNG5MStRZbbo8aJiPxb7fZtyDnTCzwao/XBU4cMbPw+0HMmFzERe2GWaYmmG/vs0YzBfEA0s/CcJH/BvEwTYR6hmWQ68yPv7BEREREREfkhBntERERERER+iMEeERERERGRH2KwR0RERERE5IcY7BEREREREfkhBntERERERER+iMEeERERERGRH2KwR0RERERE5IcY7BEREREREfkhBntERERERER+iMEeERERERGRH2KwR0RERERE5IcY7BEREREREfkhBntERERERER+iMEeERERERGRH2KwR0RERERE5Ie+tmjRd/8ux+8Zk+nHcoyIiIiIiGhus1p/LcemZsYEe9P1hWj2Yj4gmll4TpK/YF6miTCP0EwynfmRzTiJiIiIiIj8EIM9IiIiIiIiP8Rgj4iIiIiIyA8x2CMiIiIiIvJDDPaIiIiIiIj8EIM9IiIiIiIiP8Rgj4iIiIiIyA8x2CMiIiIiIvJDDPaIiIiIiIj8EIM9IiIiIiIiP8Rgj4iIiIiIyA8x2CMiIiIiIvJDDPaIiIiIiIj8EIM9IiIiIiIiP8Rgj4iIiIiIyA8x2CMiIiIiIvJDDPaIiIiIiIj8EIM9IiIiIiIiP8Rgj4iIiIiIyA8x2CMiIiIiIvJDDPYmUGj5BP22k0iR07NBSm0X+vtbUSinhxi2lsD8rvg+/dpgq8+QS2ha7DgJm9iv5iNyelY5CLOSJ2qT5fTMcefn4Mz9Tt4kVLWhx9aEwnA5g4iIiGiKGOzNGakozY6GEd2oLUzHrsITqG04LZfNXlpgOxLAeh9GB75EM85986G7X48HviWniYiIiKaIwd5cse1JLF0A2C++gKzyRjSU5+LA63a5cPbqvtiAhjPi+8jBfM0p5t5Ap8u8hjMtuKwln3P2tcyeO1tzRUz1JfRbDsqpEbXbn8DifwpHyhk5g4iIiGiKGOzNFfdp/zlvz/4Az1V7RS527U4fHqyfKcHeAHpc5u3aXYRaLfncEpSNsIflOM0QEfhpyEI5TkRERHR3zf5gb002XrN0oedj2WTv4y50NJUgKUgul9Tmfkq/n6BElLYONf1zad4n5w+v54NLaC5OxHy52J0BScVN6LDJtGKwWU9i3xq5WKX1F1L6b0Vmn0T7BzLd0F0Wz+0WQ8+7rXgtw6Qt90kE9tW2weby3c012QiUSzXRKGwRn5Ntgl5MGTfJtF7uLMwNYp/VtMLWM7TPrsLW6plfJjh2gjrf9fhbqrHPfcdrgqLVz+uwXR1O298jjpPIWwaZRDGcP0W+OGUdSavkidJtwTKV5Ms600/CZk5G8AJAb8oeTje5/oQRKLSIz+hpQ+VWl631zLtevo9P+Xu5OOfqRf4dOhbKYGvDqewImWBswdtKcNbqvv7R5+AQHdKqJjrmvq9T7UPYelBNb37X41i57idPsSL9B9VYv0iML4kf+QyZr0b3tR3Kh0p5I7bf5Txvr81GjMf2K5R+uc2XXJo2+7g/iYiIyD/N7mBvjagMHU1G5EIH2l8vwq7duSh72w48Go38BiWwk+mGBSDqV3mI+oYdZrfmffGoPJ2HmEcB+9vlyNmdjsOnbdCJCmvkQuVOkbuUN5qQH2uE890TOCzS5pSfh0NvQsrRJuzz+EydsR6/3BECZ9d5tUnh2YvdYm4yThVr222Rd6ZyyhvRcUMsum1V/25iBuxrOooUUyBuXanTtqPiIgZ+kIiEEJlEdQXnynKQeewyBsWU/U15t+uV17XFc4oJha1inz0VIPaDPM7/2Y1bInjK/69qJMhUQ7wfO7Hn9zfhlztNCPzystb/Mbcc5s9DkPSc247X9C1G8A8CcKNTO0ZK2pY+EXTHZqM0XaYZcn8Idh1NxOJPG4bzlX2eETF5v8KpHTKNwpd1Wo5h3x7x92J08HKVvMOZjgMntMUTM4jgoxgJS5xoL9qClKEmv+HynPu6Hc1q3i1C7XtOGGLzcLY6Xkvja/5+IBQhYv2/k8diV2EdOr8MRNjOPJRO8JCSB1Ysw1KnTW6DOI6nLuPWQnEO7i9BmEwzRB+aiswnAWuVknakjNhXddAt7WTWiYeiUJezGujSjsHh4xbtWO2vHvsBK5frUPhSFTqVE7HvvPoZyrCntEVbPgbDelHeiIDTOrS/rzgRaErGYY/tVx4Q1PxKNIy3bKiR+bLl0wCxP4+ief84QSgRERH5ra8tWvTdv8vxe8Zk+jGs1l/LKd+l1V9F5o8caNkejpQLcqZgyKiHOX0lHOe2ICxNq1wqV833mfRwXqvDzyP2wqzOlUTlvX9HsAgAtiPsBYucKWyqRseRCAQOWnEgZAsqlXnhJWh/Ixq6C3uxanudmkwl0+JCupjfKGYoV+XjYRQhVnvBBmyucG0+qS3D6UcQuUfOmqxY8XnFEQi4XI7ImCK1Uq8KykOzORHB83pRu3gtsuRs9UmR+01wTOUz77I7zQeutOPscP/uQ9Lr0ZMRjN5jaxH18sjxMOQ1oX1bMLqPPSLmK3PGO3bReK2jBJELLqMsKg6HRZClMSC/pQ1Jy4DeifZxkMhDbdEIaMtFyL9o0ddQ/nRYRL5KcslXSnD1mtiWj04gbH3uyHH25GWdQ98j0FqAkIQqOW8srmlbkFJdj8w1OvQe342o3JFzQj3nlveicu0GHPD87t/rRuU/iflTyd87RT7NFvn0lPjbF7VZyp20hIUu5+AYRh97eRxvd6MmcgNyhrcXyGy4irSVdu/5xIW3/KRuzxKg+3i42DcuR0SUOz2i3LG7bPtoIhC2ZSPsRh0Wi3LI1WS2X0vrhHnPE3hefc6SCaVtJxFzvwVZq7a7NFuOF/n1ICJhwS4xv0HO9dV0nJNEMwHzMk2EeYRmkunMj7P4zl4yTI/qgL4ryHcJ9BT2ohZ0DIoq6Ip496ZlovLecdIj0BNSlimp7Og85BLoKU43wOaQ45IheplY5yB6uv+KmNjokeG2HfabQKDBoxnmtWZkuQULiusYEGmN61tRutPksY2+MYQbEah8nxaXQE/Rl4v2j+Q4uUl50gidOE49tsfdjl3o1evqPjR8L1FLOMTbsQv6CZYGipzU1eIS6CnsyLFqd/4m1GdDv3J3Z57Iv25EvrroEugp2vai45r4/+GQUXce3Yy5zsmLPFItAj097KfdA73hc+76NdhWuuT92MfRbRf7aZ4BwduUdFPI32J/q6ec7GM6GZXXPU7WIR9Z3QIlxeFez3PSuzHXKQKwdtdAT1HUo52Ld7Dt47pmG7X9ledtIrcsxNIIWd4ERSMkSOSg3m7ccsnbMbF/hf26UymYRDhIREREc80sDvaW4Nt6Ubn5g8092FFVwa40GXvwW4jSZkgO2I/JURdGdUV22DwqVEAjHH+Ro1LUQ0rHLD3C0ktQWuw6JCJ0gVg0T002bPCza162rxy7ChrRe9uIGLXv1yU0V2V47YMzlqhFAeJf8X0qtGlXji+UWj95Uo+z0tTO7biJ4dA6LSDxCJS8Hrs134K65697uVP2hwFRAfcUjKRDJ2G+1IWeD4b6d2UjTOlAOYo4nsflqIve/xZrXaAXVfshk1nnJP3jJpRuEkHxYDfOlntc/JDnHJZEu+8/MRSukyGdGuj4mL9FgJJZVY/2d6+iZ7jfnnJHdWKGZzJQqfT3E99/uI+d2G5vBr9QCoOJTWad+HJAC0q/AoP/rUT7Ho5rQXHAN2R/zjUGta+u3pQ66tgkrZz6BYDJCUakW8AZjcjlchHRLGIwrXPLxzFP39nFWfJjyyPc80hshCgBiWYWPo3zjtjREP4IFi/2Mng0zRqL/fV0RP4wHJsL6tB+Q4fgdaKS1urxIAyafkqTXG/HTQwTN3WcLKWPYD3yN4dA93EzSl/KQkpCuPisArTfcTx+N9Y5Qh9kwMBvuzGoX4mfH0z2WrEZtBa47beRYQU2y4sp9gnzdzJONZQgbbUBg7+twoEX0/H8BmUddeiVKcak9E0rS0XEw4OwHi9A5p7tiFI+//SEfzm2u7HOe8B+RskLQ8fDdRi/uer02op9HgHnPo+b5kSzQdSuQrd8XHro3zwuINOcl5jtnkeKs5EkFxHNFLM42LuGz0TlVv+PIV4qpKKSqtwG+fxPaNZmjOvGgFOsKNDLHQUTHvC4KN78xwHxbyAMcdr01NjRXrEXmyNWICytUVRyDVi//d98unLY/We5HWqzOXcB87/qK/mzQ6+aYQxYNcHDP8b10V+g7vlFXmqvAfPhtudjdyDyUR0clgKEJexF2ZlGtFiVe4XyDtko3o6nQbsjeXMQ6v2pSa9zcgZ/W46EuA0obRuE3pSBmkOujf/kObc4dPQDS7waJ3/vfwZhD4p8/Ks4RCUXoUZ8D/N7Yv427Q7VePY9a4L+djdqn92AlMITaDhjgdKANmnRRH85truxzumi/+YSOeZih7afBv4smw5f+JOWL4M2adP31F5EegSbM7WfMNF4KhNWuOXjxRP0G6Y5aM9a9zzylV5YI/LNLA72qmD9UARpQY8jx+PR6IaM9VglKr72rjovTShHq+1Srt4bseqIR6+WNYkIfkiOS/YzV8Q6dQh9pgSRct50sJ87AtunYuTrgQjVZo2r3dILB/R4bJ3HC7ODMrR+VTRK5Tu9cIpQw/Sv3u9Y+aTNgh6HqID/cB1S5CyNAZlPBbsHew/q1Fd3OP/s/oRVw35vFygUeixdPfRES2nNHu1deb+3aQ/dmPQ6J+n/darnTOW/7EbLdR2MsXkoHD6/5Dn30JNI3Tm5TxuVv/XKnhrEF5+6n6EJTy1VXxEyHvVPvxyA3a3ZdTwivn/n0e7dWOe47vsH34/XkhDkuzWBNSBlTYjYTzfQY5H5oK8OnWLbdcufQanX108QERHRXDSrm3GWZZxAt9OA9cWtqMxKVNtLpx2qx9mdK6H73Ioa+STOidhzz6H9cxHuxRaj+VCqup6krAqYi1cjwLNpXFs6aiw31P5Gv7TWo1T93ERkHqrAKUsrXvNyp22UHdVov9SE1w5lIElt4y3+vqoakaJC53jvvG9PzDt9DGZR8VbuvrTXyPWkHsTZ08lY+rfRr4sgoaQIZ9V9lo3m1mrkpyr7PhX5xdVovlSPfJlsfHWoelsEjXoTMtuqkblNW0dhfT1SjE4RTLo49g56boqq+ZpqlKqfpRznVjRvDlQfYDLKbScCTHlofyMPacN5MBqGeTdgrpZP4pzUOq3o/aMIZEK3olJ+1ySfb/xYkLJfaVJpRML+kQsbZSUN6HXqEZbVBHONtp0xqXkorWlCR0OelsiX/N34vvg+eqzafhL5w/uwDfnLlRBwfOdsYk/oQ5FSmzeS7615CJnwL8d2N9bpXRW6+5SLVKtRmqeVHSlbx390itNpRNJ/NcmyRstrmcqThd9vQI76JE6FFbtOWOAQgWDM0TacLdb2fVLWQVTWtor8w3aUREREc9Hs7rPXV4CouFw0fBqICOXdXMUlyPyZEfiwETkxk2luUYXNiWI913Qw/ixDXU/+tpUYOJeF0ndHV/Yqk+Kw65gF9vuDtYpusaj0/mw1HtM50OvlWQqjfNQtKuwGhP1MCTSUNt7i71cHwnEmF0mur3MYlxVZyVmotDoQ8JRczy+iENBVjvg33e+W0BCxz9bGIedMN259J0JUhJV9LyrFT4di4YD2RE5ftL+4HZnHrHA8GIG0PG0dP33wMkqfa/ZYh8uDStTPykPKjwBzQRzM12USV/PsaN5TB8f34pGp5MHUdTDc7kXDS3Hy8fqKyayzEfllIq3Ia+uVtEdSkbBCLvLFhb04cE4EtkHRKH1D3kFu24tI5Zx734nAp0QQp+Q7EYREhQZi0C43wJf83aa8F1Lsw6+bkDS0D79jR83ecvzucy3JWNrTcrV8/0TicL4P7D+BrFeVJ1TembuxzrEcKD6B9us6hG7Tyo6UiPEfSeMU5/ThKzpEqmVcBhIe18FhrcLP1xe457dj27Hx36tEPghASLS27/NTlbuTOnzWN7v6HhIREdH0mNXv2SP/Mpfzgbf3udFcN5n3JN4dLJvJXzAv00SYR2gmmc78yKdxEhERERER+SEGezPRjpOwqe8cG2OwnfR4OAgREREREZE7Bnsz0bEtCHF7lK/HwMc/ExERERHRBBjsEc0A2vuc2F+PXGnvq7tX/fWIiIho9mOwR0RERERE5IcY7BEREREREfkhBntERERERER+iMEeERERERGRH2KwR0RERERE5IcY7BEREREREfkhBntERERERER+iMEeERERERGRH2KwR0RERERE5IcY7BEREREREfkhBntERERERER+iMEeERERERGRH2KwR0RERERE5IcY7JFfK7R8gn7bSaTIaRrPQZj7P4GtNllO+27a9/OOk7CJbTEfkdNERERENGkM9oiIiIiIiPwQgz2iMcRUX0K/5aCcmumy0fxxF07tkJNERERENOcx2CPyKgI/DVkox2c+Q7YJxnlygoiIiIhIYLBH/iEoEaWtXej5+BP094vhg0toLk7EfLnYVfC2Epy1uqRV+qlZT2LfGpkgtgTmD6qxfpEYXxI/kmaoL1tQNPbVtKLDdnV4WX9PF8zi8wxaijGpfdu83S300kdNTdt6UN1e87sjn9XzbitKt458UlptF9p3BkMHPcL2y+3pb0WhulTrh+et71uK+LuRdGOJENshPrunDZUun+mLyCOt6Om/ivajrvslQt13tp6h7RT79VKT2/cZj2FrCZovKdst/17Z7zXZiJTLhwzvu/QKse9k2o+vwtZagqQgsW3Z1SPzlW2wViNtufxjIiIiIj/BYI/8QDwqT+ch5lHA/nY5cnan4/BpG3RrRBCw0CnTjHhgxTIsddrQXJGLXUraU5dxa6EJKftLEKYkuFyHwpeq0DkoxvvOq2mUYU9pi7JUzFuM4B8E4EZnHQ4ry3LL0dIHGGOzUZquJZk2D0WhLmc10KV91uHjFtjnGRGzvxqF4VoS87Ec7HrTLsYG0Vmhbeuu3QWo0RZPgUEEhMVIWOJEe9EWpLyufIZvDDtPonSTEU5rERJeOAHtL5XA8ShSIgLhsJ5Qv09O+XnY/4f4Pq804dTO8QM+ZZ3Nr0TDiF40lCvHrgi1nQMIjEjGL0UA7RnwqfsudSUGLip5Ihdlv3FA96gI1E+0oXRHKPBbOf98r0gbgcySg9rxJyIiIvITDPZo9tu/Vb0LZ39zNyKTi1BzphFludsR+bIVt/Q6mWhE++61CInYgl2FJ9CgpH0xDpVKZBe0DM8oCfqsaDlzA7eU8b99oaZRhhbrULBTjs1PPIGoJBEoKMuOFyEl+aIIaHRY+qNEmWaaLNDD/voGRMrPUr/X8ctw6oxY9bSWpPuC2IabWlB7y6Fta8MZC7rVOXdKBHrV9cg0ifUf343NFZMJ9KpxNkP84fsnsCuhSgZ6QnoqNi7RacdJfp+awp2IelYE1jf1CHtuzzjBlgmZz5mgv3kZlZvi5LErR1ZCuBro6pbEIM0z0F6gQ09FHDaKoLDmjAguk7bg7DVAF2TQ9qmaV8T85LWouSz235JQ7fgTERER+QkGezTrpSxT7gjZ0XnIos0YcroBNoccn0DldR8TjqXPhn7lTuC80cHllNzuRnuuR6BV1KMFUPepU3dF5JFqZK4Rgebp3YjK9div41lzEDUZEQi4Xodd63NhlrMVKU8aRTjs5Tj1FaG5Swm2H0d8kJznKSgeoWLZYFcLDvfJeZL5kBW9SqD9pMcrI273orPIdd/Z0fuZcpB68TuPfVrbN8XjT0RERDQDMdijWc/4bb2IAuyweQQBQCMcf5GjLgzPZKCyvg22D66O9NvbZJRLfRGMpEMnYb7UhR6xDq3fVzbCxGZMuy8H8JWHIf+4SW2CqRvsxtnySQR6MCDhSDyMukHYGl51C/QUYx+noWA7AAuH+k16WvMtsRRwXK/Spl31XYMSw+m/vUTOkCax7+y3Rzf3JSIiIprtGOzR3LLjJJrLUhHx8CCsxwuQuWc7ohY/gsWne2WCiZhQ2FqP/M0h0H3cjNKXspCSEI7FiwvQrtw08gP6IAMGftuNQf1K/Pxg8oQPnRmmN8AweBndn+sRmnwQKWPdpSMiIiKirwSDPZr1bgw4RaARiNH35kx4wKNV5b5nTdDf7kbtsxuQovb70vq2JS0K1BJMJHYHIh/VwWEpQFjCXrXfmdaXbwmUG1c+0T0wum9awHxMcwNQN7oFJjk2ImC+908c/G05EuI2oLRtEHpTBmoOjf5br0SgV5oYh6hyqwgUTciscn/gidqEUgSEIV6CwJSHlP0/gBsXtOlRLtjVu3SBD3k01VQEhWCxctPws2tyBhEREREpGOzRrFfbpdyVM2LVEY+gZE0igh+S45L6vJYvB2B3a0oYj4jvjxGp3fcP7ne2HtSpr3Nw/tmqTUuG/SG+3QG7LYZvLBRhqCsDMp9SXp0wDcZ4117gd56UY1JQBkwiaPXq/3WqfQIr/2U3Wq7rYIzNQ+FYzSvd3IJT2a/HtmgPTXk0BvlHIrRFQuU7vXCK7xr64sg8ldiWqBVi//ddQZ2XJp6qvka1+ad+xXpkegSLkS8+LtbqRM87Xpp4EhEREc1hDPZo1rPnnkP758qrD4rRfCgVMbHRSMqqgLl4NQI8mlaes4kwRh+KlNo8JIl0MakHcdaahxB4tsGsQnefUwQiq1GalyjWmYiUrSJEO/YOem6K8GxNNUpTxd+L+ZlVrWjeHIgBMX8iZb/phnPBSiS1ViBzm/j7bRkora9HSpBz1BZMivUaHNBj1XMVSFO/VyIS1AWvwvy+E7qViTBXZajfOSmrBGdPJ2Opc6JPtCBlfx16RSCdsL9k9KsNxmF+IRe115RjkofSoUCxZDdq3hPh3tPFw9ui7n+xLaELBtF+Ih3tMuloVuwqPw+HbiVSTtej0GXflz4tQr0PG3CkRCYlIiIiIhWDPfIDVdicmIuGazoYfyaCp+IS5G9biYFzWSh91z2gaU/LRaXVgYAnEpEv0pX+IgqB/SeQ9aptVLB1oPgE2q/rELpNBCzFeUiJUBqKlmNXQSN6bxsRI4Imdf6PRHBTEAfzde3vxmN/+QUcONMrgsh1SMsTf5+TjMgHbajZUwe7ctfvTp15BWVivc6H1iFT+V7pmxCsLrDjwM4CNHwoAtSfpKrfOT9ZBMEfnMCuM+5PpPTqwl4cOCfWGxSN0je8NKEckwVZrzSg928GxBw5iRR1ntiWDXHIOeNA4GptW0qz4rFUeW/eSxuw+ZiaaGynd2Ljv1ehQ+z7BLnv01YHwmGpws/X7h0nUCQiIiKam762aNF3/y7H7xmT6cewWn8tp2iuYj4gmll4TpK/YF6miTCP0EwynfmRd/aIiIiIiIj8EIM9IiIiIiIiP8Rgj4iIiIiIyA8x2CMiIiIiIvJDDPaIiIiIiIj8EIM9IiIiIiIiP8Rgj4iIiIiIyA8x2CMiIiIiIvJDDPaIiIiIiIj8EIM9IiIiIiIiP8Rgj4iIiIiIyA8x2CMiIiIiIvJDDPaIiIiIiIj8EIM9IiIiIiIiP8Rgj4iIiIiIyA8x2CMiIiIiIvJDDPaIiIiIiIj8EIM9Ih+k1Hahv78VhXJ6Jii0fIJ+20mkyGkiIiIiIlcM9oho+gQlorS1Cz0fi0C0XwwftOFUdoRcSERERERfJQZ7RHNQTPUl9FsOyqnpYsC+imzEBDnR8XouduWWw3wjEGE7D6EyViYhIiIioq8Mgz2iOScCPw1ZKMen01aEfU+Hwc4qbM49gYbjRXi+2AoHFsJokkmIiIiI6CvDYI/8RAT21bTC1iObD4rBdqkJpVsNcrm04yRs/V04tcOApGKRXjY3NB+Ry5X11LYNz+//uAvmmmwEyqWeDFtL0HxJ6c8n09tGN1tU+9Ypd9HWZOOU9apMN4m+dqOaRl5Cc3Ei5svFIwyI2V8Ns9ie4bQfX4WttQRJQTJJbAnMH1Rj/SIxviR+eLtttcnacsGX7zQe3Xy9HBMe1Gnb+Td1ioiIiIi+Qgz2yA9EiIDqKFIiAuGwnsDh3enIKT8P+/8wIuaVJpza6RHwCQ9sOIn8pwNg/00jGs40iuBGmWvAviaxHlMgbl2p09ZTcREDP0hEQoj6Z+5E4Nj8SjSMt2yoKUxXmy22fBqAsJ1H0bzf4zPvW4qzZcl4zNmJFvF5DecuolsuGl88Kk/nIeZRwP52OXLENh0+bYNOBI6RC50yzRA7DMtCoHd0ovY/xPbszkXZ23bg0WjsK0rVklyuQ+FLVegcFON950UaJV069pS2aMsn851GeR3tHzmhW/4MSteIyaBkvLbTBL2zG+ajWgoiIiIi+up8bdGi7/5djt8zJtOPYbX+Wk7RXHXH+SC9Hj0ZK+F4czvCXrDImUJQBs42pyL0RiM2h6ejXZmn3NnbrwQgvah9YS2yLqgpNbHV6CiOQMDlckTGFInQSQrKQ7M5EcHzxN8sFn+jzjShtO0kYu63IGvVdtSq8xTxeK3jICJhwS4xv0HMUe7sJSwBBq0FiEqoGlmvL/Y3oX9HMOye322T2NYjEQgctOJAyBZUytmjGcR2tiFGb0XOD7egRp2XjFO2bITdqMPiiL3qHI3v32lM4Qdh/p/xMDpvwKFbiEDxbVte3oKU1yf1rWmGYNlM/oJ5mSbCPEIzyXTmR97Zo1kv5UkjdCKo6DzkEgwp+orQ3DUogrXHET/UjFEa7DztHugJhnCjCE4G0dHiEugp+nLR/pEcHxIUjRCxzsHebtyKjUbM8PBX2K87gUCDCJ1c9eKtvZMM9ISUZcrdNC/f7XQDbA45Pi47bH8Q+2AexD6awKS/02iGbwziswExoheB3n12NLwQzkCPiIiI6B5hsEeznvHbehGhiKCmT85wUXldiYgCsFBpVujCcb1Kjo2IWhQg/nXAXqFNu3J8obR7dLHGoPbj05tSUVpc4jYkrfQSVg060Otl+yYy9ndrhOMvctRF8LaDONV6CbYPrg7329tnculDN57JficPkXlNaC5Lxqr/7zJqT1ng+JsBMcVNyHfZ9+r7Cj8W8zyCbyIiIiKafgz2iKbAfiYcixc/4mUYau751Qk71IqGvHg8puvBW69mITNtC8LEthywegSqE7ij7xSUh8ytwdD3NeLnT8Qh68Xt2LinEb26YCQdbUOl8qCcoAxErRCB50edqLyDwJeIiIiIJofBHs16vZ+JYEZvUJsgekp5SLlXNYAbHk02ven+s9L+MBCGbdq0q4D5Hne2LvxJrFWkDtqkTd8lNwac4rsFwiinR5jwgNsmRSP5J0boHBYcCN+CrPJGNLxpVZuNGr/p4529qXynNUYY5oljcSkdZjnLfi4dkXFFaB8wYH1ePcxViQhdcAPm6txJN2clIiIiosljsEezXuU7vXDCgNAXPV4PMHQnqe8K6ny4k9Ru6YUDejy2buQ1BCqxHtOjHsFeXx06xTqHnzx5l9R29Yp/jVh1xKO33JpEBD8kx1Xfhk55x8GXf9EeRDMkKBuPjdVk8r5/EHvNxVS+0+dO3BL/GYwZ7ut8rxybt5ej88uFMD6qx2BbOZ4/LZcRERER0V3FYI9mv5LdqHlPhHtPF8NclYEk5aEiqQdx9nQyQhcMov2EfBLnRE4fg/lDJ/SmDLTXuK9n6d88X3Ngxa4TFhEcGhBztA1ni7X0SVkHUVnbCnN1okw3Nfbcc2j/XIR7scVoPpSqPjAlKasC5uLVCHBrnVkFq9h2BK1GTbFLuqZELFTuDrqpQneflrY0L1GkTUTKViWYnMJ3OvM6zNec0K1MxtmmahRmJQ7/XUd9KkLvv6E+5EUfnoHmPN/f2UdEREREd47BHvkBOw5siEPOGQcCV6ciX3moSFY8lqIXDS9twOZjMtmErMhKzkKl1YGAp+R6fhGFgK5yxL/ppeHhse3Y+O9VMF8PQEi0lj4/NR4R39fhsz7ljtx0qMLmxFw0XNPB+LMM9WEp+dtWYuBcFkrfde+LV5ZRgIYPlcBQpkt+ErhQgI3Ku/Y8HCg+gfbrOoRuyxNp85ASIRuK3vF3siBrm7bv5j8agYTUPPXv1ocGYrCzDjkxTyDM9AJqP9QheNtRmI8w4CMiIiK62/iePZoxmA+IZhaek+QvmJdpIswjNJNMZ37knT0iIiIiIiI/xGCP6B4ptGjvwRtrMB+RCYmIiIiI7gCDPaJ7JCvC27vsRobIPTIhEREREdEdYLBHRERERETkhxjsERERERER+SEGe0RERERERH6IwR4REREREZEfYrBHRERERETkhxjsERERERER+SEGe0RERERERH6IwR4REREREZEfYrBHRERERETkhxjsERERERER+SEGe0RERERERH6IwR4REREREZEfYrBHRERERETkhxjsERERERER+SEGe+TXCi2foN92Eily2ncHYe7/BLbaZDktbKpAe08Xmg+Z5Az/kVLbhf7+VhTKaSIiIiKa/RjsEfnsf4NOp4de/y05TUREREQ0czHYI/LV6e1YtfgRhL3QKGeQIqb6EvotB+UUEREREc0UDPaIaAoi8NOQhXKciIiIiGYSBnvkH4ISUdrahZ6PP0F/vxg+uITm4kTMl4vdGZBU3IQOm0yr9M2znsS+NXLxWHachE2kNR8R40F5aBaf1dOQoS1zk60u62/JE5+kMWwtQfMlpV+c/ExbG05lR8ilGrXfnNK/UH4XLW0rXs1rUseb84bW5iKjHj3qNnlZ5lUE9tW2wTa0nz7ugrkmG4FyqavgbSU4a3XZp2Jw20+xJTB/UI31i8T4kviRNK79HNdk4zWLyzp6xOeJ4+Lr1hIRERHRnWOwR34gHpWn8xDzKGB/uxw5u9Nx+LQNOhFoRC50yjQjUt5oQn6sEc53T+CwSJtTfh4OvQkpR5uwL0gmmkjfMXR8BOiWi+BJzhq234TgeUC3NRd2ZVoEic2vRMN4y4aawnTsyi1Hy6cBCNt5FM37PcOeAET9Kg9R37DDfKYRDWda8JvcFnTeFMHXP+8YFSTtW7sSutvdaC9XP2kCBuxrOooUUyBuXanTvnvFRQz8IBEJITKJiwdWLMNSpw3NFbnYpezTU5dxa6HYT/tLEKYkuFyHwpeq0DkoxvvOq2mUYU9pi7IUCD8I89FkRH7dLtdRhNr3nDDE5uFsdbyWhoiIiIjuGgZ7NPvt36reXbK/uRuRyUWoEUFSWe52RL5sxS29TiaSwkuQFK6H40Iuwv4lF2UibU3hTpHWAocuGDH7o2XCidiRY+0G5gUjbL+cpTIg3xQM3LwM88vKtAmliSboHRbkhG8RgaUI4I4XIWVtAcwOHYKjRZCq/p2kD0aIsw4/X7UBz6vBkwiQUI66SzeAZRHIDJfpFEF5CPse4HxPrLtPzhuPCLJiluvgvFyFjXF75XdPx8ZNdbDfr5eJRrTvXouQiC3YVXhCBJ1in74Yh0olsgtahmeUBH1WtJy5gVvK+N++UNMoQ4tVCzzT0mNgRDcqn90g11GOrLg41L4PBK7eOjpIJiIiIqJpxWCPZr2UZcr9Ljs6D1m0GUNON8DmkOOSIXqZCMcG0dP9V8TERo8Mt+2w3xRBiGESr1V4Wd5xM40010TQDqxSArD3LTisTkcjJAgY7O3GLdfPi/0r7NedygeKcNDVIDpO7oVZTg2pPWeDQ3xK6OaR1IZtoQie54TNUiTnjM8QbkSgsv6WIu2O45C+XLR/JMcnUHndY4eOKRmmR0Wgff0abCtdv/fj6LaLT59nQPA2mZSIiIiI7goGezTrGb+tFzGSHbZRd7ca4fiLHJWiHlJ6p+kRll6C0mLXIRGhC8SieWoyH5XD/L4I2L4XihTZ/FMLwERA1VyuzVhjUPvD6U2pHp9XgqSVHncdVQ7Yj8lRV2eOwSq+n+FHO5CgzjAgLTxYJLeirkSdMaGoRQHiX7H+Cm3aleMLpS2mO8MzGaisb4Ptg6sjfe42GeXSiSyBcliwJHrU9y5cJ0Pj+7T/iIiIiOjuYLBHc5AdDeGPYPFiL0PEXpnGN2V1VjiUppypSgAzFIB14pxHwGY/E+798xavRZZMMz4rDlu6gcBQPLNDTIbvQdgS8VHd51GrJZheSj/DslREPDwI6/ECZO7Zjihle0/3ygS+GbQWePnOyrACm70FtUREREQ0bRjs0ax3Y8AJ6AMx+p6TCQ943Dxr/uOA+DcQhjhtespOn1ebihpD/w2GoH/DKs8A7MKfoH5i0CZtegrs6oNa9FgVlYqwnz0uQks7rP+zTi6dWPef5Xf30nwyYL77jtr3rAn6292ofXYDUtT+dhaIUBNJi7w9t9Oba/hsUByWxaHaw1yIiIiI6CvHYI9mvdou5W6TEauOePS3W5OI4IfkuGQ/c0WESDqEPlOCSDlvaurQ8N4NYEkoMneHiq2w47JrANZXh84+5amdz6B0olc7TEh7UIvu0QjsWWEQ676Cuja5yAftll44oMdj61xejaAIytD617lQn2vz5QDsbk1j4xHx/dEPclHd9w8j/RZVVbB+KILwh55E6k73JaMFIzI2GpHL5SQRERERTQsGezTr2XPPof1zEe7FFqP5UKr6IJCkrAqYi1cjwLMrWls6aiwiOAuKxi+t9SjNShTpE5F5qAKnLK147Q4eGtLw2jsixDMiap1RDcBq3AIwK3adsKgPV4k52oazxRlIUrfvICprW2GuTpTpfFP7pg0O/UqEBgHdliNol/N9cvoYzCIA05sy0F6jbUdM6kGcPZ2MpX9zf0XFOZtdRHyhSKnNG0lnzUMIPHdoFbr7xN8GrUZpnrYvU7ZqQXdZSQN6nXqEZTXBXJOHNHU9eSitaUJHQ56aRnWoGK8Vl+C1ooNyBhERERFNBwZ75AeqsDkxFw3XdDD+LEN9CEj+tpUYOJeF0ndHP3ikMikOu45ZYL8/WAs+ikUg8rPVeEznQO81mWgy2uTduwUi8OyqGx2AHduOjf9eBfP1AIREpyJf2b5U5S6ZDp/1Ta4PnBKwXb4u/lferZfry7v1XFmRlZyFSqsDAU9p21H6iygEdJUj/k33dbWn5WrpnkgcThfYfwJZr9pGhXsHik+g/boOodu0fZkSIRvUtu1FZJw4Lu87EfiUCKiV9YjgOio0EIN25UtIPQ51nc6bo48VEREREd25ry1a9N2/y/F7xmT6MazWX8spmquYD3wQlIdmcyKMV4qwNE4+8ZPoLuE5Sf6CeZkmwjxCM8l05kfe2SOaRSJfjEDwvBtor2OgR0RERETjY7BHNNOtiVf7zaUdalLfUed8vwE5p+UyKaW2S3sP3hiDrdbjoSxERERE5PcY7BHNdGt3qP3mMjcHY/61RhzYWQDP3nqVCSu8vMtuZAhJqJIpiYiIiGiuYLBHNNO9uHYkaFubjhq31yEQEREREXnHYI+IiIiIiMgPMdgjIiIiIiLyQwz2iIiIiIiI/BCDPSIiIiIiIj/EYI+IiIiIiMgPMdgjIiIiIiLyQwz2iIiIiIiI/BCDPSIiIiIiIj/EYI+IiIiIiMgPMdgjIiIiIiLyQwz2iIiIiIiI/BCDPSIiIiIiIj/EYI+IiIiIiMgPMdgjIiIiIiLyQwz2iIiIiIiI/BCDPSIiIiIiIj/0tUWLvvt3OX7PmEw/lmNERERERERzm9X6azk2NTMm2JuuL0SzF/MB0czCc5L8BfMyTYR5hGaS6cyPbMZJRERERETkhxjsERERERER+SEGe0RERERERH6IwR4REREREZEfYrBHRERERETkhxjsERERERER+SEGe0RERERERH6IwR4REREREZEfYrBHRERERETkhxjsERERERER+SEGe0RERERERH6IwR4REREREZEfYrBHRERERETkhxjsERERERER+SEGe0RERERERH6IwR4REREREZEfYrBHRERERETkhxjsERERERER+SEGe0RERERERH6IwR4REREREZEfYrA3jVJqu9Df34pCOT0r7DgJW/8nMB+R05JhawnM734ivo822Ooz5BIiIiL6KhVaxG+x7SRS5DQRka8Y7JEXqSjNjoYR3agtTMeuwhOobTgtlxEREfm7gzDLi53jDbbaZJmeJhK8rQTNl7rQ8/HI/jO/IhcS0V3DYG+W2dfyFfy4bHsSSxcA9osvIKu8EQ3luTjwul0uJCIi8ndX0HxG/P4ND5fhEHOd1ywu8xpx9mK3lnyOiam+hH7LQTk1scgjrWjIi4bxdi8srxdh1+507Motx9kumYCI7hoGe7NJUDbCHpbjd9N92n/O2wzwiIhoLqrDYSUgGR56MCjmOj97x2VeOnIqrFryOSUCPw1ZKMd9sKkahZuMcFoLEGmKQ4oI8tRg+XgRythoiOium9XBntpHTmnDviYbp6xXh5sF9LzbitJtwTKVZjhtUCJKW5W+dUpa1/51BiQVN6HDNtK8QFnPa9kRcrmrCOyrbYNtqCnCx10w12QjUC4doTUD8ewPp/Dev8+AmP0n0W4b+S79PV1ofmUdkH4SNnMyghcAelP28HJv6x5LZLaybrleMdgs1djnttHRKGzpQk+2CXoxZdwk007i6h0REdFcpPR1V5opDv3G9tvacMqjDqH2vVN+U13rLa598WQdZbip4weX0FyciPlysSulWeRZq3uzSJv1JPatkQlUQ/UQpY7T6lZvaa/NRkyQTCZNuM7YEpg/qMb6RWJ8SfxImnFaHKXFmxB4sxu1e6vAS8hEX73Zf2fv/hDsOpqIxZ82qFfhcsrPwz7PiJi8X+HUDplmWACifpWHqG/YYVabYLTgsjrfIIKvJuTHGoEPG1GWm45dhXXoGAxE5M6jopB0LawN2Nd0FCmmQNy6ol35y6m4iIEfJCIhRCa5QylvNKF0hwkBn1rVK16HjzfC/J4dPZ+cByzHsG+P+G4i3eDlquGrigdOaH87EcP+Jvxypyhwv7ys9cPLLYf58xAkPee60VdwriwHmccuq1cw7W/Kq5evvK4tJiIiotF2nETzK9Ew3rKhRv7GtnwagDBRh2jeb5CJpPuW4mxZMh5zdqJFqYucuwitMWg8Kk/nIeZR8fv7djlyxO/v4dM26ERgGLnQqaZw9cCKZVjqtKG5Ilf9rT586jJuLTQhZX8JwmSaIYb1oo4jAjarmrYItVecCDQl43DVQbe0E67zch0KX6pCp1JJ6Duv1RHEsKe0RVnqRTJMj+qA31txoE/OIqKv1OwP9ubpccuai7C4vSgThWZN4U5E/msdem/rEfZsngjNXOiDEeKsw89XbcDzagElCjxlfvgeJJn0cIogamOcKNxEkNVQvhebw3ej5boOxqdTkaauQIgVBfFynUw79Jnp2LipDvb7lfthdyi8BEnhyjaUI2rtdvWHQgk6n4/bgF3HxPL3lH4CX0At7m/dGO4vYH5PmTGRaORHB0N38zIqN8Vp/fBEMLkrLg611/XqXTyNHe1vimWOW+qU86b2GQ0X5mafBCIioomZUJpogt5hQU74FuTI39iUtQUwO3QIjhb1BplSFbQSS7sKEBWxBSlKXUQET+3K/P1b1Ttm9jd3IzK5CDXi97csdzsiX7bill4ETB7ad69FiFiH8hA15be67MU4VCpRWNAyPCPTDNHdb0fNhrVIUdOWIyvuCRy2DkL3aCSSN8lEwoTr7LOKAPUG1FrC377Q6ghiaLGOdc9uCb4tKhn2T66PahHVUS/2i8edRSKafn7QZ28QPRfr5LjUthcd18T/D4cgQZsjDaLj5F6Y5dQQQ+zjIigUy1qKPJoYWJBv7QUWGGHaqc0xhBsR6C1tXy7aP5Ljd2DsbZgGQT/B0kDx7btacNjtypodOVYGckRERHcsKBohImgZ7O3GrdhoxAwPf4X9uhMINIhw0FUv3vLSpDFlmXJ52o7OQxZtxpDTDbApT4fxQeX1MRJesyHH485a5XmbqHUsxNII963zNOY6fbHDoHZxCXgyFQnffB81+dqdwMONDsz/UeKoO4tENP38INhzwH5cjrro/e9BEaTpRTHmSqRV7pJ5iFoUIP4Vyyq0aVf2qw5RGOrxbaM2PV5axxdKu4Y7M956p2zNt6Cu/XqVNu3qDwPi+81mwYh0+3GNRuRyuYiI7gGekzTHrNECGr0pFaXFJW5D0srRd+Qw6ECvlyaNRuUW2KAdtlHLGuH4ixx1YXgmA5X1bbB9cHWkj90mWVnxMPjfyhVwD8ftotYhArFvjDzjYDLrnAz94DvYtXan1nJKuWO4ey0OWG5odxZjZaLZaHmEW1kXExshSkCimcUPgj2a27Zin8eP675EuYiI7gGekzQ32c+EY/HiR7wMa5El00wbpY9gWSoiHh6E9XgBMvdsR5TyWad7ZYI7cDfW+blTbfLZeyl9VKuq2t8oTzjVI+AROWM2Ssx2K+tKi7ORJBcRzRR+EOwFwrBNjg4zaFfIbg7ihpwznma1iYJYj2yq6coQYhBF0SA+k2Vd958HxL/ePhMImO/lCp6gWzC6iYRn2uY/yvV62YYp++gvUNe+yEuNK2A+vG/1bLEXkW4/qo8gco9cRET3AM9JmmMu/En7jQ1y6fx2B24MOAF9IEbfRzPhAY8f6n3PmqC/3Y3aZzfIfngW9SEvSYtGPxdcof/mEjnmQjaxHPiz1p1jsuv0yZle3Lgt9s1DXp7WqdY/RDCo7LzZas9at7LurgT2RFPkB8GeHktXx8txac0e7X10v7dpD2CZgL3xfdjFelatz3B/oAsikPOEmHOzF1bZvLLd0guHSPvYOo+CKyhDe+KUF4HfeVKOSV7S2tveV9c7ehumQZsFPSKe1f9w3cjjnVUGZD4VPMuDPSIionuorw6dfYBu+TModXvtweTUdilXlY1YdcTjAvGaRAQ/JMcl9XktXw7A7tbkMx4R3x/jQXFLQpDv9jAUA1LWhIhaxw30WLR3BU56nff9gw/1lQK8dcUJ/Yr1yPT4fK3+4YD9gpxFRHfF7A/2bjsRYMpD+xt5SIuNRlJWBczF0TDMuwFzda5vDztpS0fZ+RvQrUzG2fqD6npitmWgsrUY6x9yorexCGUyKU4fg/lDUXCZMtBek4EkJW3qQZw9nYylf/N8NPKrML/vFOtNhLlKS5uUVaKldXr0lDvzCiqVJ2OtTEVzazXyU5W0B1FZq7zrT6aBFb1/FAVy6FZUiuUxsalI8ulCYh2q3u6FU29CZls1Mrdpf1tYX48Uo1N7wicRERHdASt2nbCIsMWAmKNtOFs89Huv/Yabq31rx2zPPYf2z0W4F1uM5kOpah8wrU6zGgEeVYZzNlG70YcipTZvpB5izUPIGL3wnU4jkv6rCaVZicO//5nKU8jfb0COfLG57+usQnefqDkErUZpnrK+RKRsHfshL2VHG9A7byXSmlpRqXy+qF+VKvWPlToMtp1Glpf+i0Q0fWZ/sDfPjuY9dXB8Lx6ZxSUiSFoHw+1eNLwUh+dlAeaL2uQ47DrWCeej2npK81IRsdABc8ULiHxRu+qlsSIrOUsEZg4EPJWKfCXtL6IQ0FWO+Dc9Q0s7DuwsQMOHgOEnWtr8ZFFof3ACu86MTluZ8BxyznTj1nci1KAwPzUe60MCgJsyCRqRX9aI3psGrBfLS4+kImGFXDSB9he3I/OYFY4HI5CWp7Qrz8BPH7yM0ueafQuIiYiIyLtj27Hx36tgvh6AkGj5ey9+wyO+r8Nnfb72eavC5sRcNFzTwfgzERAp69i2EgPnslD6rnvA1Z6Wq9VDnkgcrocE9p9A1qvKEzZH+/+3dz9AUd33/v9f/dX5kVuna362EttmLal40wYS22gzk2ViheqoNw5B6VUSbyD6E675fkX9XoQ4XA1DsY6idviXXyz4I8GWCn6/KmFMNUMClg6buVZNTJfWFJJ42Uxzs95vWreT/MJ3/E5/n7P7AQHxPyocn4+Zkz3nc9579pzNepbXnvM5p9f8jbL9rRilrCqOfP9nfC9GIX+N/nn+lv6/Aa5lmZvL9qjjwxjNWO4sr1g5yZe5iMvrG5TyrHlvzsZq/mpTb/6+cm5hFTxQpKX/NMyF4wCMqC9MnvyNv9nx28bn+4H8/l/bqauX03BKG30hNXCOtCtc7+cAwM3Bv0m4xZ37Wd6q1p6livVvUWIGwepy2N9hNBnJzyNX4wQAAAAAFyLsjXUr6xVw7oNzqSFQP+SiLAAAAADuBIS9sW73MiUOuuzvkCFxmaptKQAAAIA7x5gOe9UZ002gob8eAADAxaL3vaS/HnDn4sgeAAAAALgQYQ8AAAAAXIiwBwAAAAAuRNgDAAAAABci7AEAAACACxH2AAAAAMCFCHsAAAAA4EKEPQAAAABwIcIeAAAAALgQYQ8AAAAAXIiwBwAAAAAuRNgDAAAAABci7AEAAACACxH2AAAArsXKegV6PlDrDjsNAKMUYQ8AAAAAXIiwBwAAcKssrtXxnhaV2kkAuJkIewAAALdIyoJExdpxALjZCHsAAACXkFJYr47AB+rpiQ6BtlptHC6tPZSpiv3tCnRdqO0JtGtvYbItSFVF22m9PG+SGY9XRn9NvXIi871Ke75WrcdOqet9O+/90wq0lCsrLlIwrIy6Y6b2mF5eYhsGSHqx3cw7pb0rnamrXH6kP6LznFRtbDDb0197Sh0NhUqxZX0Slper9e3T0Rpn6Dqtrj/YwV+rLFsH4PYg7AEAAAzD+/wh/WyVT7GfnVRD6VqtKapS6yeJynoq0VYMcPcMJU7t1e9erdKmdaa2tFEnPotV0qpiVcxyCt5S444CVZ8Mm/Ggjjg1zvDcCzrszDZt3gcS5QmdUMNPnXlFqnwjKN1vQtfO1ZGK4TT8v2+aZ05S4uNLbUufVGV/3yuZ5b2y25m+luV79OC6UmVNOavWXUWR7W56q1exvmxV/CLb1hhLalVXnCpv+Ki2r1iopIxV2n40JI2P0bljO5X/k91qtaUAbg/CHgAAwEVSVZKaoJhPT6p6SboKqprV9NJOrUlPV8OHHhOHhmhfq5TvztWT63aq7oCprdqgRbUnFJbXBDGnIKiOV5sV+twZ79VfnBpneNVv5kRVZjyimQtXaJPzWgf2aHv2CrWekWKmPnrpI2TtO9T6eyn2kSXKtU0RS9KUGGte9be71WCbrmX5ns/92uRLN6F1j93udWr70LQnzu6vTZvvnJJ6Vh1lq1T5eqeC/tdUmf1zHTd5NvbrUwdtG4Dbg7AHAAAwVNwPNc2EpfCpI9puAtEFQW3yd9rxK9gVVMh5/GJk6joEFfiTSU7jTCCzLRez6zM+QSl5tsnIeNwJYkGd2Ou3LcO59PJD7zT1h8Qov473DFf7uf7Xf9rRgUwdgNuPsAcAADDUnK9qgnkIfVgTnR7oT+fknIw5SFyq8mv2q+Pt0+rq77e3VPF29tVIWL5Ve1uOKeD0d7N95Tb6LjqGeLEfH9GJT2M0Y26xvJGGbD0xY5L0+zZtb480RFzL8sOfNNuxS2s6EjBh1qvkzbuUOydBeihZuTVPa6ZZZPD0a7YKwO1E2AMAALgh2drbVK7c2V6Ff1ujzc+t1TML79OUKY3qthVXkrStRU3FS/VgTJd+9UKB8nOXKWnKfdrsvyhWDqNKjcfOSg/4lOtcbGXt/Ejg6vy33eo7jfLGln8J+1aoYPdJ9d47T/m1h9RzqFb5sycoeKBIGc+22SIAtxNhDwAAYKg//lXnzEPs5Mzo9EAT7hp8KuPzTyhpoglXv0zXguxon73Wd0z7cu9V3mYhVdk/jFdMqE2bZy2L9g+0/d3iv3IVR/aM6IVa4pWUZwLfrGhfw18V9UW9G1/+8Hya/1iCPB826xkTHKc4w7TpSlm3pz9kAri9CHsAAABDtbepKyR5vjvP3hqhj1f5JuAMCnseZyqsv3w0OOJkPDbt4gu5RMTorkG3U7hHMXeZh8/+qo5oQ1RcoR68zG0XBrEXavEm5inlgRj1/r5NlXbWiCx/WKmaeX+Mwme79LFtATC6EPYAAAAu0qiaN7rV6/Epv71W+ctTlbZ4tUr371dOfK96bVVE8+8VNLFu5op6lfTXtavkIScCDlb9TtA816uUsmJlLU5V1qpMJalG/nfNEuNmq65stXm+aS/YpdZDmZp0btArXUZQ1f/WKU19WDPGn1VHY5Vtd4zE8ofzgg62h+X5fp4O991nzxmu4v6AAG4Nwh4AAMAwOp5bofzdfoUmJiu3uFwVZXn6h4knVfHU4cGnKbav1aZdpu7LPmX11X0tqLoNVfrdJ7amz5adqvMHFfNQpkrKylWyYnbkIi6VeVvU9K4UvzjPPN+0Zz8qvb5Fi5x74V2lYFGbTnxqRkIBNe2LtvUZieUP5lVO7X6t8Undbc6tHC4MR94KKca5f19Voa0FcLt8YfLkb/zNjt82Pt8P5Pf/2k7hTsXnABhd+DcJt7hjPstLanV8R7J6X1mmpNzL3XJhBCw2r1VmXutV81rPDn0tryra25U20a/NictUbVtHM/Z3GE1G8vPIkT0AAIAxz6v8p3yKPd+p1p03Oeg5JsbI6QYY/mi415qvSRPNw9mgDkcbANwmhD0AAIAxKumJpUpbnKn8unrlPByj0NGfa9Ogm8DfJK93KtgrJSxpUXVBZqQfYF9fwMPH85TkCauj8QWuygncZoQ9AACAMSr+HwtVUVas3MdiFfLXqGBFo51zk53Zopz1NWo9G6vkVcWRfoB9fQEn/dmv6tyFenIXUQ+43Qh7AAAAY1TdP02P3t/uW99WUsYWtdr2WyH4yhY9kzxd075l77Fn77M3c+4KbX6FoAeMBoQ9AAAAAHAhwh4AAAAAuBBhDwAAAABciLAHAAAAAC5E2AMAAAAAFyLsAQAAAIALEfYAAAAAwIUIewAAAADgQoQ9AAAAAHAhwh4AAAAAuBBhDwAAAABciLAHAAAAAC5E2AMAAAAAFyLsAQAAXIuV9Qr0fKDWHXb6JsppOKWenhaV2mnFFepg4LSO12XbBuMWrg+AsYWwBwAAMIbcFROjCRMm2SkAuDTCHgAAwFhxZosWTLtP09K22IabYHGtjg88mghgzCLsAQAAoF/KgkTF2nEAYxthDwAA4BJSCuvVEfhAPT3RIdBWq43DJKHSNjO/baudGmCY/nSRfniBeuXMKdRe/+n+ZXe93aKK5Qm26lK2qtVZj4YBffaGE5etvW+b5b69Xxvn2LaHMlWxv12Brgvb0xNo197CZFuQqoq203p5nnOKaLwy+mvMukYLAIwxhD0AAIBheJ8/pJ+t8in2s5NqKF2rNUVVav0kUVlPJdqKG/ClRK15MVNTPmrS9nVrtanqNQXHxSut+Jfau9LWXLdklb6Up6Tx3WpYn67Nr9vmu2cocWqvfvdqlTaZ11xT2qgTn8UqaVWxKmY5BW+pcUeBqk+GzXhQR5waZ3juBR12ZgMYcwh7AAAAF0lVSWqCYj49qeol6SqoalbTSzu1Jj1dDR965LFV122cR5/7i5SUvkGVB5pVV7pKKf+lUd3nPUr6UbG8tuzaJavkSJky7g2rdecKFfQFPUf7WqV8d66eXLdTdeY1m6o2aFHtCYXNqyU+7hQE1fFqs0KfO+O9+otT4wyv+s0cAGMRYQ8AAGCouB9qWqwUPnVE28/YtoigNvk77fiNCKvraKMdt9o36Ph75vGbicqItlwjr3IaypT1gNSxM13P7LqKiGZqQs7jFyNTAFyGsAcAADDUnK9qgnkIfVgTnR7oT+dMVLtRIQVfsqMDdP9Ps+TxHl3PjRU8M2qV7/NIZ46qZrigF5eq/Jr96nj7tLr6++0tVbydDcB9CHsAAAAuEDs1Vt2/DarXhLqSsr6LrvTJ1t6mcuXO9ir82xptfm6tnll4n6ZMaVS3rQDgPoQ9AACAof74V50zD7GTM6PTA024SzF2dJCYu5VkR/tdqlax8i63o/28ir/HI30a1lnbci2CB57SgvQNOvhur7yLywZf6OX5J5Q0Uer8ZboWZEf77LW+Y9qXe7nNAuBihD0AAICh2tvUFZI835035LYDXuU/lnBxgDtvhv9rknzRKesStREeTZu91I5bc9Yr6Zvm8d8Daoi2XJPe805fQr8Ksmt04lOPklbXKycuOk8eZy3C+stHg0/vzHhs2iUuNhOju/qe2y9BKYtTlfKQnQQw6hH2AAAALtKomje61evxKb+9VvnLU5W2eLVK9+9XTnyvem1Vn8rfdKp3/MPKatkVrV2epwqnNq53+P5953s1wVesjl8UK9cEqKyCXWotS5V33Fm11hbd2NUvz+zUmnK/whN9WrM120ROo/n3ZpkezVxRr5L+bWlXiQluQ9ev+p2g2T6vUsqKleWs26rM6BHLbWV6uaxcL+8c5n6CAEYlwh4AAMAwOp5bofzdfoUmJiu3uFwVZXn6h4knVfHU4YvCWPDHz2rzgW4pbl60dlO2UiYGVLe+UUHnqN9Q44I6bOaF/n6p8k2AKlk9T97z3Wr613Q9s8/W3IDgrg2q8Ifl8eWpbpsvctuFTbvMtnzZp6y+bflaUHUbqvS7T+yT+mzZqTp/UDEPZarEWbcVs6MXcekKRYJh76c3fnkaALfGFyZP/sbf7Pht4/P9QH7/r+0U7lR8DoDRhX+TcIvR9lnOaTiljb6QGqbMVYFtw+3F/g6jyUh+HjmyBwAAAAAuRNgDAAAAABci7AEAAACACxH2AAAAbqHqjOmaQn89ALcAYQ8AAAAAXIiwBwAAAAAuRNgDAAAAABci7AEAAACACxH2AAAAAMCFCHsAAAAA4EKEPQAAAABwIcIeAAAAALgQYQ8AAAAAXIiwBwAAAAAuRNgDAAAAABci7AEAAACACxH2AAAAAMCFCHsAAAAA4EKEPQAAAABwIcIeAAAAALjQFyZP/sbf7Pht4/P9wI4BAAAAwJ3N7/+1HbsxoybsjdQGYezicwCMLvybhFvwWcaV8BnBaDKSn0dO4wQAAAAAFyLsAQAAAIALEfYAAAAAwIUIewAAAADgQoQ9AAAAAHAhwh4AAAAAuBBhDwAAAABciLAHAAAAAC5E2AMAAAAAFyLsAQAAAIALEfYAAAAAwIUIewAAAADgQoQ9AAAAAHAhwh4AAAAAuBBhDwAAAABciLAHAAAAAC5E2AMAAAAAFyLsAQAAAIALEfYAAAAAwIUIewAAAADgQoQ9q7TtA/UE6pVjp0eHrWrt+UCBhmw73SdZGxva1fW+WWczv+f9dlXMs7MAAFEr6xUw+8jWHXYaAIA7DGFvDEqqLFaOL1ah31Rp07oiVf58n5peszMB4DbKaTgV/RHqskOLSm09rixhba2Od5n3rW2rbRnKq6yyQzoeuPAeB/z12viE184HANypCHtj0BPfNl/g4ROqy9qpugN7tL2oSq12HgDcTp1Hm9R0oLl/aH2v17Se1YkBbU0HjuhktPyOs/HIcGdrXIpXaT85pMY8nybYluHk/OKQShbHS+82q7JorTZVvaaQx6ecHbUqnWOLAAB3JMLeWDTOPgLAKNOxq0hr1q3tH/wfO2HvnLoGtK1Zt1MN0fI7S1yhkr5px68oQbl1+7X96XiF9tXo+Ke2eai4Yi3yedR7skaL0tdq+0vNqitdpZSFVTpxPl6L1heayAgAuFON7bA3p1Avt5260HfNDF1vt+jlPJ8tMB7KVMX+dgWcU2BsTU+gXXsLk23B5SRrY13Lhee+f1qBlnJlxdnZERefPtPTdUrHD21Vhq24Gt6ny9X69un+ZXQdO6SKp//OzrWcU3nM62RMNeMenzZGak9p78robAAYe65mPxvtv+z0vUsprFfHH6K1A4+QRdoHnsbYVquNsXbmQHGpkdc7Hriwv3X22a1lmYNCUeR0VKcft/me2esfsG823zEVyxNslXU1y1xbr0BrthLGO7vvwv66S/cnjJX361L3S88qZX340j/yzY+Xd1yvAr/ZqaBtijizU4dPhRXz9z5l2SYAwJ1nDIe9bO0ty1bKpJDa7C/Jm6qadfysmXXeHy1x3D1DiVN79btXnf5ta7WmtFEnPotV0qpiVcyyNcPyqbTlReU8NkFB+9zt/71Tn5sv9ZL/Udsf5JJ21NrTZxq13f5iXefvVu/5vxv8xXs5S3bpYHGq4scFdaTK2ZadavhDjFKen61Y50fxPm0/1+bn1+rIGTMePqnqyOsVqOr16GwAGFuubj/bJyZ+v362MlG9p16LnA568GhnpN37/CH9bJVPsZ+dVEOp2S86p7Z/kqispxIj8wc5M0UJ35mgsyfsPtvUOvvU+MWFqlhra/p8KVFrXszUlI+aIrXO6ZHBcfFKK/7l4B/ZrmaZbbu1cb15vhkNn6yJfGc5w+Y90dkXa1PB3Ee0oKjNTl9C7AR51KvPhznyV/1hyIRErxKW2wYAwB3nC5Mnf+Nvdvy28fl+IL//13bqajm/9C6V9t2nlPW26Wqtqleg0KfQXvPc56JNztU4Myb5tTlxmaqdhrX71ZWXoO7dc7Xgxxdim7f4kDqWJ6hz932mPfrr78bEwIXnXQenD0fOAyborZilnAHBLaPumEqTJyns36LEjBrbOsy6usT1fQ4A3Cwj8W8yso/0hdQwZa4KbFu/q9zP9u3v4xVWx5aFenLXwJ/SUvXy8XKljD+pygXp2u78GBbhVcmRdmU9IHVf6Xsirlwd7ama0F6kxH+Kpq/oensUatugmVmNkbaIWWZdXjbr8sc9SppfdOkf9YZZZt92xA7Zp19ZtvYGCpV0tlFTkjfYNmtxrY6XJZtsOGQ9+7ffvGc/nq4nd9vmOxTfL7gSPiMYTUby8ziGj+x9qHOfSvHzW1Sxyjfo9JsrMn8ohJzHL0amhpXzaLxizgfVFfie0han9g8zTn8Y+XL3/n1mpK7z7DnJM8P8YVCsjIciTdcoWwn3moczb6lkyBG6hlcC0fUEABe62v1sv/cOq2BQ0DPifqhpsVL41JEBQc8R1CZ/9MjfFZ0JqCdsHsfFRKf7hdV1dGCAMto36Ph75vGbiZc/Vf+SyxxhB3ar9d1exSYXqrVsdfQ9XJ6n6pZDWjDZWQEAwJ1sDIe9Kq3Z0qzu8/FKi/TVOKbDNXlKG9TPw4hLVX7NfnW8fVpd/f32nF+ILy/+Ho/5kjbLLitXxcBh27xosLRf4B25Rar2hzThkUyVNp1WoK1epUP7c1zWVDkvFf5T4OJfiA+EzJ8auLwEpQz4I9EZUq4rdAO41a52P9sn/PF7F+8n53w1cqXK0IfDHCn707lh9qEJytpWr9Zjp9T1h74+doVKMqtysZCCL9nRAbr/p1nqeI8m2elrW+ZI86sgu0B1vzWBLzUv+v5tylT8nxpV+eY5M/+cznKq/3Xx+uYN+m5Je/waf1iG+z2UPPgzsjjZ7A2A0WVMX6Al+PO1SvnuLD25pVEdZ2OUMG+1KlraVf103+44W3ubypU726vwb2u0+bm1embhfZoypVHdtuKywn5tnuLUXzxcOAWnTZszZmla2gZVvtGtzyf7lFF8SMf3FyrFVuBmelobh/yhuHHIwQAAo9hV7WdHitNHcL9KnkxUzPuHVfGvBcox++8pU7ao47p/WbsZy7xGZ5q1Kf0RJX7Lvnffmq6UrC3y3me+C8NBBQYd8cTVWrCmdNB3S8W2/6oFdh4QkVk4+DNSVsgFkTDqjO2rcUYE1bFrg55Mnq6k3GYT4ryav+K/Rn99e/4JJU2UOn+ZrgXZzj3pmtX6jmlf7tVwF2kbqPtj8y3t8WrmZS/iMsA7jdqevVAzv7NQ2/1hxX5/qbKv6iqZZyOno3q+4lxic4hZd+smnwDkAhuUMuQPxGvuwwngtrjm/exw/vhXOcevYicP8yvPhLsG70MXr1TK/TEKtW1RUsYGVZrvhCN+51hh9AyLi8XKe9HFTbzRI5Kfhs3e27jmZd4i9jYPve++6aq+3bdSdcb0Qd8tU1zWTx4jYP3cwZ+R4fomA7eZC8LeBcFXdijwkRn5cqxmOA0e52s+rL98NPjEn4zHpulK38HVb3ar13yp+/5L9jWettGpyqMB86oe3f1123RZ+xT4d/MwdYZKh/zBk/LkA9f42gAwdlz/fnaA9jZ1hczu/rvzlGOborzKfyxhcNibGKO7zEPvnwdcsdnwPp94idf3aNrspXbcmrM+eq+8fw9E7xV4zcu8FbzK2bpUCePPqqOxyrYBAO5EYzfsraxVx7FDenlbnrIi50lnKr+mVilxUuid19Tk1DT/XkHzZT1zRb1Kljs1q1W6v10lDzkR8ArKd+rgu72R+yEdbqlVyero80vKanX42H6V2LLSI6fU2rDLzjfD6q06uGKGPL2d6rjkJbUHCmrT//ArPC5eGT89pNLIcpxtaVHFnAkKn7dlAOA2V7mfvbxG1bxhQqPHp/z2WuX37+v3Kye+14TJAXa/qa5PTRSaU6uKAfvaw0/GRs6wuMj5Xk3wFavjF8XKNfv3rIJdai1LlXfcWbXW2itxXtMy/er+DxMhZzytarutWUvsrBuxJK//Oyi3eJcO+lu00Rej7n3P6Zl9tgYAcEcau2Hvj53mC9arpH90/jBwzpM2X8azYxU6UKSsFfbqae1rtWmXX6Ev+5RV7NTk6R++FlTdhir97pNoyaX5VTA3XZsOdOrzryWbL/no87Men6FJ56JXinOcDJg4mTjbzjfDv6Rp2vkTql7/rDZfbT+J3cu0tKhZ3U7giyynWDnTwzq43qznrerzAQC33NXtZ6+k47kVyt9t9vUTk03YiS7jHyaeVMVTh4csY8CFvfr2td+XWrekq/VDWzLQuKAOr29U6O+XKt/s30tWz5P3fLea/jV9QIi6lmU2q6TS1JrvrvlO7Y7VyphuZ92I6fP7v4Pyn56taePMOhalK2X9Fe7RBwBwvTF8nz24DZ8DYHS5k/9NXvb+gBhz+H7BlfAZwWgykp9HV/XZAwAAAABEEfZustK2vnv7DT+07rCFAAAAADCCCHs3WUHywEvyXjxwmwAAAAAANwNhDwCAIaL3WKO/HgBgbCPsAQAAAIALEfYAAAAAwIUIewAAAADgQoQ9AAAAAHAhwh4AAAAAuBBhDwAAAABciLAHAAAAAC5E2AMAAAAAFyLsAQAAAIALEfYAAAAAwIUIewAAAADgQoQ9AAAAAHAhwh4AAAAAuBBhDwAw6mTUtKsrcEils2zDCLlZy72lVtYr0POBWnfYaQAALoGwBwAYfb54l2K+5NHdX7XTI+VmLRcAgFGIsAcAGHUaVjyiKd+apZwDtmGE3KzlAgAwGhH2AAAAAMCFCHsAgJEV6VN2SntXpqpk/zF1vf+BenrMEGjX3sJkKS5TFYcGtHed0uGfpMprn+7IaThl5rWo1E7LzM0qO6TjAfsc+7zjh7Yqw1ZIydpY16JA1+Ca1to8JdmKi5e7Va2mrnVbgln+gOe+f1qBlnJlxdkyK2F5uVrfPj1g+afV9Qc7+GuVZesGyqg7ZmrbVT1MP8G0WmfeMb28xJnyKu35WrUeO3XhvbnEegwV2a5AvXLs9AXR7Qs0ZNtpa06hXm4b8DrO+1SWOej/AQBg7CPsAQBuAo8eXFeqRZ6AGn66VmtKG9V53qukVdvUsadQCyYGddC2n/hzjBKeLlHpSvvUYSTtqFXJ4njp3UZtX2eet26n6vzd6j3/dwrampyGMuUkxyp0tEqbnJqiKjWdCElf7FWHrbkU7+O/VMkc6fgvd0aX/Ruz1PtTtbFma39Q1JJa1RWbUBo+qu0rFiopY5W2HzXLHx+jc8d2Kv8nu9VqSwdqeDWgkIlRDz+Talv6pCrtoUlSKKCmfc50UN4HEuUJnYi+Z+uKVPmGXY+dqyPPGBGzTAB8MVspXw7q8K6iyPY2vNMr7+JiHaxdaosAAG5A2AMA3BQeE4rWzF2hTVXNaqraoAVVfoU1Sd4v+bXJl64C275o/VETc0w4nJ1pn3mxhHtjpfAJVadvUOUB87wDJtBlpSspbW1/kIu/xyO9d1gp2SasOTUvmeCWMVcpWVW24tJivhRU3cK5esYJiJFlz1XdyV7F3D9DT9iatPmJitVZdZStUuXrnQr6X1Nl9s91PCzFfn2qml719wfPQfY1KWAyYexDaUqzTRFL0pRoNiv4291qsk2VGY9o5kL7nh3Yo+3ZK9R6xqzf1EeHPWp4PXLXpilenar+0UITtvdEtrcgPV0NvzfrOPtpbbR1AICxj7AHALgpQqd/NfhI1+6gTOZRuPtNNURbotpPqMcEJo2LiU4Po/PsOZMeZyinoVgZD9nGIYKf9EpTF6i1LFtJVzjt8SJ/NAHUhKqBtncPF90+1//6Tzs60Dj7OKxm1bxplhWbqLTI6ZpRGY874TGoE3v9tmU4QQX+ZN4cs/xLvzvXIlu++82SPnxPgYdTlba4b/ieOoNmHcd5lbDclgIAxjzCHgDgpgh/0mzHblxHbpGq/SFNeCRTpU2nFWirV+nyBDs3qjJvi5releIXF2pvq9Ofb5fyn7i6Xmjhv5y1Y5fWdCR6Omby5l3KnWNe+6Fk5dY8rZkeE8lOv2arhtfx398ysW2SEh/vO01yqeYnTJLe82t7u20yEpZv1d6WYwo4fQBtf7qNPvMCI2aqnAOgmpqqirLyQUPpPPtefTH6AAAY+wh7AIAxoE2bM2ZpWtoGVb7Rrc8n+5RRfEjH9xcqxVbozB6tmTtdSRlb1HAspLsemKfcyhZ1vDhCFx7Zt0IFu0+q9955yq89pJ5DtcqfPUHBA0XKeLbNFl1C+w61OqdJzkiNXkRlZapmxkqd7S/0n/qZtK1FTcVL9WBMl371QoHyc5cpacp92ux3DnuOrLB/i6aYZV88TNeTu20RAGDMI+wBAMaOdxq1PXuhZn5nobabEBT7/aXKHnJhl6C/RgUZc5WYslZN7zkXX3laudd6WuewfJr/WII8Hzbrmb5wNG26UtbtGb6v3iBBVf9bp+RJVLJZ35w5ifKc79Txl/qemarsH8YrJmRC7axl0f6Mtg9g/Feu8sjeF+/SBDvab9bdQ07/fE8fm+zomTLjwoVnAACuRdgDAIxBnao8GlBYHt39dds01JlmbT/l9BKcoNiHo003JlUz749R+GyXPrYt1yJY5FfneY8enLNVyYke9b7TNqCf4D2Kucs8fPbXwVcOjSvUg1cRVHvPm/+Mn6RpQ27vkPLkA0OOatbI/26vdO+jWr2KGy0AgNsR9gAAo17pkVNqbdilktX2giKrt+rgihny9HaqY49Tka2X/cd0uG6r8pdHa7IKdqlujgk0oYCOHIgs5ga9oIPtJl5+P0+HnXvT9Q1XeS88aYt+9VavPNPTNNPTq0DbTtvusCEsbrbqylb3r3/roUxNOmfar6Cu+US0P+GO/SqNvEerVVLXooo5ExT+1BZZleVN6u71KKngkFrripUbeT+LVVF3SMebim0VAMANCHsAgFHvZCAoT+JsE4DsBUX+JU3Tzp9Q9fpntTlydKxTnafPyetbqtziaE3JqtmK/ahZm1asGHz1z+viVU7tfq3xSd1tzm0RLgxH3gopxrkXXlWhrb20yvZO9Y6PUcynnWott43WhQvM5EXXP/tR6fUtWuTca+9KnP6Eu/wKfelhZUTeozwt+k6vWn+8RceHhD21b1BKepGaft+r2Mcyle+8nwWZWjAjVuHgh7YIAOAGX5g8+Rt/s+O3jc/3A/n9v7ZTuFPxOQBGF/5NDrC4VsfLktX76jIlPTv0VgleVbS3K22iX5sTl6natmL04LOMK+EzgtFkJD+PHNkDAOBKJsbI6VIX/mi4e+LN16SJ5uFsUIejDQAAjAqEPQAAruT1TgV7pYQlLaouyIz2G7T96g4fz1OSJ6yOxgu3UQAAYDQg7AEAcCVntihnfY1az8YqeVVxtN+g7Vc36c9+Vecu1JO7iHoAgNGFsAcAwFUIvrJFzyRP17RvDbgJ+bTpmjl3hTa/QtADAIw+hD0AAAAAcCHCHgAAAAC4EGEPAAAAAFyIsAcAAAAALkTYAwAAAAAXIuwBAAAAgAsR9gAAAADAhQh7AAAAAOBChD0AAAAAcCHCHgAAAAC4EGEPAAAAAFyIsAcAAAAALkTYAwAAAAAXIuwBAMa0nIZT6ulpUamdviEr6xXo+UCtO+z0CCht+0A9gXrl2GkAAG4Vwh4AAAAAuBBhDwAAAABciLAHAAAAAC5E2AMAjKxIv7dT2rsyWRsb2tX1/gfq6TFD1ym1lmUqwZZFeZX2fK1aj526UPf+aQVaypUVZ0v6RZcX6K8zy6srVKydO1DC8nId9A9YphkC/nptnGMLrkVctva+bZbx9v5Bz/c+Xa7DZr37lh/ZPrM+KXb+5ZltqWtRoGvA+h07pIqnvXa+1f9epqpk/7EL2xNo197CZLNumao4NKDdrMPhn6SadxUAAMIeAOCm8OjBdS8qa8pZHfzpWq0pqtKRM1L84mI1/iLb1jiC8j6QKE/ohBqcunVFqnwjKN2fqo07V9sah1cbD72oHF+sPn+rUdvXrdWmXUd17juZyki0JQPcPf0BTesN6PCuIrPMtdq+96Q+n+RTzvPlSrI1VydZpS/lKWl8txrWp2vz69FW76r6SKiKV7eaqpzX2KmGE+cUm5ytn7VtvULgM8tsM9uSHKuQf090W6peU/D/iFfaTw5p76qhUc15L0u1yBOIvkeljeo871XSqm3q2FOoBROD0ffYtJ/4c4wSni5R6Ur7VADAHY2wBwC4KTyf+7XJl66CqmY1vbRTOXOfVcN7pt33hEoGHLWrzHhEMxeuMIHH1B0w4Sd7hVpNMIyZ+qiybI1MSEx7KEa9J2u0KH2DKg80q650rRYtaVTwSx5bdEHHurlKTF5mAtAes8xmVT6XruoTYSnuAT1ha64sWSVHypRxb1itO1eowAY9yaf8p3zyfHpS1UvS7WtUqSBjlta8GjTrnabctbZ0OGtXa9HUGAVfXaeULBNuI9uySgt+VKMTn3qU9NT6iwKpJ3xUa+ba96hqgxZU+RXWJHm/NOA9Nu2L1h818dmEw9mZ9pkAgDsZYQ8AcFOETx9Vgx2P8qvgWLc0Ll6J6bZpWEEF/mSC2TgT+GyLd1a8Yk28OX5kp5k7wJkidfzRjl9B9YchO3Y1vMppKFPWAyY47kzXM7sGvGrcUs0wYTV86oi2m1A6UOs2v7rNWk97dODRy8FyHo03FUGd2NZmW6wzO3X4lBNIv6elQ05hDZ3+lVrteMTuoJytCXe/Ofg9bj+hHrMIjet75wAAdzLCHgDgpgj9xx47NkBXyES2GE34mp02EpZv1d6WYwr84XR/37ONvsFH6xZMnmD+G1JwV3R6oNBfnHQzmPeJPFXvbx+0zJ4l8XbulXlm1CrfWYczR1UzMOg55nxVkbX5sCY6PdCZ9/SxWR3PPVNtw8Xi7zHLDZtAOyQoOqKBdIImDelbGP6k2Y4BAHD1CHsAgNsmaVuLmoqX6sGYLv3qhQLl5y5T0pT7tNl/cYC7aivrdbhytZK/GZb/pS3KX79CC8wyp+zrtgVXFjs1Vt2/Dao3LlUlZcm2FQCAsYWwBwC4KWInX9xvzPvtWHnUq3MfOVOpyv5hvGJCbdo8a1m039mr/shpmvFfGXxkr/PP58x/Y+VdHp0eaMJdg09Z3PgjnzznO9Xwo4XKifSna1Onac+aPNx1O4cXPPCUFqRv0MF3e+VdXKa9Ay948nr0FMrYe4c5VTMuUVOcA3cfv2cbLtYdOfTnVeJFVxuVcu511vGczvb3DwQA4PoR9gAAN4Xn27OVYcejkpX/SLx0vluB/c70PYq5yzx89ld1OJN94gr14JAg1NHWbQKWRw/OGxKw4vLku39w2PM4k5+dU3DQaZJLlfztwQHycnpNWIz0Mcy2F01ZXa+cvnU60xw5BdMzfb7yh6xnynPfk9eE2a43hznF06p+s9tUeDXjuSFHDM22LJjunDr6lhqHOcUTAIBrRdgDANwUveN9KmmvV8nqVKUtz1N1S5nSTDgKHf25NkXCTI387/aakDNbdWWrlbY4VVkFu9R6KFOTzpn2gfbtVqup9fjy1FGXpyxTm7Z6qw7uy9a0/z249pVA0CSxGcppKL5Q5y9Woq7j1NAzO7Wm3K/wRJ/WbM2296/za03VawrFPKycfftV6mzf4kzl17So4nET9d5t0o7ySOHwytep7h0T9x4vU2vN4G2ZMT6sjj1rB4dfAACuE2EPAHBTBF8rUMPZacr4l3JVFK/WfBP0ug8UadGKRlshVeZtUdO7zv338lRRVq6S7Eel17dokXOvvUGco2wFqvaHNOGx1SoxtRX/skATTlVp6auDaztyi6J1j2T218X27FHBC4HriXsK7tqgCn84EjTrtvmijftWadF/q9Hx8/HKKDCvUVas3NmxCrXV6J/nbrhCWAtq88J0bToQUuxsuy0FSzXNuWffvy7Uk7ttGQAAN+gLkyd/4292/Lbx+X4gv//Xdgp3Kj4HwOhy3f8mV9Yr8LxPoX33KWW9bQNuI75fcCV8RjCajOTnkSN7AAAAAOBChD0AAAAAcCHCHgAAAAC4EGEPADCydi9T4hT66wEAcLsR9gAAAADAhQh7AAAAAOBChD0AAAAAcCHCHgAAAAC4EGEPAAAAAFyIsAcAAAAALkTYAwAAAAAXIuwBAAAAgAsR9gAAAADAhQh7AAAAAOBChD0AAAAAcCHCHgAAAAC4EGEPAAAAAFyIsAcAcKeV9Qr0fKDWHXb6VlqySx1dp3R4m882AABw6xH2AAAYcf+nYmI88ni+aqcBALj1CHsAgBG38cgHCjRk26nrtLhWx3taVGonx5R9KzRzyn1KerbZNgAAcOsR9gAAIyuuUEnftOM3IGVBomLtOAAAuHaEPQDAyFlbr0BrthLGSx5foXp6PogMA/vNeZ8u1+Fjp/rn9XSdUmtdoVLsfClVFW2n9fK8SWY8Xhl9dYF65UTme5X2fK1azTK63rfz3j+tQEu5suIiBdettM0sq21rZB1b37bLNkPAX6+NT3htVVRfreYUaq//9OB1vER/Qe8TTu2Q9T5UrPl2vrNtWWWHdDxg5/e99hw7GwCAa0DYAwCMnLbd2rj+NQXNaPhkjdasWxsZNu+Jzvauqtfhn6SaCNetpqoiM2+nGk6cU2xytn5mglM08L2lxh0Fqj4ZNuNBHbHLWPPcCzocmR+U94FEeUIn1PBTZ16RKt8wr3h/qjbuXB2puCGTF+hw8Wzpt1XaZF53+96T+nySTzk7alU6y9b0+eI0HazM1oO9J3TkQLOaXjmqTjvrIiYAHja1SZ6QOpr3aHvpHjX9plPBDz7UEVuS84tDKlkcr963zXzz2puqXlPIY177xUPaeINBFgBw5yHsAQBGzjttajrwF/U645+fNeMmAJmh9R2nwaf8p3zyfHpS1UvStcYJOweqVJAxS2teDSpmappy1zp1QXW82qzQ5854r/5il9H0qj8SIh2VGY9o5sIVJgw580wwyl6h1jMyy3hUWbbmuo33KPjzhUrJ3qk687qVz6Vr5ja/wjHxSvm/l9oiK+5hTTu1RQuSlynHCaT/WqMOO2swnyoyo9teuXCunnECqhN2s9K1ILcmWjKrXFmzPAq9XqSkfzLzzWvXla5Syo/bFIpJUNrzqdE6AACuEmEPAHBrxC3VjDgpfOqItptgNlCrCVPditG0R6/3oi5BBf4UlsaZwGdbrl+3flfUFyut3a/pd59IsdOSlWSborr1qw01/SH0ki6z7X28qQ/Iq7C6Ov8/pS1OvTCcDyr4qXltL7dxAABcG8IeAODWmPNVTTAPoQ/tkayBzrynj01W89wz1TZcXsLyrdrbckyBP5zu7/+20eexc29QOGQi3FB7FPyzefB8WQnRhiin9hLhbZDLbbu14F7ncjQeJa0tV0XZwCFTM8abWSbIAgBwLQh7AIAxJWlbi5qKl+rBmC796oUC5ecuU9KU+7TZ7/TxG+uCapp1n6aY7bloSN5gawAAuDqEPQDArfF6UCHzEHvvMKdqxiVqikcKf/yebbiUVGX/MF4xoTZtnrVMBU6fPduXL/4rI3RkzxOreDt6Qba8zsVBw3+99AVYLuf1/9Q58zDstluH/yNSIW96dBoAgBtF2AMA3BpnmhU4Y7LU9PnKH3JlyZTnvievetX15tDTHGN016DaexRzl3n47K+DL4QSV6gHR+xqlfF6sHjwbRa8q2brQZMlQ11tl7gAyxWceUOd/zH8tvcJHnjLhNYYzXiifMBtKIbn9c1T2uM+854BAHBphD0AwAjzq9sJNjOeVvVq5yIjq5W1JNq+xrmVQMzDytm3X6WReZnKr2lRxeMm6r3bpB3lkQVEVL8TNPHPq5SyYmUtTlXWqkwlqUb+d3tNuJuturLVkQuYZBXsUuuhTE06F7kG6I37tFfxT+/X4bK8yOvmbtuvg3k+eXo71VTUaIuuVbNKav0Kj39YuYda9HKxWffleSp9sT5yj8GI9rWqaztrti1VP/PvV0VBZvT92bZLe9vMc5ZHy6RMlf4/u1Tx4osq7W8DAOBihD0AwAgzwaayWd2fejW/oFwVO1YrY7qdtW+VFv23Gh0/H68MZ54JcrmzYxVqq9E/z90w+KjZlp2q8wcV81CmSsrKVbJiduT0ysq8LWp6V4pfnBe5gElJ9qPS61u0yLnX3kj43ydUUX5SMbNXR143/8mHdddZv6qfXajNV3MxlksI7lqmpUXN6vwsVikm6FWYwJcxL1EeXehrWJ2VrjW72xT8UoLSVhdH359/nK0HY0Lq7j/DtVvBsybYnj+nvzpnfgIAcAlfmDz5G3+z47eNz/cD+f2/tlO4U/E5AEaXO/HfZGnbB8qY5NfmxGWqtm0Y+/h+wZXwGcFoMpKfR47sAQAAAIALEfYAAO63sl6Bnuj9+IYdAvXKsaUAALgFYQ8A4H67lylxuHvX9Q2ctgkAcCHCHgAAVkEywQ8A4B6EPQAAAABwIcIeAAAAALgQYQ8AAAAAXIiwBwAAAAAuRNgDAAAAABci7AEAAACACxH2AAAAAMCFCHsAAAAA4EKEPQAAAABwIcIeAAAAALgQYQ8AAAAAXIiwBwAAAAAuRNgDAAAAABci7AEAAACACxH2AAAAAMCFCHsAAAAA4EJfmDz5G3+z47eNz/cDOwYAAAAAdza//9d27MaMirAHAAAAABhZnMYJAAAAAC5E2AMAAAAAFyLsAQAAAIDrSP8/6wqNNaEEh/kAAAAASUVORK5CYII=)"
      ]
    },
    {
      "cell_type": "markdown",
      "metadata": {
        "id": "DxV6Ws1OiuFk"
      },
      "source": [
        "#**Cleaning Data**\n",
        "\n",
        "cleaning data. Pada tahap ini, kita akan membersihkan berbagai masalah yang telah teridentifikasi dalam proses assessing data."
      ]
    },
    {
      "cell_type": "markdown",
      "metadata": {
        "id": "-P0uRuZ6i6Ra"
      },
      "source": [
        "**Membersihkan Data customers_df**"
      ]
    },
    {
      "cell_type": "markdown",
      "metadata": {
        "id": "2iG3HJ_kjMhI"
      },
      "source": [
        "Menghilangkan duplicate data"
      ]
    },
    {
      "cell_type": "code",
      "execution_count": 22,
      "metadata": {
        "id": "VRwYihIljNXs"
      },
      "outputs": [],
      "source": [
        "customers_df.drop_duplicates(inplace=True)"
      ]
    },
    {
      "cell_type": "code",
      "execution_count": 23,
      "metadata": {
        "colab": {
          "base_uri": "https://localhost:8080/"
        },
        "id": "kG1q6GXzjaAe",
        "outputId": "6c10c37e-49ea-4e20-e1e1-130c5422f7a1"
      },
      "outputs": [
        {
          "name": "stdout",
          "output_type": "stream",
          "text": [
            "Jumlah duplikasi:  0\n"
          ]
        }
      ],
      "source": [
        "print(\"Jumlah duplikasi: \",customers_df.duplicated().sum())"
      ]
    },
    {
      "cell_type": "markdown",
      "metadata": {
        "id": "UyxRH7IJkI-f"
      },
      "source": [
        "Menangani missing value"
      ]
    },
    {
      "cell_type": "code",
      "execution_count": 24,
      "metadata": {
        "colab": {
          "base_uri": "https://localhost:8080/",
          "height": 614
        },
        "id": "tlaN7XEfkKmE",
        "outputId": "ac4e656b-f81b-4a1b-c2c8-2dacb94a1467"
      },
      "outputs": [
        {
          "data": {
            "text/html": [
              "<div>\n",
              "<style scoped>\n",
              "    .dataframe tbody tr th:only-of-type {\n",
              "        vertical-align: middle;\n",
              "    }\n",
              "\n",
              "    .dataframe tbody tr th {\n",
              "        vertical-align: top;\n",
              "    }\n",
              "\n",
              "    .dataframe thead th {\n",
              "        text-align: right;\n",
              "    }\n",
              "</style>\n",
              "<table border=\"1\" class=\"dataframe\">\n",
              "  <thead>\n",
              "    <tr style=\"text-align: right;\">\n",
              "      <th></th>\n",
              "      <th>customer_id</th>\n",
              "      <th>customer_name</th>\n",
              "      <th>gender</th>\n",
              "      <th>age</th>\n",
              "      <th>home_address</th>\n",
              "      <th>zip_code</th>\n",
              "      <th>city</th>\n",
              "      <th>state</th>\n",
              "      <th>country</th>\n",
              "    </tr>\n",
              "  </thead>\n",
              "  <tbody>\n",
              "    <tr>\n",
              "      <th>38</th>\n",
              "      <td>39</td>\n",
              "      <td>fulan 39</td>\n",
              "      <td>NaN</td>\n",
              "      <td>80</td>\n",
              "      <td>7440 Cameron Estate DrSuite 628</td>\n",
              "      <td>4622</td>\n",
              "      <td>North Victoriachester</td>\n",
              "      <td>Northern Territory</td>\n",
              "      <td>Australia</td>\n",
              "    </tr>\n",
              "    <tr>\n",
              "      <th>167</th>\n",
              "      <td>168</td>\n",
              "      <td>fulan 168</td>\n",
              "      <td>NaN</td>\n",
              "      <td>27</td>\n",
              "      <td>2781 Berge MallSuite 452</td>\n",
              "      <td>1975</td>\n",
              "      <td>North Leoburgh</td>\n",
              "      <td>Western Australia</td>\n",
              "      <td>Australia</td>\n",
              "    </tr>\n",
              "    <tr>\n",
              "      <th>322</th>\n",
              "      <td>322</td>\n",
              "      <td>fulan 322</td>\n",
              "      <td>NaN</td>\n",
              "      <td>30</td>\n",
              "      <td>593 Becker CircleApt. 333</td>\n",
              "      <td>1640</td>\n",
              "      <td>Jacobiview</td>\n",
              "      <td>Western Australia</td>\n",
              "      <td>Australia</td>\n",
              "    </tr>\n",
              "    <tr>\n",
              "      <th>393</th>\n",
              "      <td>393</td>\n",
              "      <td>fulan 393</td>\n",
              "      <td>NaN</td>\n",
              "      <td>34</td>\n",
              "      <td>5158 Levi HillSuite 531</td>\n",
              "      <td>1474</td>\n",
              "      <td>Johnsburgh</td>\n",
              "      <td>Queensland</td>\n",
              "      <td>Australia</td>\n",
              "    </tr>\n",
              "    <tr>\n",
              "      <th>442</th>\n",
              "      <td>442</td>\n",
              "      <td>fulan 442</td>\n",
              "      <td>NaN</td>\n",
              "      <td>26</td>\n",
              "      <td>5157 Feil RoadApt. 633</td>\n",
              "      <td>7249</td>\n",
              "      <td>Port Chloe</td>\n",
              "      <td>New South Wales</td>\n",
              "      <td>Australia</td>\n",
              "    </tr>\n",
              "    <tr>\n",
              "      <th>722</th>\n",
              "      <td>720</td>\n",
              "      <td>fulan 720</td>\n",
              "      <td>NaN</td>\n",
              "      <td>40</td>\n",
              "      <td>31 Jordan ParadeApt. 400</td>\n",
              "      <td>1380</td>\n",
              "      <td>West Henry</td>\n",
              "      <td>South Australia</td>\n",
              "      <td>Australia</td>\n",
              "    </tr>\n",
              "    <tr>\n",
              "      <th>745</th>\n",
              "      <td>743</td>\n",
              "      <td>fulan 743</td>\n",
              "      <td>NaN</td>\n",
              "      <td>57</td>\n",
              "      <td>09 Christopher StreetSuite 967</td>\n",
              "      <td>6226</td>\n",
              "      <td>Lake Lukemouth</td>\n",
              "      <td>Western Australia</td>\n",
              "      <td>Australia</td>\n",
              "    </tr>\n",
              "    <tr>\n",
              "      <th>773</th>\n",
              "      <td>771</td>\n",
              "      <td>fulan 771</td>\n",
              "      <td>NaN</td>\n",
              "      <td>74</td>\n",
              "      <td>7367 Wright JunctionApt. 773</td>\n",
              "      <td>8882</td>\n",
              "      <td>Kuhntown</td>\n",
              "      <td>Victoria</td>\n",
              "      <td>Australia</td>\n",
              "    </tr>\n",
              "    <tr>\n",
              "      <th>798</th>\n",
              "      <td>795</td>\n",
              "      <td>fulan 795</td>\n",
              "      <td>NaN</td>\n",
              "      <td>49</td>\n",
              "      <td>487 Summer MewsApt. 874</td>\n",
              "      <td>1712</td>\n",
              "      <td>East Hayden</td>\n",
              "      <td>Australian Capital Territory</td>\n",
              "      <td>Australia</td>\n",
              "    </tr>\n",
              "    <tr>\n",
              "      <th>801</th>\n",
              "      <td>798</td>\n",
              "      <td>fulan 798</td>\n",
              "      <td>NaN</td>\n",
              "      <td>56</td>\n",
              "      <td>27 Aiden KnollApt. 875</td>\n",
              "      <td>6531</td>\n",
              "      <td>Port Sam</td>\n",
              "      <td>Australian Capital Territory</td>\n",
              "      <td>Australia</td>\n",
              "    </tr>\n",
              "    <tr>\n",
              "      <th>825</th>\n",
              "      <td>822</td>\n",
              "      <td>fulan 822</td>\n",
              "      <td>NaN</td>\n",
              "      <td>59</td>\n",
              "      <td>41 Jenkins KnollSuite 438</td>\n",
              "      <td>2588</td>\n",
              "      <td>Lake Andrewport</td>\n",
              "      <td>South Australia</td>\n",
              "      <td>Australia</td>\n",
              "    </tr>\n",
              "    <tr>\n",
              "      <th>859</th>\n",
              "      <td>855</td>\n",
              "      <td>fulan 855</td>\n",
              "      <td>NaN</td>\n",
              "      <td>55</td>\n",
              "      <td>603 O'keefe KnollSuite 782</td>\n",
              "      <td>8822</td>\n",
              "      <td>Port Dylanmouth</td>\n",
              "      <td>Tasmania</td>\n",
              "      <td>Australia</td>\n",
              "    </tr>\n",
              "    <tr>\n",
              "      <th>863</th>\n",
              "      <td>859</td>\n",
              "      <td>fulan 859</td>\n",
              "      <td>NaN</td>\n",
              "      <td>38</td>\n",
              "      <td>32 Isla GroveApt. 078</td>\n",
              "      <td>7711</td>\n",
              "      <td>Rosechester</td>\n",
              "      <td>New South Wales</td>\n",
              "      <td>Australia</td>\n",
              "    </tr>\n",
              "    <tr>\n",
              "      <th>914</th>\n",
              "      <td>909</td>\n",
              "      <td>fulan 909</td>\n",
              "      <td>NaN</td>\n",
              "      <td>62</td>\n",
              "      <td>976 Murray Station StApt. 036</td>\n",
              "      <td>3227</td>\n",
              "      <td>Langfort</td>\n",
              "      <td>Tasmania</td>\n",
              "      <td>Australia</td>\n",
              "    </tr>\n",
              "    <tr>\n",
              "      <th>934</th>\n",
              "      <td>929</td>\n",
              "      <td>fulan 929</td>\n",
              "      <td>NaN</td>\n",
              "      <td>68</td>\n",
              "      <td>394 Lily HillSuite 153</td>\n",
              "      <td>2353</td>\n",
              "      <td>Beahanfurt</td>\n",
              "      <td>Northern Territory</td>\n",
              "      <td>Australia</td>\n",
              "    </tr>\n",
              "    <tr>\n",
              "      <th>948</th>\n",
              "      <td>943</td>\n",
              "      <td>fulan 943</td>\n",
              "      <td>NaN</td>\n",
              "      <td>64</td>\n",
              "      <td>3117 Heller PlaceSuite 149</td>\n",
              "      <td>822</td>\n",
              "      <td>North Elijah</td>\n",
              "      <td>South Australia</td>\n",
              "      <td>Australia</td>\n",
              "    </tr>\n",
              "    <tr>\n",
              "      <th>952</th>\n",
              "      <td>946</td>\n",
              "      <td>fulan 946</td>\n",
              "      <td>NaN</td>\n",
              "      <td>24</td>\n",
              "      <td>8227 Nicholas HillSuite 150</td>\n",
              "      <td>115</td>\n",
              "      <td>South Jasper</td>\n",
              "      <td>Queensland</td>\n",
              "      <td>Australia</td>\n",
              "    </tr>\n",
              "    <tr>\n",
              "      <th>994</th>\n",
              "      <td>988</td>\n",
              "      <td>fulan 988</td>\n",
              "      <td>NaN</td>\n",
              "      <td>35</td>\n",
              "      <td>1130 Turner Estate DrSuite 925</td>\n",
              "      <td>9386</td>\n",
              "      <td>New Harry</td>\n",
              "      <td>Western Australia</td>\n",
              "      <td>Australia</td>\n",
              "    </tr>\n",
              "  </tbody>\n",
              "</table>\n",
              "</div>"
            ],
            "text/plain": [
              "     customer_id customer_name gender  age                     home_address  \\\n",
              "38            39      fulan 39    NaN   80  7440 Cameron Estate DrSuite 628   \n",
              "167          168     fulan 168    NaN   27         2781 Berge MallSuite 452   \n",
              "322          322     fulan 322    NaN   30        593 Becker CircleApt. 333   \n",
              "393          393     fulan 393    NaN   34          5158 Levi HillSuite 531   \n",
              "442          442     fulan 442    NaN   26           5157 Feil RoadApt. 633   \n",
              "722          720     fulan 720    NaN   40         31 Jordan ParadeApt. 400   \n",
              "745          743     fulan 743    NaN   57   09 Christopher StreetSuite 967   \n",
              "773          771     fulan 771    NaN   74     7367 Wright JunctionApt. 773   \n",
              "798          795     fulan 795    NaN   49          487 Summer MewsApt. 874   \n",
              "801          798     fulan 798    NaN   56           27 Aiden KnollApt. 875   \n",
              "825          822     fulan 822    NaN   59        41 Jenkins KnollSuite 438   \n",
              "859          855     fulan 855    NaN   55       603 O'keefe KnollSuite 782   \n",
              "863          859     fulan 859    NaN   38            32 Isla GroveApt. 078   \n",
              "914          909     fulan 909    NaN   62    976 Murray Station StApt. 036   \n",
              "934          929     fulan 929    NaN   68           394 Lily HillSuite 153   \n",
              "948          943     fulan 943    NaN   64       3117 Heller PlaceSuite 149   \n",
              "952          946     fulan 946    NaN   24      8227 Nicholas HillSuite 150   \n",
              "994          988     fulan 988    NaN   35   1130 Turner Estate DrSuite 925   \n",
              "\n",
              "     zip_code                   city                         state    country  \n",
              "38       4622  North Victoriachester            Northern Territory  Australia  \n",
              "167      1975         North Leoburgh             Western Australia  Australia  \n",
              "322      1640             Jacobiview             Western Australia  Australia  \n",
              "393      1474             Johnsburgh                    Queensland  Australia  \n",
              "442      7249             Port Chloe               New South Wales  Australia  \n",
              "722      1380             West Henry               South Australia  Australia  \n",
              "745      6226         Lake Lukemouth             Western Australia  Australia  \n",
              "773      8882               Kuhntown                      Victoria  Australia  \n",
              "798      1712            East Hayden  Australian Capital Territory  Australia  \n",
              "801      6531               Port Sam  Australian Capital Territory  Australia  \n",
              "825      2588        Lake Andrewport               South Australia  Australia  \n",
              "859      8822        Port Dylanmouth                      Tasmania  Australia  \n",
              "863      7711            Rosechester               New South Wales  Australia  \n",
              "914      3227               Langfort                      Tasmania  Australia  \n",
              "934      2353             Beahanfurt            Northern Territory  Australia  \n",
              "948       822           North Elijah               South Australia  Australia  \n",
              "952       115           South Jasper                    Queensland  Australia  \n",
              "994      9386              New Harry             Western Australia  Australia  "
            ]
          },
          "execution_count": 24,
          "metadata": {},
          "output_type": "execute_result"
        }
      ],
      "source": [
        "customers_df[customers_df.gender.isna()]"
      ]
    },
    {
      "cell_type": "code",
      "execution_count": 25,
      "metadata": {
        "colab": {
          "base_uri": "https://localhost:8080/"
        },
        "id": "8pna8GKnkT_Z",
        "outputId": "6820f415-fe7b-4dac-d008-4b6963f79da7"
      },
      "outputs": [
        {
          "data": {
            "text/plain": [
              "gender\n",
              "Prefer not to say    725\n",
              "Male                 143\n",
              "Female               115\n",
              "Name: count, dtype: int64"
            ]
          },
          "execution_count": 25,
          "metadata": {},
          "output_type": "execute_result"
        }
      ],
      "source": [
        "customers_df.gender.value_counts()"
      ]
    },
    {
      "cell_type": "code",
      "execution_count": 26,
      "metadata": {
        "id": "3DZyd6Z4kaxl"
      },
      "outputs": [],
      "source": [
        "customers_df.fillna(value=\"Prefer not to say\", inplace=True)"
      ]
    },
    {
      "cell_type": "code",
      "execution_count": 27,
      "metadata": {
        "colab": {
          "base_uri": "https://localhost:8080/"
        },
        "id": "RpOci9Opkc47",
        "outputId": "bcaa93b9-d698-49df-d14d-bc42d8e0e715"
      },
      "outputs": [
        {
          "data": {
            "text/plain": [
              "customer_id      0\n",
              "customer_name    0\n",
              "gender           0\n",
              "age              0\n",
              "home_address     0\n",
              "zip_code         0\n",
              "city             0\n",
              "state            0\n",
              "country          0\n",
              "dtype: int64"
            ]
          },
          "execution_count": 27,
          "metadata": {},
          "output_type": "execute_result"
        }
      ],
      "source": [
        "customers_df.isna().sum()"
      ]
    },
    {
      "cell_type": "code",
      "execution_count": 28,
      "metadata": {
        "colab": {
          "base_uri": "https://localhost:8080/",
          "height": 81
        },
        "id": "SHrQ_kWskqa-",
        "outputId": "1c7e79e0-bfe6-4e98-bd21-9125aafba8bd"
      },
      "outputs": [
        {
          "data": {
            "text/html": [
              "<div>\n",
              "<style scoped>\n",
              "    .dataframe tbody tr th:only-of-type {\n",
              "        vertical-align: middle;\n",
              "    }\n",
              "\n",
              "    .dataframe tbody tr th {\n",
              "        vertical-align: top;\n",
              "    }\n",
              "\n",
              "    .dataframe thead th {\n",
              "        text-align: right;\n",
              "    }\n",
              "</style>\n",
              "<table border=\"1\" class=\"dataframe\">\n",
              "  <thead>\n",
              "    <tr style=\"text-align: right;\">\n",
              "      <th></th>\n",
              "      <th>customer_id</th>\n",
              "      <th>customer_name</th>\n",
              "      <th>gender</th>\n",
              "      <th>age</th>\n",
              "      <th>home_address</th>\n",
              "      <th>zip_code</th>\n",
              "      <th>city</th>\n",
              "      <th>state</th>\n",
              "      <th>country</th>\n",
              "    </tr>\n",
              "  </thead>\n",
              "  <tbody>\n",
              "    <tr>\n",
              "      <th>967</th>\n",
              "      <td>961</td>\n",
              "      <td>fulan 961</td>\n",
              "      <td>Prefer not to say</td>\n",
              "      <td>700</td>\n",
              "      <td>29 Farrell ParadeSuite 818</td>\n",
              "      <td>6528</td>\n",
              "      <td>New Joseph</td>\n",
              "      <td>South Australia</td>\n",
              "      <td>Australia</td>\n",
              "    </tr>\n",
              "  </tbody>\n",
              "</table>\n",
              "</div>"
            ],
            "text/plain": [
              "     customer_id customer_name             gender  age  \\\n",
              "967          961     fulan 961  Prefer not to say  700   \n",
              "\n",
              "                   home_address  zip_code        city            state  \\\n",
              "967  29 Farrell ParadeSuite 818      6528  New Joseph  South Australia   \n",
              "\n",
              "       country  \n",
              "967  Australia  "
            ]
          },
          "execution_count": 28,
          "metadata": {},
          "output_type": "execute_result"
        }
      ],
      "source": [
        "customers_df[customers_df.age == customers_df.age.max()]"
      ]
    },
    {
      "cell_type": "code",
      "execution_count": 29,
      "metadata": {
        "id": "4xU71CDElS3y"
      },
      "outputs": [
        {
          "name": "stderr",
          "output_type": "stream",
          "text": [
            "C:\\Users\\ACER\\AppData\\Local\\Temp\\ipykernel_29380\\4147959128.py:1: FutureWarning: A value is trying to be set on a copy of a DataFrame or Series through chained assignment using an inplace method.\n",
            "The behavior will change in pandas 3.0. This inplace method will never work because the intermediate object on which we are setting values always behaves as a copy.\n",
            "\n",
            "For example, when doing 'df[col].method(value, inplace=True)', try using 'df.method({col: value}, inplace=True)' or df[col] = df[col].method(value) instead, to perform the operation inplace on the original object.\n",
            "\n",
            "\n",
            "  customers_df.age.replace(customers_df.age.max(), 70, inplace=True)\n"
          ]
        }
      ],
      "source": [
        "customers_df.age.replace(customers_df.age.max(), 70, inplace=True)"
      ]
    },
    {
      "cell_type": "code",
      "execution_count": 30,
      "metadata": {
        "colab": {
          "base_uri": "https://localhost:8080/",
          "height": 81
        },
        "id": "H00JvkrclYjY",
        "outputId": "f87c2b65-7c8b-4680-9cea-2ae9213a6ac8"
      },
      "outputs": [
        {
          "data": {
            "text/html": [
              "<div>\n",
              "<style scoped>\n",
              "    .dataframe tbody tr th:only-of-type {\n",
              "        vertical-align: middle;\n",
              "    }\n",
              "\n",
              "    .dataframe tbody tr th {\n",
              "        vertical-align: top;\n",
              "    }\n",
              "\n",
              "    .dataframe thead th {\n",
              "        text-align: right;\n",
              "    }\n",
              "</style>\n",
              "<table border=\"1\" class=\"dataframe\">\n",
              "  <thead>\n",
              "    <tr style=\"text-align: right;\">\n",
              "      <th></th>\n",
              "      <th>customer_id</th>\n",
              "      <th>customer_name</th>\n",
              "      <th>gender</th>\n",
              "      <th>age</th>\n",
              "      <th>home_address</th>\n",
              "      <th>zip_code</th>\n",
              "      <th>city</th>\n",
              "      <th>state</th>\n",
              "      <th>country</th>\n",
              "    </tr>\n",
              "  </thead>\n",
              "  <tbody>\n",
              "    <tr>\n",
              "      <th>215</th>\n",
              "      <td>216</td>\n",
              "      <td>fulan 216</td>\n",
              "      <td>Prefer not to say</td>\n",
              "      <td>500</td>\n",
              "      <td>038 Haley MewsApt. 810</td>\n",
              "      <td>3991</td>\n",
              "      <td>Bayertown</td>\n",
              "      <td>Northern Territory</td>\n",
              "      <td>Australia</td>\n",
              "    </tr>\n",
              "  </tbody>\n",
              "</table>\n",
              "</div>"
            ],
            "text/plain": [
              "     customer_id customer_name             gender  age  \\\n",
              "215          216     fulan 216  Prefer not to say  500   \n",
              "\n",
              "               home_address  zip_code       city               state  \\\n",
              "215  038 Haley MewsApt. 810      3991  Bayertown  Northern Territory   \n",
              "\n",
              "       country  \n",
              "215  Australia  "
            ]
          },
          "execution_count": 30,
          "metadata": {},
          "output_type": "execute_result"
        }
      ],
      "source": [
        "customers_df[customers_df.age == customers_df.age.max()]"
      ]
    },
    {
      "cell_type": "code",
      "execution_count": 31,
      "metadata": {
        "id": "3pMyuvcpla4X"
      },
      "outputs": [
        {
          "name": "stderr",
          "output_type": "stream",
          "text": [
            "C:\\Users\\ACER\\AppData\\Local\\Temp\\ipykernel_29380\\606824494.py:1: FutureWarning: A value is trying to be set on a copy of a DataFrame or Series through chained assignment using an inplace method.\n",
            "The behavior will change in pandas 3.0. This inplace method will never work because the intermediate object on which we are setting values always behaves as a copy.\n",
            "\n",
            "For example, when doing 'df[col].method(value, inplace=True)', try using 'df.method({col: value}, inplace=True)' or df[col] = df[col].method(value) instead, to perform the operation inplace on the original object.\n",
            "\n",
            "\n",
            "  customers_df.age.replace(customers_df.age.max(), 50, inplace=True)\n"
          ]
        }
      ],
      "source": [
        "customers_df.age.replace(customers_df.age.max(), 50, inplace=True)"
      ]
    },
    {
      "cell_type": "code",
      "execution_count": 32,
      "metadata": {
        "colab": {
          "base_uri": "https://localhost:8080/",
          "height": 520
        },
        "id": "inYgB5vBlfLY",
        "outputId": "cfc26cc5-4407-428c-f6be-5f6b149c0db4"
      },
      "outputs": [
        {
          "data": {
            "text/html": [
              "<div>\n",
              "<style scoped>\n",
              "    .dataframe tbody tr th:only-of-type {\n",
              "        vertical-align: middle;\n",
              "    }\n",
              "\n",
              "    .dataframe tbody tr th {\n",
              "        vertical-align: top;\n",
              "    }\n",
              "\n",
              "    .dataframe thead th {\n",
              "        text-align: right;\n",
              "    }\n",
              "</style>\n",
              "<table border=\"1\" class=\"dataframe\">\n",
              "  <thead>\n",
              "    <tr style=\"text-align: right;\">\n",
              "      <th></th>\n",
              "      <th>customer_id</th>\n",
              "      <th>customer_name</th>\n",
              "      <th>gender</th>\n",
              "      <th>age</th>\n",
              "      <th>home_address</th>\n",
              "      <th>zip_code</th>\n",
              "      <th>city</th>\n",
              "      <th>state</th>\n",
              "      <th>country</th>\n",
              "    </tr>\n",
              "  </thead>\n",
              "  <tbody>\n",
              "    <tr>\n",
              "      <th>34</th>\n",
              "      <td>35</td>\n",
              "      <td>fulan 35</td>\n",
              "      <td>Male</td>\n",
              "      <td>80</td>\n",
              "      <td>3168 Bartoletti CrescentSuite 878</td>\n",
              "      <td>593</td>\n",
              "      <td>Port Lucas</td>\n",
              "      <td>Queensland</td>\n",
              "      <td>Australia</td>\n",
              "    </tr>\n",
              "    <tr>\n",
              "      <th>38</th>\n",
              "      <td>39</td>\n",
              "      <td>fulan 39</td>\n",
              "      <td>Prefer not to say</td>\n",
              "      <td>80</td>\n",
              "      <td>7440 Cameron Estate DrSuite 628</td>\n",
              "      <td>4622</td>\n",
              "      <td>North Victoriachester</td>\n",
              "      <td>Northern Territory</td>\n",
              "      <td>Australia</td>\n",
              "    </tr>\n",
              "    <tr>\n",
              "      <th>142</th>\n",
              "      <td>143</td>\n",
              "      <td>fulan 143</td>\n",
              "      <td>Prefer not to say</td>\n",
              "      <td>80</td>\n",
              "      <td>87 Hahn Station StSuite 943</td>\n",
              "      <td>8254</td>\n",
              "      <td>New Ella</td>\n",
              "      <td>Victoria</td>\n",
              "      <td>Australia</td>\n",
              "    </tr>\n",
              "    <tr>\n",
              "      <th>154</th>\n",
              "      <td>155</td>\n",
              "      <td>fulan 155</td>\n",
              "      <td>Male</td>\n",
              "      <td>80</td>\n",
              "      <td>85 Charles MallSuite 424</td>\n",
              "      <td>7841</td>\n",
              "      <td>Port Sophia</td>\n",
              "      <td>New South Wales</td>\n",
              "      <td>Australia</td>\n",
              "    </tr>\n",
              "    <tr>\n",
              "      <th>170</th>\n",
              "      <td>171</td>\n",
              "      <td>fulan 171</td>\n",
              "      <td>Prefer not to say</td>\n",
              "      <td>80</td>\n",
              "      <td>16 Boyer WaySuite 018</td>\n",
              "      <td>6226</td>\n",
              "      <td>South Gabriel</td>\n",
              "      <td>Western Australia</td>\n",
              "      <td>Australia</td>\n",
              "    </tr>\n",
              "    <tr>\n",
              "      <th>174</th>\n",
              "      <td>175</td>\n",
              "      <td>fulan 175</td>\n",
              "      <td>Prefer not to say</td>\n",
              "      <td>80</td>\n",
              "      <td>57 David MallSuite 596</td>\n",
              "      <td>3129</td>\n",
              "      <td>Haneton</td>\n",
              "      <td>South Australia</td>\n",
              "      <td>Australia</td>\n",
              "    </tr>\n",
              "    <tr>\n",
              "      <th>181</th>\n",
              "      <td>182</td>\n",
              "      <td>fulan 182</td>\n",
              "      <td>Male</td>\n",
              "      <td>80</td>\n",
              "      <td>32 Thomas CrestSuite 753</td>\n",
              "      <td>2147</td>\n",
              "      <td>Archiefurt</td>\n",
              "      <td>Queensland</td>\n",
              "      <td>Australia</td>\n",
              "    </tr>\n",
              "    <tr>\n",
              "      <th>235</th>\n",
              "      <td>236</td>\n",
              "      <td>fulan 236</td>\n",
              "      <td>Prefer not to say</td>\n",
              "      <td>80</td>\n",
              "      <td>64 Phillips RunApt. 722</td>\n",
              "      <td>2752</td>\n",
              "      <td>East Sienna</td>\n",
              "      <td>New South Wales</td>\n",
              "      <td>Australia</td>\n",
              "    </tr>\n",
              "    <tr>\n",
              "      <th>424</th>\n",
              "      <td>424</td>\n",
              "      <td>fulan 424</td>\n",
              "      <td>Prefer not to say</td>\n",
              "      <td>80</td>\n",
              "      <td>03 Grant CrestSuite 228</td>\n",
              "      <td>5743</td>\n",
              "      <td>Lake Charliemouth</td>\n",
              "      <td>Western Australia</td>\n",
              "      <td>Australia</td>\n",
              "    </tr>\n",
              "    <tr>\n",
              "      <th>438</th>\n",
              "      <td>438</td>\n",
              "      <td>fulan 438</td>\n",
              "      <td>Prefer not to say</td>\n",
              "      <td>80</td>\n",
              "      <td>569 Alyssa IslandApt. 766</td>\n",
              "      <td>6893</td>\n",
              "      <td>Hunterland</td>\n",
              "      <td>Western Australia</td>\n",
              "      <td>Australia</td>\n",
              "    </tr>\n",
              "    <tr>\n",
              "      <th>495</th>\n",
              "      <td>495</td>\n",
              "      <td>fulan 495</td>\n",
              "      <td>Male</td>\n",
              "      <td>80</td>\n",
              "      <td>1798 Schultz MewsApt. 704</td>\n",
              "      <td>9409</td>\n",
              "      <td>Lake Caitlin</td>\n",
              "      <td>New South Wales</td>\n",
              "      <td>Australia</td>\n",
              "    </tr>\n",
              "    <tr>\n",
              "      <th>524</th>\n",
              "      <td>524</td>\n",
              "      <td>fulan 524</td>\n",
              "      <td>Prefer not to say</td>\n",
              "      <td>80</td>\n",
              "      <td>0358 Ashley WayApt. 506</td>\n",
              "      <td>3345</td>\n",
              "      <td>Port Sebastianland</td>\n",
              "      <td>Queensland</td>\n",
              "      <td>Australia</td>\n",
              "    </tr>\n",
              "    <tr>\n",
              "      <th>598</th>\n",
              "      <td>597</td>\n",
              "      <td>fulan 597</td>\n",
              "      <td>Prefer not to say</td>\n",
              "      <td>80</td>\n",
              "      <td>78 O'hara CircuitApt. 096</td>\n",
              "      <td>1966</td>\n",
              "      <td>Lake Michaelbury</td>\n",
              "      <td>South Australia</td>\n",
              "      <td>Australia</td>\n",
              "    </tr>\n",
              "    <tr>\n",
              "      <th>703</th>\n",
              "      <td>702</td>\n",
              "      <td>fulan 702</td>\n",
              "      <td>Prefer not to say</td>\n",
              "      <td>80</td>\n",
              "      <td>61 Bosco WaySuite 775</td>\n",
              "      <td>685</td>\n",
              "      <td>Thompsonborough</td>\n",
              "      <td>Western Australia</td>\n",
              "      <td>Australia</td>\n",
              "    </tr>\n",
              "    <tr>\n",
              "      <th>734</th>\n",
              "      <td>732</td>\n",
              "      <td>fulan 732</td>\n",
              "      <td>Prefer not to say</td>\n",
              "      <td>80</td>\n",
              "      <td>905 Stephanie BoulevardApt. 217</td>\n",
              "      <td>8114</td>\n",
              "      <td>Port Aaronton</td>\n",
              "      <td>Queensland</td>\n",
              "      <td>Australia</td>\n",
              "    </tr>\n",
              "  </tbody>\n",
              "</table>\n",
              "</div>"
            ],
            "text/plain": [
              "     customer_id customer_name             gender  age  \\\n",
              "34            35      fulan 35               Male   80   \n",
              "38            39      fulan 39  Prefer not to say   80   \n",
              "142          143     fulan 143  Prefer not to say   80   \n",
              "154          155     fulan 155               Male   80   \n",
              "170          171     fulan 171  Prefer not to say   80   \n",
              "174          175     fulan 175  Prefer not to say   80   \n",
              "181          182     fulan 182               Male   80   \n",
              "235          236     fulan 236  Prefer not to say   80   \n",
              "424          424     fulan 424  Prefer not to say   80   \n",
              "438          438     fulan 438  Prefer not to say   80   \n",
              "495          495     fulan 495               Male   80   \n",
              "524          524     fulan 524  Prefer not to say   80   \n",
              "598          597     fulan 597  Prefer not to say   80   \n",
              "703          702     fulan 702  Prefer not to say   80   \n",
              "734          732     fulan 732  Prefer not to say   80   \n",
              "\n",
              "                          home_address  zip_code                   city  \\\n",
              "34   3168 Bartoletti CrescentSuite 878       593             Port Lucas   \n",
              "38     7440 Cameron Estate DrSuite 628      4622  North Victoriachester   \n",
              "142        87 Hahn Station StSuite 943      8254               New Ella   \n",
              "154           85 Charles MallSuite 424      7841            Port Sophia   \n",
              "170              16 Boyer WaySuite 018      6226          South Gabriel   \n",
              "174             57 David MallSuite 596      3129                Haneton   \n",
              "181           32 Thomas CrestSuite 753      2147             Archiefurt   \n",
              "235            64 Phillips RunApt. 722      2752            East Sienna   \n",
              "424            03 Grant CrestSuite 228      5743      Lake Charliemouth   \n",
              "438          569 Alyssa IslandApt. 766      6893             Hunterland   \n",
              "495          1798 Schultz MewsApt. 704      9409           Lake Caitlin   \n",
              "524            0358 Ashley WayApt. 506      3345     Port Sebastianland   \n",
              "598          78 O'hara CircuitApt. 096      1966       Lake Michaelbury   \n",
              "703              61 Bosco WaySuite 775       685        Thompsonborough   \n",
              "734    905 Stephanie BoulevardApt. 217      8114          Port Aaronton   \n",
              "\n",
              "                  state    country  \n",
              "34           Queensland  Australia  \n",
              "38   Northern Territory  Australia  \n",
              "142            Victoria  Australia  \n",
              "154     New South Wales  Australia  \n",
              "170   Western Australia  Australia  \n",
              "174     South Australia  Australia  \n",
              "181          Queensland  Australia  \n",
              "235     New South Wales  Australia  \n",
              "424   Western Australia  Australia  \n",
              "438   Western Australia  Australia  \n",
              "495     New South Wales  Australia  \n",
              "524          Queensland  Australia  \n",
              "598     South Australia  Australia  \n",
              "703   Western Australia  Australia  \n",
              "734          Queensland  Australia  "
            ]
          },
          "execution_count": 32,
          "metadata": {},
          "output_type": "execute_result"
        }
      ],
      "source": [
        "customers_df[customers_df.age == customers_df.age.max()]"
      ]
    },
    {
      "cell_type": "code",
      "execution_count": 33,
      "metadata": {
        "colab": {
          "base_uri": "https://localhost:8080/",
          "height": 300
        },
        "id": "Urn5FI7PlkJ6",
        "outputId": "a672bf10-03eb-4cb9-fa64-b7192317fb68"
      },
      "outputs": [
        {
          "data": {
            "text/html": [
              "<div>\n",
              "<style scoped>\n",
              "    .dataframe tbody tr th:only-of-type {\n",
              "        vertical-align: middle;\n",
              "    }\n",
              "\n",
              "    .dataframe tbody tr th {\n",
              "        vertical-align: top;\n",
              "    }\n",
              "\n",
              "    .dataframe thead th {\n",
              "        text-align: right;\n",
              "    }\n",
              "</style>\n",
              "<table border=\"1\" class=\"dataframe\">\n",
              "  <thead>\n",
              "    <tr style=\"text-align: right;\">\n",
              "      <th></th>\n",
              "      <th>customer_id</th>\n",
              "      <th>age</th>\n",
              "      <th>zip_code</th>\n",
              "    </tr>\n",
              "  </thead>\n",
              "  <tbody>\n",
              "    <tr>\n",
              "      <th>count</th>\n",
              "      <td>1001.000000</td>\n",
              "      <td>1001.000000</td>\n",
              "      <td>1001.000000</td>\n",
              "    </tr>\n",
              "    <tr>\n",
              "      <th>mean</th>\n",
              "      <td>500.942058</td>\n",
              "      <td>49.874126</td>\n",
              "      <td>5000.693307</td>\n",
              "    </tr>\n",
              "    <tr>\n",
              "      <th>std</th>\n",
              "      <td>289.013599</td>\n",
              "      <td>17.644663</td>\n",
              "      <td>2886.084454</td>\n",
              "    </tr>\n",
              "    <tr>\n",
              "      <th>min</th>\n",
              "      <td>1.000000</td>\n",
              "      <td>20.000000</td>\n",
              "      <td>2.000000</td>\n",
              "    </tr>\n",
              "    <tr>\n",
              "      <th>25%</th>\n",
              "      <td>251.000000</td>\n",
              "      <td>34.000000</td>\n",
              "      <td>2398.000000</td>\n",
              "    </tr>\n",
              "    <tr>\n",
              "      <th>50%</th>\n",
              "      <td>501.000000</td>\n",
              "      <td>50.000000</td>\n",
              "      <td>5079.000000</td>\n",
              "    </tr>\n",
              "    <tr>\n",
              "      <th>75%</th>\n",
              "      <td>751.000000</td>\n",
              "      <td>65.000000</td>\n",
              "      <td>7454.000000</td>\n",
              "    </tr>\n",
              "    <tr>\n",
              "      <th>max</th>\n",
              "      <td>1000.000000</td>\n",
              "      <td>80.000000</td>\n",
              "      <td>9998.000000</td>\n",
              "    </tr>\n",
              "  </tbody>\n",
              "</table>\n",
              "</div>"
            ],
            "text/plain": [
              "       customer_id          age     zip_code\n",
              "count  1001.000000  1001.000000  1001.000000\n",
              "mean    500.942058    49.874126  5000.693307\n",
              "std     289.013599    17.644663  2886.084454\n",
              "min       1.000000    20.000000     2.000000\n",
              "25%     251.000000    34.000000  2398.000000\n",
              "50%     501.000000    50.000000  5079.000000\n",
              "75%     751.000000    65.000000  7454.000000\n",
              "max    1000.000000    80.000000  9998.000000"
            ]
          },
          "execution_count": 33,
          "metadata": {},
          "output_type": "execute_result"
        }
      ],
      "source": [
        "customers_df.describe()"
      ]
    },
    {
      "cell_type": "markdown",
      "metadata": {
        "id": "m85qKPerl35r"
      },
      "source": [
        "Membersihkan Data orders_df"
      ]
    },
    {
      "cell_type": "code",
      "execution_count": 34,
      "metadata": {
        "id": "NmS5JY6ul4-y"
      },
      "outputs": [],
      "source": [
        "datetime_columns = [\"order_date\", \"delivery_date\"]\n",
        "\n",
        "for column in datetime_columns:\n",
        "  orders_df[column] = pd.to_datetime(orders_df[column])"
      ]
    },
    {
      "cell_type": "code",
      "execution_count": 35,
      "metadata": {
        "colab": {
          "base_uri": "https://localhost:8080/"
        },
        "id": "UYv3gbj0mX6D",
        "outputId": "1bcccb5c-45df-41ea-f51c-23e059f14951"
      },
      "outputs": [
        {
          "name": "stdout",
          "output_type": "stream",
          "text": [
            "<class 'pandas.core.frame.DataFrame'>\n",
            "RangeIndex: 1000 entries, 0 to 999\n",
            "Data columns (total 5 columns):\n",
            " #   Column         Non-Null Count  Dtype         \n",
            "---  ------         --------------  -----         \n",
            " 0   order_id       1000 non-null   int64         \n",
            " 1   customer_id    1000 non-null   int64         \n",
            " 2   payment        1000 non-null   int64         \n",
            " 3   order_date     1000 non-null   datetime64[ns]\n",
            " 4   delivery_date  1000 non-null   datetime64[ns]\n",
            "dtypes: datetime64[ns](2), int64(3)\n",
            "memory usage: 39.2 KB\n"
          ]
        }
      ],
      "source": [
        "orders_df.info()"
      ]
    },
    {
      "cell_type": "markdown",
      "metadata": {
        "id": "9f9qg5eAmvjA"
      },
      "source": [
        "Membersihkan Data product_df"
      ]
    },
    {
      "cell_type": "code",
      "execution_count": 36,
      "metadata": {
        "id": "E6s3-CI8mxR4"
      },
      "outputs": [],
      "source": [
        "product_df.drop_duplicates(inplace=True)"
      ]
    },
    {
      "cell_type": "code",
      "execution_count": 37,
      "metadata": {
        "colab": {
          "base_uri": "https://localhost:8080/"
        },
        "id": "e6rAzIZ4m59p",
        "outputId": "e8d51357-b6ba-41c7-d8d3-480ee1991407"
      },
      "outputs": [
        {
          "name": "stdout",
          "output_type": "stream",
          "text": [
            "Jumlah duplikasi:  0\n"
          ]
        }
      ],
      "source": [
        "print(\"Jumlah duplikasi: \",product_df.duplicated().sum())"
      ]
    },
    {
      "cell_type": "markdown",
      "metadata": {
        "id": "N5Bwbw21nFJw"
      },
      "source": [
        "Membersihkan Data product_df"
      ]
    },
    {
      "cell_type": "code",
      "execution_count": 38,
      "metadata": {
        "colab": {
          "base_uri": "https://localhost:8080/",
          "height": 645
        },
        "id": "0fIZ5GhLnQA1",
        "outputId": "450a718d-7644-4fc6-8ffd-8da7aad9adff"
      },
      "outputs": [
        {
          "data": {
            "text/html": [
              "<div>\n",
              "<style scoped>\n",
              "    .dataframe tbody tr th:only-of-type {\n",
              "        vertical-align: middle;\n",
              "    }\n",
              "\n",
              "    .dataframe tbody tr th {\n",
              "        vertical-align: top;\n",
              "    }\n",
              "\n",
              "    .dataframe thead th {\n",
              "        text-align: right;\n",
              "    }\n",
              "</style>\n",
              "<table border=\"1\" class=\"dataframe\">\n",
              "  <thead>\n",
              "    <tr style=\"text-align: right;\">\n",
              "      <th></th>\n",
              "      <th>sales_id</th>\n",
              "      <th>order_id</th>\n",
              "      <th>product_id</th>\n",
              "      <th>price_per_unit</th>\n",
              "      <th>quantity</th>\n",
              "      <th>total_price</th>\n",
              "    </tr>\n",
              "  </thead>\n",
              "  <tbody>\n",
              "    <tr>\n",
              "      <th>9</th>\n",
              "      <td>9</td>\n",
              "      <td>2</td>\n",
              "      <td>1196</td>\n",
              "      <td>105</td>\n",
              "      <td>1</td>\n",
              "      <td>NaN</td>\n",
              "    </tr>\n",
              "    <tr>\n",
              "      <th>121</th>\n",
              "      <td>121</td>\n",
              "      <td>27</td>\n",
              "      <td>1027</td>\n",
              "      <td>90</td>\n",
              "      <td>3</td>\n",
              "      <td>NaN</td>\n",
              "    </tr>\n",
              "    <tr>\n",
              "      <th>278</th>\n",
              "      <td>278</td>\n",
              "      <td>63</td>\n",
              "      <td>360</td>\n",
              "      <td>94</td>\n",
              "      <td>2</td>\n",
              "      <td>NaN</td>\n",
              "    </tr>\n",
              "    <tr>\n",
              "      <th>421</th>\n",
              "      <td>421</td>\n",
              "      <td>95</td>\n",
              "      <td>1091</td>\n",
              "      <td>115</td>\n",
              "      <td>1</td>\n",
              "      <td>NaN</td>\n",
              "    </tr>\n",
              "    <tr>\n",
              "      <th>489</th>\n",
              "      <td>489</td>\n",
              "      <td>108</td>\n",
              "      <td>1193</td>\n",
              "      <td>105</td>\n",
              "      <td>3</td>\n",
              "      <td>NaN</td>\n",
              "    </tr>\n",
              "    <tr>\n",
              "      <th>539</th>\n",
              "      <td>539</td>\n",
              "      <td>117</td>\n",
              "      <td>405</td>\n",
              "      <td>119</td>\n",
              "      <td>2</td>\n",
              "      <td>NaN</td>\n",
              "    </tr>\n",
              "    <tr>\n",
              "      <th>636</th>\n",
              "      <td>636</td>\n",
              "      <td>134</td>\n",
              "      <td>653</td>\n",
              "      <td>93</td>\n",
              "      <td>3</td>\n",
              "      <td>NaN</td>\n",
              "    </tr>\n",
              "    <tr>\n",
              "      <th>687</th>\n",
              "      <td>687</td>\n",
              "      <td>145</td>\n",
              "      <td>1138</td>\n",
              "      <td>102</td>\n",
              "      <td>1</td>\n",
              "      <td>NaN</td>\n",
              "    </tr>\n",
              "    <tr>\n",
              "      <th>854</th>\n",
              "      <td>854</td>\n",
              "      <td>177</td>\n",
              "      <td>64</td>\n",
              "      <td>104</td>\n",
              "      <td>1</td>\n",
              "      <td>NaN</td>\n",
              "    </tr>\n",
              "    <tr>\n",
              "      <th>1079</th>\n",
              "      <td>1079</td>\n",
              "      <td>222</td>\n",
              "      <td>908</td>\n",
              "      <td>94</td>\n",
              "      <td>3</td>\n",
              "      <td>NaN</td>\n",
              "    </tr>\n",
              "    <tr>\n",
              "      <th>1193</th>\n",
              "      <td>1193</td>\n",
              "      <td>248</td>\n",
              "      <td>1121</td>\n",
              "      <td>102</td>\n",
              "      <td>2</td>\n",
              "      <td>NaN</td>\n",
              "    </tr>\n",
              "    <tr>\n",
              "      <th>1313</th>\n",
              "      <td>1313</td>\n",
              "      <td>272</td>\n",
              "      <td>826</td>\n",
              "      <td>117</td>\n",
              "      <td>1</td>\n",
              "      <td>NaN</td>\n",
              "    </tr>\n",
              "    <tr>\n",
              "      <th>1548</th>\n",
              "      <td>1548</td>\n",
              "      <td>316</td>\n",
              "      <td>103</td>\n",
              "      <td>118</td>\n",
              "      <td>3</td>\n",
              "      <td>NaN</td>\n",
              "    </tr>\n",
              "    <tr>\n",
              "      <th>1688</th>\n",
              "      <td>1688</td>\n",
              "      <td>345</td>\n",
              "      <td>428</td>\n",
              "      <td>107</td>\n",
              "      <td>1</td>\n",
              "      <td>NaN</td>\n",
              "    </tr>\n",
              "    <tr>\n",
              "      <th>1775</th>\n",
              "      <td>1775</td>\n",
              "      <td>359</td>\n",
              "      <td>694</td>\n",
              "      <td>113</td>\n",
              "      <td>2</td>\n",
              "      <td>NaN</td>\n",
              "    </tr>\n",
              "    <tr>\n",
              "      <th>1902</th>\n",
              "      <td>1902</td>\n",
              "      <td>381</td>\n",
              "      <td>1218</td>\n",
              "      <td>105</td>\n",
              "      <td>3</td>\n",
              "      <td>NaN</td>\n",
              "    </tr>\n",
              "    <tr>\n",
              "      <th>2025</th>\n",
              "      <td>2025</td>\n",
              "      <td>408</td>\n",
              "      <td>611</td>\n",
              "      <td>112</td>\n",
              "      <td>3</td>\n",
              "      <td>NaN</td>\n",
              "    </tr>\n",
              "    <tr>\n",
              "      <th>2164</th>\n",
              "      <td>2164</td>\n",
              "      <td>436</td>\n",
              "      <td>583</td>\n",
              "      <td>100</td>\n",
              "      <td>3</td>\n",
              "      <td>NaN</td>\n",
              "    </tr>\n",
              "    <tr>\n",
              "      <th>2347</th>\n",
              "      <td>2347</td>\n",
              "      <td>476</td>\n",
              "      <td>696</td>\n",
              "      <td>113</td>\n",
              "      <td>2</td>\n",
              "      <td>NaN</td>\n",
              "    </tr>\n",
              "  </tbody>\n",
              "</table>\n",
              "</div>"
            ],
            "text/plain": [
              "      sales_id  order_id  product_id  price_per_unit  quantity  total_price\n",
              "9            9         2        1196             105         1          NaN\n",
              "121        121        27        1027              90         3          NaN\n",
              "278        278        63         360              94         2          NaN\n",
              "421        421        95        1091             115         1          NaN\n",
              "489        489       108        1193             105         3          NaN\n",
              "539        539       117         405             119         2          NaN\n",
              "636        636       134         653              93         3          NaN\n",
              "687        687       145        1138             102         1          NaN\n",
              "854        854       177          64             104         1          NaN\n",
              "1079      1079       222         908              94         3          NaN\n",
              "1193      1193       248        1121             102         2          NaN\n",
              "1313      1313       272         826             117         1          NaN\n",
              "1548      1548       316         103             118         3          NaN\n",
              "1688      1688       345         428             107         1          NaN\n",
              "1775      1775       359         694             113         2          NaN\n",
              "1902      1902       381        1218             105         3          NaN\n",
              "2025      2025       408         611             112         3          NaN\n",
              "2164      2164       436         583             100         3          NaN\n",
              "2347      2347       476         696             113         2          NaN"
            ]
          },
          "execution_count": 38,
          "metadata": {},
          "output_type": "execute_result"
        }
      ],
      "source": [
        "sales_df[sales_df.total_price.isna()]"
      ]
    },
    {
      "cell_type": "code",
      "execution_count": 39,
      "metadata": {
        "id": "lq2qDw8rnZiW"
      },
      "outputs": [],
      "source": [
        "sales_df[\"total_price\"] = sales_df[\"price_per_unit\"] * sales_df[\"quantity\"]"
      ]
    },
    {
      "cell_type": "code",
      "execution_count": 40,
      "metadata": {
        "colab": {
          "base_uri": "https://localhost:8080/"
        },
        "id": "hjBOLItAnpbg",
        "outputId": "ce0fcb4f-d134-4d18-f175-88db7cbf4535"
      },
      "outputs": [
        {
          "data": {
            "text/plain": [
              "sales_id          0\n",
              "order_id          0\n",
              "product_id        0\n",
              "price_per_unit    0\n",
              "quantity          0\n",
              "total_price       0\n",
              "dtype: int64"
            ]
          },
          "execution_count": 40,
          "metadata": {},
          "output_type": "execute_result"
        }
      ],
      "source": [
        "sales_df.isna().sum()"
      ]
    },
    {
      "cell_type": "markdown",
      "metadata": {
        "id": "QuvFb8FfyFN6"
      },
      "source": [
        "#**###############################**"
      ]
    },
    {
      "cell_type": "markdown",
      "metadata": {
        "id": "prvdqr1XyNQ8"
      },
      "source": [
        "#**Latihan Exploratory Data Analysis**\n",
        "\n",
        "**Tujuan**\n",
        "\n",
        "Pertama, kita akan melanjutkan proyek analisis data Dicoding Collection dengan menjalankan proses EDA. Proses ini memiliki tujuan antara lain\n",
        "\n",
        "membuat pertanyaan analisis atau bisnis yang ingin dicari jawabannya; dan\n",
        "melakukan eksplorasi terhadap setiap data untuk mencari insight menarik guna menjawab pertanyaan bisnis tersebut.\n",
        "\n",
        "\n",
        "**Alur Latihan**\n",
        "\n",
        "Berikut tahapan dalam latihan ini.\n",
        "\n",
        "Tahap persiapan.\n",
        "Tahap penentuan pertanyaan bisnis untuk explorasi data.\n",
        "Tahap eksplorasi data.\n",
        "Sudah siap? Yuk, kita mulai!\n",
        "\n",
        "\n",
        "\n",
        "**Persiapan**\n",
        "\n",
        "Sebelum mulai mengerjakan latihan ini, terdapat beberapa hal yang harus disiapkan terlebih dahulu.\n",
        "\n",
        "Pertama, siapkanlah Google Colab atau Jupyter Notebook yang sebelumnya digunakan pada materi Latihan Data Wrangling.\n",
        "Pastikan Anda menjalankan kembali seluruh kode yang ada pada notebook tersebut.\n",
        "Terakhir, siapkan cemilan beserta segelas teh atau kopi untuk menemani Anda selama mengikuti latihan ini.\n",
        "\n",
        "\n",
        "Menentukan Pertanyaan Bisnis\n",
        "Setelah tahap persiapan selesai, kita akan masuk tahap penentuan pertanyaan bisnis. Pada tahap ini, kita akan mendefinisikan berbagai pertanyaan bisnis yang akan digunakan sebagai kompas dalam proses eksplorasi data.\n",
        "\n",
        "Seperti yang telah kita bahas sebelumnya, untuk menentukan sebuah pertanyaan, kita perlu memahami permasalahan bisnis yang dihadapi terlebih dahulu. Nah, pada proyek ini, kita dihadapkan dengan sebuah contoh kasus dari perusahaan online fashion bernama Dicoding Collection atau disingkat DiCo.\n",
        "\n",
        "Sebagai perusahaan yang bergerak di bidang online fashion, DiCo perlu mengevaluasi performa penjualan (sales) dan memahami item fashion yang paling banyak dibeli. Selain itu, ia juga perlu lebih memahami pelanggannya (customer) sehingga dapat membuat sebuah strategi campaign yang lebih efisien.\n",
        "\n",
        "Berdasarkan beberapa masalah tersebut, kita dapat mendefinisikan beberapa pertanyaan bisnis seperti berikut.\n",
        "\n",
        "\n",
        "\n",
        "*   Bagaimana performa penjualan dan revenue perusahaan dalam beberapa bulan terakhir?\n",
        "*   Produk apa yang paling banyak dan paling sedikit terjual?\n",
        "* Bagaimana demografi pelanggan yang kita miliki?\n",
        "*  Kapan terakhir pelanggan melakukan transaksi?\n",
        "*  Seberapa sering seorang pelanggan melakukan pembelian dalam beberapa bulan terakhir?\n",
        "\n",
        "* Berapa banyak uang yang dihabiskan pelanggan dalam beberapa bulan terakhir?\n",
        "\n",
        "\n",
        "\n",
        "\n",
        "Nah, itulah keenam pertanyaan bisnis yang harus kita jawab melalui proses analisis data. Apakah Anda sudah siap? Yuk, kita mulai melakukan eksplorasi data!"
      ]
    },
    {
      "cell_type": "markdown",
      "metadata": {
        "id": "WcgoJzSpzKIm"
      },
      "source": [
        "#**Melakukan Eksplorasi Data**"
      ]
    },
    {
      "cell_type": "markdown",
      "metadata": {
        "id": "t6pcnaWezaFO"
      },
      "source": [
        "**Eksplorasi Data customers_df**"
      ]
    },
    {
      "cell_type": "code",
      "execution_count": 41,
      "metadata": {
        "colab": {
          "base_uri": "https://localhost:8080/",
          "height": 394
        },
        "id": "A_okR2BSzchC",
        "outputId": "51329efd-685a-4d34-d88a-a3f586718ed5"
      },
      "outputs": [
        {
          "data": {
            "text/html": [
              "<div>\n",
              "<style scoped>\n",
              "    .dataframe tbody tr th:only-of-type {\n",
              "        vertical-align: middle;\n",
              "    }\n",
              "\n",
              "    .dataframe tbody tr th {\n",
              "        vertical-align: top;\n",
              "    }\n",
              "\n",
              "    .dataframe thead th {\n",
              "        text-align: right;\n",
              "    }\n",
              "</style>\n",
              "<table border=\"1\" class=\"dataframe\">\n",
              "  <thead>\n",
              "    <tr style=\"text-align: right;\">\n",
              "      <th></th>\n",
              "      <th>customer_id</th>\n",
              "      <th>customer_name</th>\n",
              "      <th>gender</th>\n",
              "      <th>age</th>\n",
              "      <th>home_address</th>\n",
              "      <th>zip_code</th>\n",
              "      <th>city</th>\n",
              "      <th>state</th>\n",
              "      <th>country</th>\n",
              "    </tr>\n",
              "  </thead>\n",
              "  <tbody>\n",
              "    <tr>\n",
              "      <th>count</th>\n",
              "      <td>1001.000000</td>\n",
              "      <td>1001</td>\n",
              "      <td>1001</td>\n",
              "      <td>1001.000000</td>\n",
              "      <td>1001</td>\n",
              "      <td>1001.000000</td>\n",
              "      <td>1001</td>\n",
              "      <td>1001</td>\n",
              "      <td>1001</td>\n",
              "    </tr>\n",
              "    <tr>\n",
              "      <th>unique</th>\n",
              "      <td>NaN</td>\n",
              "      <td>1000</td>\n",
              "      <td>3</td>\n",
              "      <td>NaN</td>\n",
              "      <td>1000</td>\n",
              "      <td>NaN</td>\n",
              "      <td>961</td>\n",
              "      <td>8</td>\n",
              "      <td>1</td>\n",
              "    </tr>\n",
              "    <tr>\n",
              "      <th>top</th>\n",
              "      <td>NaN</td>\n",
              "      <td>fulan 943</td>\n",
              "      <td>Prefer not to say</td>\n",
              "      <td>NaN</td>\n",
              "      <td>3117 Heller PlaceSuite 149</td>\n",
              "      <td>NaN</td>\n",
              "      <td>New Ava</td>\n",
              "      <td>South Australia</td>\n",
              "      <td>Australia</td>\n",
              "    </tr>\n",
              "    <tr>\n",
              "      <th>freq</th>\n",
              "      <td>NaN</td>\n",
              "      <td>2</td>\n",
              "      <td>743</td>\n",
              "      <td>NaN</td>\n",
              "      <td>2</td>\n",
              "      <td>NaN</td>\n",
              "      <td>3</td>\n",
              "      <td>140</td>\n",
              "      <td>1001</td>\n",
              "    </tr>\n",
              "    <tr>\n",
              "      <th>mean</th>\n",
              "      <td>500.942058</td>\n",
              "      <td>NaN</td>\n",
              "      <td>NaN</td>\n",
              "      <td>49.874126</td>\n",
              "      <td>NaN</td>\n",
              "      <td>5000.693307</td>\n",
              "      <td>NaN</td>\n",
              "      <td>NaN</td>\n",
              "      <td>NaN</td>\n",
              "    </tr>\n",
              "    <tr>\n",
              "      <th>std</th>\n",
              "      <td>289.013599</td>\n",
              "      <td>NaN</td>\n",
              "      <td>NaN</td>\n",
              "      <td>17.644663</td>\n",
              "      <td>NaN</td>\n",
              "      <td>2886.084454</td>\n",
              "      <td>NaN</td>\n",
              "      <td>NaN</td>\n",
              "      <td>NaN</td>\n",
              "    </tr>\n",
              "    <tr>\n",
              "      <th>min</th>\n",
              "      <td>1.000000</td>\n",
              "      <td>NaN</td>\n",
              "      <td>NaN</td>\n",
              "      <td>20.000000</td>\n",
              "      <td>NaN</td>\n",
              "      <td>2.000000</td>\n",
              "      <td>NaN</td>\n",
              "      <td>NaN</td>\n",
              "      <td>NaN</td>\n",
              "    </tr>\n",
              "    <tr>\n",
              "      <th>25%</th>\n",
              "      <td>251.000000</td>\n",
              "      <td>NaN</td>\n",
              "      <td>NaN</td>\n",
              "      <td>34.000000</td>\n",
              "      <td>NaN</td>\n",
              "      <td>2398.000000</td>\n",
              "      <td>NaN</td>\n",
              "      <td>NaN</td>\n",
              "      <td>NaN</td>\n",
              "    </tr>\n",
              "    <tr>\n",
              "      <th>50%</th>\n",
              "      <td>501.000000</td>\n",
              "      <td>NaN</td>\n",
              "      <td>NaN</td>\n",
              "      <td>50.000000</td>\n",
              "      <td>NaN</td>\n",
              "      <td>5079.000000</td>\n",
              "      <td>NaN</td>\n",
              "      <td>NaN</td>\n",
              "      <td>NaN</td>\n",
              "    </tr>\n",
              "    <tr>\n",
              "      <th>75%</th>\n",
              "      <td>751.000000</td>\n",
              "      <td>NaN</td>\n",
              "      <td>NaN</td>\n",
              "      <td>65.000000</td>\n",
              "      <td>NaN</td>\n",
              "      <td>7454.000000</td>\n",
              "      <td>NaN</td>\n",
              "      <td>NaN</td>\n",
              "      <td>NaN</td>\n",
              "    </tr>\n",
              "    <tr>\n",
              "      <th>max</th>\n",
              "      <td>1000.000000</td>\n",
              "      <td>NaN</td>\n",
              "      <td>NaN</td>\n",
              "      <td>80.000000</td>\n",
              "      <td>NaN</td>\n",
              "      <td>9998.000000</td>\n",
              "      <td>NaN</td>\n",
              "      <td>NaN</td>\n",
              "      <td>NaN</td>\n",
              "    </tr>\n",
              "  </tbody>\n",
              "</table>\n",
              "</div>"
            ],
            "text/plain": [
              "        customer_id customer_name             gender          age  \\\n",
              "count   1001.000000          1001               1001  1001.000000   \n",
              "unique          NaN          1000                  3          NaN   \n",
              "top             NaN     fulan 943  Prefer not to say          NaN   \n",
              "freq            NaN             2                743          NaN   \n",
              "mean     500.942058           NaN                NaN    49.874126   \n",
              "std      289.013599           NaN                NaN    17.644663   \n",
              "min        1.000000           NaN                NaN    20.000000   \n",
              "25%      251.000000           NaN                NaN    34.000000   \n",
              "50%      501.000000           NaN                NaN    50.000000   \n",
              "75%      751.000000           NaN                NaN    65.000000   \n",
              "max     1000.000000           NaN                NaN    80.000000   \n",
              "\n",
              "                      home_address     zip_code     city            state  \\\n",
              "count                         1001  1001.000000     1001             1001   \n",
              "unique                        1000          NaN      961                8   \n",
              "top     3117 Heller PlaceSuite 149          NaN  New Ava  South Australia   \n",
              "freq                             2          NaN        3              140   \n",
              "mean                           NaN  5000.693307      NaN              NaN   \n",
              "std                            NaN  2886.084454      NaN              NaN   \n",
              "min                            NaN     2.000000      NaN              NaN   \n",
              "25%                            NaN  2398.000000      NaN              NaN   \n",
              "50%                            NaN  5079.000000      NaN              NaN   \n",
              "75%                            NaN  7454.000000      NaN              NaN   \n",
              "max                            NaN  9998.000000      NaN              NaN   \n",
              "\n",
              "          country  \n",
              "count        1001  \n",
              "unique          1  \n",
              "top     Australia  \n",
              "freq         1001  \n",
              "mean          NaN  \n",
              "std           NaN  \n",
              "min           NaN  \n",
              "25%           NaN  \n",
              "50%           NaN  \n",
              "75%           NaN  \n",
              "max           NaN  "
            ]
          },
          "execution_count": 41,
          "metadata": {},
          "output_type": "execute_result"
        }
      ],
      "source": [
        "customers_df.describe(include=\"all\")"
      ]
    },
    {
      "cell_type": "markdown",
      "metadata": {
        "id": "EiITRzFzzr2Z"
      },
      "source": [
        "Berdasarkan rangkuman parameter statistik di atas, kita akan memperoleh informasi jumlah pelanggan sebanyak 1001 orang yang berumur di kisaran antara 20 hingga 80 tahun dengan rata-rata umur sebesar 49.87 tahun dengan standar deviasinya sebesar 17.64 tahun. Informasi ini tentunya dapat memberikan gambaran bahwa segmentasi pelanggan yang kita miliki cukup luas mulai dari remaja hingga lanjut usia.  "
      ]
    },
    {
      "cell_type": "markdown",
      "metadata": {
        "id": "Ng3PT5HCzvXj"
      },
      "source": [
        "Sekarang coba kita lihat demografi pelanggan berdasarkan jenis kelamin (gender). Untuk melakukan ini, kita akan menggunakan method groupby() yang diikuti dengan method agg(). Berikut contoh kode untuk melakukannya."
      ]
    },
    {
      "cell_type": "code",
      "execution_count": 42,
      "metadata": {
        "colab": {
          "base_uri": "https://localhost:8080/",
          "height": 206
        },
        "id": "pFIOa_ItzwEf",
        "outputId": "560da4a1-5ba5-4128-f21e-85792a3de5a1"
      },
      "outputs": [
        {
          "data": {
            "text/html": [
              "<div>\n",
              "<style scoped>\n",
              "    .dataframe tbody tr th:only-of-type {\n",
              "        vertical-align: middle;\n",
              "    }\n",
              "\n",
              "    .dataframe tbody tr th {\n",
              "        vertical-align: top;\n",
              "    }\n",
              "\n",
              "    .dataframe thead tr th {\n",
              "        text-align: left;\n",
              "    }\n",
              "\n",
              "    .dataframe thead tr:last-of-type th {\n",
              "        text-align: right;\n",
              "    }\n",
              "</style>\n",
              "<table border=\"1\" class=\"dataframe\">\n",
              "  <thead>\n",
              "    <tr>\n",
              "      <th></th>\n",
              "      <th>customer_id</th>\n",
              "      <th colspan=\"4\" halign=\"left\">age</th>\n",
              "    </tr>\n",
              "    <tr>\n",
              "      <th></th>\n",
              "      <th>nunique</th>\n",
              "      <th>max</th>\n",
              "      <th>min</th>\n",
              "      <th>mean</th>\n",
              "      <th>std</th>\n",
              "    </tr>\n",
              "    <tr>\n",
              "      <th>gender</th>\n",
              "      <th></th>\n",
              "      <th></th>\n",
              "      <th></th>\n",
              "      <th></th>\n",
              "      <th></th>\n",
              "    </tr>\n",
              "  </thead>\n",
              "  <tbody>\n",
              "    <tr>\n",
              "      <th>Female</th>\n",
              "      <td>115</td>\n",
              "      <td>79</td>\n",
              "      <td>20</td>\n",
              "      <td>49.147826</td>\n",
              "      <td>16.646607</td>\n",
              "    </tr>\n",
              "    <tr>\n",
              "      <th>Male</th>\n",
              "      <td>143</td>\n",
              "      <td>80</td>\n",
              "      <td>20</td>\n",
              "      <td>51.230769</td>\n",
              "      <td>18.462635</td>\n",
              "    </tr>\n",
              "    <tr>\n",
              "      <th>Prefer not to say</th>\n",
              "      <td>742</td>\n",
              "      <td>80</td>\n",
              "      <td>20</td>\n",
              "      <td>49.725437</td>\n",
              "      <td>17.644283</td>\n",
              "    </tr>\n",
              "  </tbody>\n",
              "</table>\n",
              "</div>"
            ],
            "text/plain": [
              "                  customer_id age                          \n",
              "                      nunique max min       mean        std\n",
              "gender                                                     \n",
              "Female                    115  79  20  49.147826  16.646607\n",
              "Male                      143  80  20  51.230769  18.462635\n",
              "Prefer not to say         742  80  20  49.725437  17.644283"
            ]
          },
          "execution_count": 42,
          "metadata": {},
          "output_type": "execute_result"
        }
      ],
      "source": [
        "customers_df.groupby(by=\"gender\").agg({\n",
        "    \"customer_id\": \"nunique\",\n",
        "    \"age\": [\"max\", \"min\", \"mean\", \"std\"]\n",
        "})"
      ]
    },
    {
      "cell_type": "markdown",
      "metadata": {
        "id": "dBZq_xX9z3SG"
      },
      "source": [
        "Berdasarkan pivot table di atas, dapat diketahui bahwa pelanggan yang kita miliki didominasi oleh jenis kelamin prefer not to say. Di lain sisi, distribusi umur mereka ternyata cukup mirip yaitu berkisar antara 20 hingga 80 tahun."
      ]
    },
    {
      "cell_type": "markdown",
      "metadata": {
        "id": "UTQ9-pKiz-V6"
      },
      "source": [
        "Selanjutnya, kita coba melihat persebaran jumlah pelanggan berdasarkan kota (city) dan negara bagian (state). Untuk melakukannya kita juga akan menggunakan method groupby(). Selain itu, agar hasilnya lebih mudah untuk dilihat, kita akan mengurutkan nilainya menggunakan method sort_values() secara descending. Berikut contoh kode untuk melakukannya."
      ]
    },
    {
      "cell_type": "code",
      "execution_count": 43,
      "metadata": {
        "colab": {
          "base_uri": "https://localhost:8080/"
        },
        "id": "XTle5t_K8xTg",
        "outputId": "7a6439b7-5c9e-4dd6-b4aa-6626a3fe5ded"
      },
      "outputs": [
        {
          "data": {
            "text/plain": [
              "city\n",
              "East Aidan       3\n",
              "East Sophia      3\n",
              "New Ava          3\n",
              "West Jackfort    2\n",
              "Corkeryshire     2\n",
              "                ..\n",
              "Jordanside       1\n",
              "Josephland       1\n",
              "Josephmouth      1\n",
              "Justinport       1\n",
              "Zacville         1\n",
              "Name: customer_id, Length: 961, dtype: int64"
            ]
          },
          "execution_count": 43,
          "metadata": {},
          "output_type": "execute_result"
        }
      ],
      "source": [
        "customers_df.groupby(by=\"city\").customer_id.nunique().sort_values(ascending=False)\n"
      ]
    },
    {
      "cell_type": "code",
      "execution_count": 44,
      "metadata": {
        "colab": {
          "base_uri": "https://localhost:8080/"
        },
        "id": "4RhuMULL9GzA",
        "outputId": "3e5c0a16-54c8-4c4a-cee4-d5c27b2298f8"
      },
      "outputs": [
        {
          "data": {
            "text/plain": [
              "state\n",
              "South Australia                 139\n",
              "Queensland                      134\n",
              "New South Wales                 132\n",
              "Northern Territory              125\n",
              "Western Australia               124\n",
              "Australian Capital Territory    121\n",
              "Victoria                        121\n",
              "Tasmania                        104\n",
              "Name: customer_id, dtype: int64"
            ]
          },
          "execution_count": 44,
          "metadata": {},
          "output_type": "execute_result"
        }
      ],
      "source": [
        "customers_df.groupby(by=\"state\").customer_id.nunique().sort_values(ascending=False)"
      ]
    },
    {
      "cell_type": "markdown",
      "metadata": {
        "id": "-8-8qKKG9NAs"
      },
      "source": [
        "**Eksplorasi Data orders_df**"
      ]
    },
    {
      "cell_type": "markdown",
      "metadata": {
        "id": "5pYIUpFV9PbY"
      },
      "source": [
        "Data kedua yang akan kita eksplor adalah orders_df. Ia mengandung berbagai informasi terkait sebuah order yang terdiri dari order_id, customer_id, order_date, dan delivery_date. Berdasarkan informasi tersebut, kita bisa membuat sebuah kolom baru untuk memuat waktu pengiriman tiap order. Untuk melakukannya, kita perlu menghitung selisih antar delivery_date dan order_date serta menyimpannya sebagai delivery_time. Selanjutnya, kita akan menggunakan method apply() untuk melakukan sebuah operasi terhadap setiap elemen dalam sebuah kolom DataFrame atau Series (bentuk satu dimensi dari DataFrame). Operasi yang akan kita lakukan ialah menghitung jumlah detik dari delivery_time menggunakan method total_seconds(). Nilai tersebut selanjutnya diubah ke dalam satuan hari (dibagi 86400) dan diambil bilangan bulatnya saja. Berikut merupakan contoh kode untuk melakukan semua proses tersebut."
      ]
    },
    {
      "cell_type": "code",
      "execution_count": 45,
      "metadata": {
        "id": "W4X7rlWy9QUx"
      },
      "outputs": [],
      "source": [
        "delivery_time = orders_df[\"delivery_date\"] - orders_df[\"order_date\"]\n",
        "delivery_time = delivery_time.apply(lambda x: x.total_seconds())\n",
        "orders_df[\"delivery_time\"] = round(delivery_time/86400)"
      ]
    },
    {
      "cell_type": "code",
      "execution_count": 46,
      "metadata": {
        "colab": {
          "base_uri": "https://localhost:8080/",
          "height": 366
        },
        "id": "SCwl-zWO9j_C",
        "outputId": "086f6f70-9cf5-4790-f04d-1801be5fafb6"
      },
      "outputs": [
        {
          "data": {
            "text/html": [
              "<div>\n",
              "<style scoped>\n",
              "    .dataframe tbody tr th:only-of-type {\n",
              "        vertical-align: middle;\n",
              "    }\n",
              "\n",
              "    .dataframe tbody tr th {\n",
              "        vertical-align: top;\n",
              "    }\n",
              "\n",
              "    .dataframe thead th {\n",
              "        text-align: right;\n",
              "    }\n",
              "</style>\n",
              "<table border=\"1\" class=\"dataframe\">\n",
              "  <thead>\n",
              "    <tr style=\"text-align: right;\">\n",
              "      <th></th>\n",
              "      <th>order_id</th>\n",
              "      <th>customer_id</th>\n",
              "      <th>payment</th>\n",
              "      <th>order_date</th>\n",
              "      <th>delivery_date</th>\n",
              "      <th>delivery_time</th>\n",
              "    </tr>\n",
              "  </thead>\n",
              "  <tbody>\n",
              "    <tr>\n",
              "      <th>0</th>\n",
              "      <td>1</td>\n",
              "      <td>64</td>\n",
              "      <td>30811</td>\n",
              "      <td>2021-08-30</td>\n",
              "      <td>2021-09-24</td>\n",
              "      <td>25.0</td>\n",
              "    </tr>\n",
              "    <tr>\n",
              "      <th>1</th>\n",
              "      <td>2</td>\n",
              "      <td>473</td>\n",
              "      <td>50490</td>\n",
              "      <td>2021-02-03</td>\n",
              "      <td>2021-02-13</td>\n",
              "      <td>10.0</td>\n",
              "    </tr>\n",
              "    <tr>\n",
              "      <th>2</th>\n",
              "      <td>3</td>\n",
              "      <td>774</td>\n",
              "      <td>46763</td>\n",
              "      <td>2021-10-08</td>\n",
              "      <td>2021-11-03</td>\n",
              "      <td>26.0</td>\n",
              "    </tr>\n",
              "    <tr>\n",
              "      <th>3</th>\n",
              "      <td>4</td>\n",
              "      <td>433</td>\n",
              "      <td>39782</td>\n",
              "      <td>2021-05-06</td>\n",
              "      <td>2021-05-19</td>\n",
              "      <td>13.0</td>\n",
              "    </tr>\n",
              "    <tr>\n",
              "      <th>4</th>\n",
              "      <td>5</td>\n",
              "      <td>441</td>\n",
              "      <td>14719</td>\n",
              "      <td>2021-03-23</td>\n",
              "      <td>2021-03-24</td>\n",
              "      <td>1.0</td>\n",
              "    </tr>\n",
              "    <tr>\n",
              "      <th>...</th>\n",
              "      <td>...</td>\n",
              "      <td>...</td>\n",
              "      <td>...</td>\n",
              "      <td>...</td>\n",
              "      <td>...</td>\n",
              "      <td>...</td>\n",
              "    </tr>\n",
              "    <tr>\n",
              "      <th>995</th>\n",
              "      <td>996</td>\n",
              "      <td>345</td>\n",
              "      <td>37843</td>\n",
              "      <td>2021-01-13</td>\n",
              "      <td>2021-02-02</td>\n",
              "      <td>20.0</td>\n",
              "    </tr>\n",
              "    <tr>\n",
              "      <th>996</th>\n",
              "      <td>997</td>\n",
              "      <td>346</td>\n",
              "      <td>53831</td>\n",
              "      <td>2021-01-18</td>\n",
              "      <td>2021-01-31</td>\n",
              "      <td>13.0</td>\n",
              "    </tr>\n",
              "    <tr>\n",
              "      <th>997</th>\n",
              "      <td>998</td>\n",
              "      <td>407</td>\n",
              "      <td>53308</td>\n",
              "      <td>2021-05-05</td>\n",
              "      <td>2021-05-21</td>\n",
              "      <td>16.0</td>\n",
              "    </tr>\n",
              "    <tr>\n",
              "      <th>998</th>\n",
              "      <td>999</td>\n",
              "      <td>428</td>\n",
              "      <td>31643</td>\n",
              "      <td>2021-06-15</td>\n",
              "      <td>2021-07-12</td>\n",
              "      <td>27.0</td>\n",
              "    </tr>\n",
              "    <tr>\n",
              "      <th>999</th>\n",
              "      <td>1000</td>\n",
              "      <td>896</td>\n",
              "      <td>27836</td>\n",
              "      <td>2021-04-07</td>\n",
              "      <td>2021-04-24</td>\n",
              "      <td>17.0</td>\n",
              "    </tr>\n",
              "  </tbody>\n",
              "</table>\n",
              "<p>1000 rows × 6 columns</p>\n",
              "</div>"
            ],
            "text/plain": [
              "     order_id  customer_id  payment order_date delivery_date  delivery_time\n",
              "0           1           64    30811 2021-08-30    2021-09-24           25.0\n",
              "1           2          473    50490 2021-02-03    2021-02-13           10.0\n",
              "2           3          774    46763 2021-10-08    2021-11-03           26.0\n",
              "3           4          433    39782 2021-05-06    2021-05-19           13.0\n",
              "4           5          441    14719 2021-03-23    2021-03-24            1.0\n",
              "..        ...          ...      ...        ...           ...            ...\n",
              "995       996          345    37843 2021-01-13    2021-02-02           20.0\n",
              "996       997          346    53831 2021-01-18    2021-01-31           13.0\n",
              "997       998          407    53308 2021-05-05    2021-05-21           16.0\n",
              "998       999          428    31643 2021-06-15    2021-07-12           27.0\n",
              "999      1000          896    27836 2021-04-07    2021-04-24           17.0\n",
              "\n",
              "[1000 rows x 6 columns]"
            ]
          },
          "execution_count": 46,
          "metadata": {},
          "output_type": "execute_result"
        }
      ],
      "source": [
        "orders_df"
      ]
    },
    {
      "cell_type": "code",
      "execution_count": 47,
      "metadata": {
        "colab": {
          "base_uri": "https://localhost:8080/",
          "height": 551
        },
        "id": "2JdJAozw-uvH",
        "outputId": "208e5326-b0b5-468f-bdd5-f90dc5b8d1e6"
      },
      "outputs": [
        {
          "data": {
            "text/html": [
              "<div>\n",
              "<style scoped>\n",
              "    .dataframe tbody tr th:only-of-type {\n",
              "        vertical-align: middle;\n",
              "    }\n",
              "\n",
              "    .dataframe tbody tr th {\n",
              "        vertical-align: top;\n",
              "    }\n",
              "\n",
              "    .dataframe thead th {\n",
              "        text-align: right;\n",
              "    }\n",
              "</style>\n",
              "<table border=\"1\" class=\"dataframe\">\n",
              "  <thead>\n",
              "    <tr style=\"text-align: right;\">\n",
              "      <th></th>\n",
              "      <th>order_id</th>\n",
              "      <th>customer_id</th>\n",
              "      <th>payment</th>\n",
              "      <th>order_date</th>\n",
              "      <th>delivery_date</th>\n",
              "      <th>delivery_time</th>\n",
              "    </tr>\n",
              "  </thead>\n",
              "  <tbody>\n",
              "    <tr>\n",
              "      <th>count</th>\n",
              "      <td>1000.000000</td>\n",
              "      <td>1000.000000</td>\n",
              "      <td>1000.000000</td>\n",
              "      <td>1000</td>\n",
              "      <td>1000</td>\n",
              "      <td>1000.000000</td>\n",
              "    </tr>\n",
              "    <tr>\n",
              "      <th>mean</th>\n",
              "      <td>500.500000</td>\n",
              "      <td>506.640000</td>\n",
              "      <td>33972.936000</td>\n",
              "      <td>2021-05-27 18:38:52.800000</td>\n",
              "      <td>2021-06-10 20:31:12</td>\n",
              "      <td>14.078000</td>\n",
              "    </tr>\n",
              "    <tr>\n",
              "      <th>min</th>\n",
              "      <td>1.000000</td>\n",
              "      <td>1.000000</td>\n",
              "      <td>10043.000000</td>\n",
              "      <td>2021-01-01 00:00:00</td>\n",
              "      <td>2021-01-03 00:00:00</td>\n",
              "      <td>1.000000</td>\n",
              "    </tr>\n",
              "    <tr>\n",
              "      <th>25%</th>\n",
              "      <td>250.750000</td>\n",
              "      <td>275.250000</td>\n",
              "      <td>21329.250000</td>\n",
              "      <td>2021-03-13 18:00:00</td>\n",
              "      <td>2021-03-28 00:00:00</td>\n",
              "      <td>8.000000</td>\n",
              "    </tr>\n",
              "    <tr>\n",
              "      <th>50%</th>\n",
              "      <td>500.500000</td>\n",
              "      <td>515.000000</td>\n",
              "      <td>33697.500000</td>\n",
              "      <td>2021-05-27 12:00:00</td>\n",
              "      <td>2021-06-11 12:00:00</td>\n",
              "      <td>14.000000</td>\n",
              "    </tr>\n",
              "    <tr>\n",
              "      <th>75%</th>\n",
              "      <td>750.250000</td>\n",
              "      <td>737.250000</td>\n",
              "      <td>46249.000000</td>\n",
              "      <td>2021-08-12 06:00:00</td>\n",
              "      <td>2021-08-24 06:00:00</td>\n",
              "      <td>21.000000</td>\n",
              "    </tr>\n",
              "    <tr>\n",
              "      <th>max</th>\n",
              "      <td>1000.000000</td>\n",
              "      <td>1000.000000</td>\n",
              "      <td>59910.000000</td>\n",
              "      <td>2021-10-24 00:00:00</td>\n",
              "      <td>2021-11-20 00:00:00</td>\n",
              "      <td>27.000000</td>\n",
              "    </tr>\n",
              "    <tr>\n",
              "      <th>std</th>\n",
              "      <td>288.819436</td>\n",
              "      <td>277.115502</td>\n",
              "      <td>14451.609047</td>\n",
              "      <td>NaN</td>\n",
              "      <td>NaN</td>\n",
              "      <td>7.707225</td>\n",
              "    </tr>\n",
              "  </tbody>\n",
              "</table>\n",
              "</div>"
            ],
            "text/plain": [
              "          order_id  customer_id       payment                  order_date  \\\n",
              "count  1000.000000  1000.000000   1000.000000                        1000   \n",
              "mean    500.500000   506.640000  33972.936000  2021-05-27 18:38:52.800000   \n",
              "min       1.000000     1.000000  10043.000000         2021-01-01 00:00:00   \n",
              "25%     250.750000   275.250000  21329.250000         2021-03-13 18:00:00   \n",
              "50%     500.500000   515.000000  33697.500000         2021-05-27 12:00:00   \n",
              "75%     750.250000   737.250000  46249.000000         2021-08-12 06:00:00   \n",
              "max    1000.000000  1000.000000  59910.000000         2021-10-24 00:00:00   \n",
              "std     288.819436   277.115502  14451.609047                         NaN   \n",
              "\n",
              "             delivery_date  delivery_time  \n",
              "count                 1000    1000.000000  \n",
              "mean   2021-06-10 20:31:12      14.078000  \n",
              "min    2021-01-03 00:00:00       1.000000  \n",
              "25%    2021-03-28 00:00:00       8.000000  \n",
              "50%    2021-06-11 12:00:00      14.000000  \n",
              "75%    2021-08-24 06:00:00      21.000000  \n",
              "max    2021-11-20 00:00:00      27.000000  \n",
              "std                    NaN       7.707225  "
            ]
          },
          "execution_count": 47,
          "metadata": {},
          "output_type": "execute_result"
        }
      ],
      "source": [
        "orders_df.describe(include=\"all\")"
      ]
    },
    {
      "cell_type": "markdown",
      "metadata": {
        "id": "GaHlespg_aCH"
      },
      "source": [
        "Berdasarkan hasil tersebut, dapat diketahui bahwa rata-rata waktu pengiriman sebesar 14 hari dengan nilai maksimum sebesar 27 hari dan nilai minimum sebesar 1 hari."
      ]
    },
    {
      "cell_type": "markdown",
      "metadata": {
        "id": "ZnX5FL-A_av7"
      },
      "source": [
        "#**Eksplorasi Data orders_df dan customers_df**"
      ]
    },
    {
      "cell_type": "markdown",
      "metadata": {
        "id": "w0hlRVjT_xw3"
      },
      "source": [
        "Jika Anda perhatikan, pada data orders_df terdapat kolom yang berisi informasi terkait customer id pelanggan yang pernah melakukan order. Informasi ini bisa kita gunakan untuk mengidentifikasi pelanggan yang belum pernah melakukan order. Untuk melakukan hal ini, kita bisa membuat sebuah kolom baru bernama “status” pada data customers_df. Kolom tersebut memiliki nilai “Active” untuk pelanggan yang pernah melakukan order setidaknya sekali dan sebaliknya bernilai “Non Active” untuk pelanggan yang belum pernah melakukan order sama sekali. Berikut merupakan kode untuk melakukannya."
      ]
    },
    {
      "cell_type": "code",
      "execution_count": 48,
      "metadata": {
        "colab": {
          "base_uri": "https://localhost:8080/",
          "height": 206
        },
        "id": "4cEiWXdl_y5h",
        "outputId": "47038c46-3a49-4404-8d0d-6c3cc454b310"
      },
      "outputs": [
        {
          "data": {
            "text/html": [
              "<div>\n",
              "<style scoped>\n",
              "    .dataframe tbody tr th:only-of-type {\n",
              "        vertical-align: middle;\n",
              "    }\n",
              "\n",
              "    .dataframe tbody tr th {\n",
              "        vertical-align: top;\n",
              "    }\n",
              "\n",
              "    .dataframe thead th {\n",
              "        text-align: right;\n",
              "    }\n",
              "</style>\n",
              "<table border=\"1\" class=\"dataframe\">\n",
              "  <thead>\n",
              "    <tr style=\"text-align: right;\">\n",
              "      <th></th>\n",
              "      <th>customer_id</th>\n",
              "      <th>customer_name</th>\n",
              "      <th>gender</th>\n",
              "      <th>age</th>\n",
              "      <th>home_address</th>\n",
              "      <th>zip_code</th>\n",
              "      <th>city</th>\n",
              "      <th>state</th>\n",
              "      <th>country</th>\n",
              "      <th>status</th>\n",
              "    </tr>\n",
              "  </thead>\n",
              "  <tbody>\n",
              "    <tr>\n",
              "      <th>463</th>\n",
              "      <td>463</td>\n",
              "      <td>fulan 463</td>\n",
              "      <td>Prefer not to say</td>\n",
              "      <td>58</td>\n",
              "      <td>00 Lockman TrackSuite 564</td>\n",
              "      <td>387</td>\n",
              "      <td>Lake Mikaylashire</td>\n",
              "      <td>Australian Capital Territory</td>\n",
              "      <td>Australia</td>\n",
              "      <td>Active</td>\n",
              "    </tr>\n",
              "    <tr>\n",
              "      <th>164</th>\n",
              "      <td>165</td>\n",
              "      <td>fulan 165</td>\n",
              "      <td>Male</td>\n",
              "      <td>21</td>\n",
              "      <td>60 Isabella ManorApt. 196</td>\n",
              "      <td>7259</td>\n",
              "      <td>Port Angus</td>\n",
              "      <td>Victoria</td>\n",
              "      <td>Australia</td>\n",
              "      <td>Non Active</td>\n",
              "    </tr>\n",
              "    <tr>\n",
              "      <th>264</th>\n",
              "      <td>265</td>\n",
              "      <td>fulan 265</td>\n",
              "      <td>Male</td>\n",
              "      <td>52</td>\n",
              "      <td>35 Baumbach HillApt. 244</td>\n",
              "      <td>5072</td>\n",
              "      <td>Lake Laurenview</td>\n",
              "      <td>Tasmania</td>\n",
              "      <td>Australia</td>\n",
              "      <td>Active</td>\n",
              "    </tr>\n",
              "    <tr>\n",
              "      <th>810</th>\n",
              "      <td>807</td>\n",
              "      <td>fulan 807</td>\n",
              "      <td>Prefer not to say</td>\n",
              "      <td>26</td>\n",
              "      <td>80 Adam HillSuite 633</td>\n",
              "      <td>953</td>\n",
              "      <td>Tylershire</td>\n",
              "      <td>Queensland</td>\n",
              "      <td>Australia</td>\n",
              "      <td>Active</td>\n",
              "    </tr>\n",
              "    <tr>\n",
              "      <th>625</th>\n",
              "      <td>624</td>\n",
              "      <td>fulan 624</td>\n",
              "      <td>Prefer not to say</td>\n",
              "      <td>46</td>\n",
              "      <td>60 Harris KnollSuite 768</td>\n",
              "      <td>9109</td>\n",
              "      <td>East Lara</td>\n",
              "      <td>Northern Territory</td>\n",
              "      <td>Australia</td>\n",
              "      <td>Non Active</td>\n",
              "    </tr>\n",
              "  </tbody>\n",
              "</table>\n",
              "</div>"
            ],
            "text/plain": [
              "     customer_id customer_name             gender  age  \\\n",
              "463          463     fulan 463  Prefer not to say   58   \n",
              "164          165     fulan 165               Male   21   \n",
              "264          265     fulan 265               Male   52   \n",
              "810          807     fulan 807  Prefer not to say   26   \n",
              "625          624     fulan 624  Prefer not to say   46   \n",
              "\n",
              "                  home_address  zip_code               city  \\\n",
              "463  00 Lockman TrackSuite 564       387  Lake Mikaylashire   \n",
              "164  60 Isabella ManorApt. 196      7259         Port Angus   \n",
              "264   35 Baumbach HillApt. 244      5072    Lake Laurenview   \n",
              "810      80 Adam HillSuite 633       953         Tylershire   \n",
              "625   60 Harris KnollSuite 768      9109          East Lara   \n",
              "\n",
              "                            state    country      status  \n",
              "463  Australian Capital Territory  Australia      Active  \n",
              "164                      Victoria  Australia  Non Active  \n",
              "264                      Tasmania  Australia      Active  \n",
              "810                    Queensland  Australia      Active  \n",
              "625            Northern Territory  Australia  Non Active  "
            ]
          },
          "execution_count": 48,
          "metadata": {},
          "output_type": "execute_result"
        }
      ],
      "source": [
        "customer_id_in_orders_df =  orders_df.customer_id.tolist()\n",
        "customers_df[\"status\"] = customers_df[\"customer_id\"].apply(lambda x: \"Active\" if x in customer_id_in_orders_df else \"Non Active\")\n",
        "customers_df.sample(5)"
      ]
    },
    {
      "cell_type": "markdown",
      "metadata": {
        "id": "KOH_XDmZBZaW"
      },
      "source": [
        "Untuk memperoleh informasi terkait jumlah pelanggan yang berstatus “Active” dan “Non Active”, kita bisa menggunakan pivot table. Berikut contoh kode untuk membuat pivot table menggunakan kolom “status”."
      ]
    },
    {
      "cell_type": "code",
      "execution_count": 49,
      "metadata": {
        "colab": {
          "base_uri": "https://localhost:8080/"
        },
        "id": "ww0T_NHABcg2",
        "outputId": "74f8a36a-73ae-44e4-d51f-950415942eff"
      },
      "outputs": [
        {
          "data": {
            "text/plain": [
              "status\n",
              "Active        617\n",
              "Non Active    384\n",
              "Name: customer_id, dtype: int64"
            ]
          },
          "execution_count": 49,
          "metadata": {},
          "output_type": "execute_result"
        }
      ],
      "source": [
        "customers_df.groupby(by=\"status\").customer_id.count()"
      ]
    },
    {
      "cell_type": "markdown",
      "metadata": {
        "id": "2x3Ag1BQBgIv"
      },
      "source": [
        "Seperti yang terlihat pada pivot table di atas, terdapat cukup banyak pelanggan yang belum pernah melakukan transaksi sebelumnya. Ini tentunya merupakan kabar buruk bagi kita karena hampir 30% pelanggan kita belum pernah melakukan order sebelumnya."
      ]
    },
    {
      "cell_type": "markdown",
      "metadata": {
        "id": "2wpy4DMdBlDu"
      },
      "source": [
        "Untuk memperoleh lebih banyak informasi terkait kedua data tersebut, kita perlu menggabungkan keduanya melalui proses join atau merge. Berikut merupakan contoh kode untuk melakukan merge terhadap data orders_df dan customers_df."
      ]
    },
    {
      "cell_type": "code",
      "execution_count": 50,
      "metadata": {
        "colab": {
          "base_uri": "https://localhost:8080/",
          "height": 206
        },
        "id": "ZI0BlqodBlad",
        "outputId": "b1305211-9454-49fd-9df3-b40a783cd426"
      },
      "outputs": [
        {
          "data": {
            "text/html": [
              "<div>\n",
              "<style scoped>\n",
              "    .dataframe tbody tr th:only-of-type {\n",
              "        vertical-align: middle;\n",
              "    }\n",
              "\n",
              "    .dataframe tbody tr th {\n",
              "        vertical-align: top;\n",
              "    }\n",
              "\n",
              "    .dataframe thead th {\n",
              "        text-align: right;\n",
              "    }\n",
              "</style>\n",
              "<table border=\"1\" class=\"dataframe\">\n",
              "  <thead>\n",
              "    <tr style=\"text-align: right;\">\n",
              "      <th></th>\n",
              "      <th>order_id</th>\n",
              "      <th>customer_id</th>\n",
              "      <th>payment</th>\n",
              "      <th>order_date</th>\n",
              "      <th>delivery_date</th>\n",
              "      <th>delivery_time</th>\n",
              "      <th>customer_name</th>\n",
              "      <th>gender</th>\n",
              "      <th>age</th>\n",
              "      <th>home_address</th>\n",
              "      <th>zip_code</th>\n",
              "      <th>city</th>\n",
              "      <th>state</th>\n",
              "      <th>country</th>\n",
              "      <th>status</th>\n",
              "    </tr>\n",
              "  </thead>\n",
              "  <tbody>\n",
              "    <tr>\n",
              "      <th>0</th>\n",
              "      <td>1</td>\n",
              "      <td>64</td>\n",
              "      <td>30811</td>\n",
              "      <td>2021-08-30</td>\n",
              "      <td>2021-09-24</td>\n",
              "      <td>25.0</td>\n",
              "      <td>fulan 64</td>\n",
              "      <td>Prefer not to say</td>\n",
              "      <td>75</td>\n",
              "      <td>4927 Alice MeadowApt. 960</td>\n",
              "      <td>7787</td>\n",
              "      <td>Sanfordborough</td>\n",
              "      <td>South Australia</td>\n",
              "      <td>Australia</td>\n",
              "      <td>Active</td>\n",
              "    </tr>\n",
              "    <tr>\n",
              "      <th>1</th>\n",
              "      <td>2</td>\n",
              "      <td>473</td>\n",
              "      <td>50490</td>\n",
              "      <td>2021-02-03</td>\n",
              "      <td>2021-02-13</td>\n",
              "      <td>10.0</td>\n",
              "      <td>fulan 473</td>\n",
              "      <td>Male</td>\n",
              "      <td>61</td>\n",
              "      <td>531 Schmitt BoulevardApt. 010</td>\n",
              "      <td>1744</td>\n",
              "      <td>Annaton</td>\n",
              "      <td>South Australia</td>\n",
              "      <td>Australia</td>\n",
              "      <td>Active</td>\n",
              "    </tr>\n",
              "    <tr>\n",
              "      <th>2</th>\n",
              "      <td>3</td>\n",
              "      <td>774</td>\n",
              "      <td>46763</td>\n",
              "      <td>2021-10-08</td>\n",
              "      <td>2021-11-03</td>\n",
              "      <td>26.0</td>\n",
              "      <td>fulan 774</td>\n",
              "      <td>Prefer not to say</td>\n",
              "      <td>34</td>\n",
              "      <td>2096 Wilson MewsApt. 714</td>\n",
              "      <td>8590</td>\n",
              "      <td>West Jonathanshire</td>\n",
              "      <td>Tasmania</td>\n",
              "      <td>Australia</td>\n",
              "      <td>Active</td>\n",
              "    </tr>\n",
              "    <tr>\n",
              "      <th>3</th>\n",
              "      <td>4</td>\n",
              "      <td>433</td>\n",
              "      <td>39782</td>\n",
              "      <td>2021-05-06</td>\n",
              "      <td>2021-05-19</td>\n",
              "      <td>13.0</td>\n",
              "      <td>fulan 433</td>\n",
              "      <td>Prefer not to say</td>\n",
              "      <td>46</td>\n",
              "      <td>5777 Mayer PassApt. 881</td>\n",
              "      <td>9728</td>\n",
              "      <td>West Michaelport</td>\n",
              "      <td>Tasmania</td>\n",
              "      <td>Australia</td>\n",
              "      <td>Active</td>\n",
              "    </tr>\n",
              "    <tr>\n",
              "      <th>4</th>\n",
              "      <td>5</td>\n",
              "      <td>441</td>\n",
              "      <td>14719</td>\n",
              "      <td>2021-03-23</td>\n",
              "      <td>2021-03-24</td>\n",
              "      <td>1.0</td>\n",
              "      <td>fulan 441</td>\n",
              "      <td>Prefer not to say</td>\n",
              "      <td>53</td>\n",
              "      <td>33 Richards JunctionApt. 478</td>\n",
              "      <td>7650</td>\n",
              "      <td>South Rileyview</td>\n",
              "      <td>Western Australia</td>\n",
              "      <td>Australia</td>\n",
              "      <td>Active</td>\n",
              "    </tr>\n",
              "  </tbody>\n",
              "</table>\n",
              "</div>"
            ],
            "text/plain": [
              "   order_id  customer_id  payment order_date delivery_date  delivery_time  \\\n",
              "0         1           64    30811 2021-08-30    2021-09-24           25.0   \n",
              "1         2          473    50490 2021-02-03    2021-02-13           10.0   \n",
              "2         3          774    46763 2021-10-08    2021-11-03           26.0   \n",
              "3         4          433    39782 2021-05-06    2021-05-19           13.0   \n",
              "4         5          441    14719 2021-03-23    2021-03-24            1.0   \n",
              "\n",
              "  customer_name             gender  age                   home_address  \\\n",
              "0      fulan 64  Prefer not to say   75      4927 Alice MeadowApt. 960   \n",
              "1     fulan 473               Male   61  531 Schmitt BoulevardApt. 010   \n",
              "2     fulan 774  Prefer not to say   34       2096 Wilson MewsApt. 714   \n",
              "3     fulan 433  Prefer not to say   46        5777 Mayer PassApt. 881   \n",
              "4     fulan 441  Prefer not to say   53   33 Richards JunctionApt. 478   \n",
              "\n",
              "   zip_code                city              state    country  status  \n",
              "0      7787      Sanfordborough    South Australia  Australia  Active  \n",
              "1      1744             Annaton    South Australia  Australia  Active  \n",
              "2      8590  West Jonathanshire           Tasmania  Australia  Active  \n",
              "3      9728    West Michaelport           Tasmania  Australia  Active  \n",
              "4      7650     South Rileyview  Western Australia  Australia  Active  "
            ]
          },
          "execution_count": 50,
          "metadata": {},
          "output_type": "execute_result"
        }
      ],
      "source": [
        "orders_customers_df = pd.merge(\n",
        "    left=orders_df,\n",
        "    right=customers_df,\n",
        "    how=\"left\",\n",
        "    left_on=\"customer_id\",\n",
        "    right_on=\"customer_id\"\n",
        ")\n",
        "orders_customers_df.head()"
      ]
    },
    {
      "cell_type": "markdown",
      "metadata": {
        "id": "R-rK4Sk2DV9r"
      },
      "source": [
        "**Jumlah order berdasarkan kota**"
      ]
    },
    {
      "cell_type": "code",
      "execution_count": 51,
      "metadata": {
        "colab": {
          "base_uri": "https://localhost:8080/",
          "height": 363
        },
        "id": "hSPqX0WxC-iM",
        "outputId": "655e5da6-f449-45a4-f6c9-08c4c2bf38f0"
      },
      "outputs": [
        {
          "data": {
            "text/html": [
              "<div>\n",
              "<style scoped>\n",
              "    .dataframe tbody tr th:only-of-type {\n",
              "        vertical-align: middle;\n",
              "    }\n",
              "\n",
              "    .dataframe tbody tr th {\n",
              "        vertical-align: top;\n",
              "    }\n",
              "\n",
              "    .dataframe thead th {\n",
              "        text-align: right;\n",
              "    }\n",
              "</style>\n",
              "<table border=\"1\" class=\"dataframe\">\n",
              "  <thead>\n",
              "    <tr style=\"text-align: right;\">\n",
              "      <th></th>\n",
              "      <th>city</th>\n",
              "      <th>order_id</th>\n",
              "    </tr>\n",
              "  </thead>\n",
              "  <tbody>\n",
              "    <tr>\n",
              "      <th>0</th>\n",
              "      <td>Jordanside</td>\n",
              "      <td>6</td>\n",
              "    </tr>\n",
              "    <tr>\n",
              "      <th>1</th>\n",
              "      <td>New Ava</td>\n",
              "      <td>6</td>\n",
              "    </tr>\n",
              "    <tr>\n",
              "      <th>2</th>\n",
              "      <td>Lake Rose</td>\n",
              "      <td>5</td>\n",
              "    </tr>\n",
              "    <tr>\n",
              "      <th>3</th>\n",
              "      <td>O'keefeton</td>\n",
              "      <td>5</td>\n",
              "    </tr>\n",
              "    <tr>\n",
              "      <th>4</th>\n",
              "      <td>East Max</td>\n",
              "      <td>5</td>\n",
              "    </tr>\n",
              "    <tr>\n",
              "      <th>5</th>\n",
              "      <td>Port Hannahburgh</td>\n",
              "      <td>5</td>\n",
              "    </tr>\n",
              "    <tr>\n",
              "      <th>6</th>\n",
              "      <td>Rubyfort</td>\n",
              "      <td>5</td>\n",
              "    </tr>\n",
              "    <tr>\n",
              "      <th>7</th>\n",
              "      <td>West Kai</td>\n",
              "      <td>5</td>\n",
              "    </tr>\n",
              "    <tr>\n",
              "      <th>8</th>\n",
              "      <td>Andrewborough</td>\n",
              "      <td>4</td>\n",
              "    </tr>\n",
              "    <tr>\n",
              "      <th>9</th>\n",
              "      <td>Port Aaronton</td>\n",
              "      <td>4</td>\n",
              "    </tr>\n",
              "  </tbody>\n",
              "</table>\n",
              "</div>"
            ],
            "text/plain": [
              "               city  order_id\n",
              "0        Jordanside         6\n",
              "1           New Ava         6\n",
              "2         Lake Rose         5\n",
              "3        O'keefeton         5\n",
              "4          East Max         5\n",
              "5  Port Hannahburgh         5\n",
              "6          Rubyfort         5\n",
              "7          West Kai         5\n",
              "8     Andrewborough         4\n",
              "9     Port Aaronton         4"
            ]
          },
          "execution_count": 51,
          "metadata": {},
          "output_type": "execute_result"
        }
      ],
      "source": [
        "orders_customers_df.groupby(by=\"city\").order_id.nunique().sort_values(ascending=False).reset_index().head(10)"
      ]
    },
    {
      "cell_type": "markdown",
      "metadata": {
        "id": "HPoqunvNDJCO"
      },
      "source": [
        "Nah, berdasarkan hasil tersebut, diketahui bahwa kota Jordanside dan New Ava merupakan dua kota yang memiliki jumlah order terbanyak.\n"
      ]
    },
    {
      "cell_type": "markdown",
      "metadata": {
        "id": "El5yAs9zDX6H"
      },
      "source": [
        "**Jumlah order berdasarkan state**"
      ]
    },
    {
      "cell_type": "code",
      "execution_count": 52,
      "metadata": {
        "colab": {
          "base_uri": "https://localhost:8080/"
        },
        "id": "n6-R6NKvDGv7",
        "outputId": "d2632c13-3690-4db8-d23d-5e93ff46c83d"
      },
      "outputs": [
        {
          "data": {
            "text/plain": [
              "state\n",
              "South Australia                 148\n",
              "Queensland                      139\n",
              "Western Australia               130\n",
              "New South Wales                 129\n",
              "Australian Capital Territory    118\n",
              "Victoria                        118\n",
              "Tasmania                        112\n",
              "Northern Territory              106\n",
              "Name: order_id, dtype: int64"
            ]
          },
          "execution_count": 52,
          "metadata": {},
          "output_type": "execute_result"
        }
      ],
      "source": [
        "orders_customers_df.groupby(by=\"state\").order_id.nunique().sort_values(ascending=False)"
      ]
    },
    {
      "cell_type": "markdown",
      "metadata": {
        "id": "PwRXV3owDJdd"
      },
      "source": [
        "Berdasarkan pivot table tersebut, diketahui bahwa South Australia merupakan state yang balik banyak melakukan order."
      ]
    },
    {
      "cell_type": "markdown",
      "metadata": {
        "id": "eWeJbr1cDbW9"
      },
      "source": [
        "**Jumlah order berdasarkan gender**"
      ]
    },
    {
      "cell_type": "code",
      "execution_count": 53,
      "metadata": {
        "colab": {
          "base_uri": "https://localhost:8080/"
        },
        "id": "ccVbWLQ5Dfl3",
        "outputId": "bcb47797-0df6-4b22-c1e6-0720e1bfea3a"
      },
      "outputs": [
        {
          "data": {
            "text/plain": [
              "gender\n",
              "Prefer not to say    725\n",
              "Female               139\n",
              "Male                 136\n",
              "Name: order_id, dtype: int64"
            ]
          },
          "execution_count": 53,
          "metadata": {},
          "output_type": "execute_result"
        }
      ],
      "source": [
        "orders_customers_df.groupby(by=\"gender\").order_id.nunique().sort_values(ascending=False)"
      ]
    },
    {
      "cell_type": "markdown",
      "metadata": {
        "id": "rEAKyR7FDi1c"
      },
      "source": [
        "Berdasarkan hasil tersebut, dapat dilihat bahwa kebanyakan order dilakukan oleh pelanggan yang berjenis kelamin prefer not to say. Hal ini tentunya sejalan dengan jumlah pelanggan yang kebanyakan dari kelompok gender tersebut.\n"
      ]
    },
    {
      "cell_type": "markdown",
      "metadata": {
        "id": "5I9bgOxBEK2f"
      },
      "source": [
        "**Jumlah order berdasarkan kelompok usia**"
      ]
    },
    {
      "cell_type": "markdown",
      "metadata": {
        "id": "QucwNYPnEjSS"
      },
      "source": [
        "kita juga bisa mengeksplorasi jumlah order berdasarkan kelompok usia. Untuk melakukan hal ini, kita perlu mendefinisikan sebuah kolom baru bernama “age_group”. Kolom ini akan membantu kita dalam mengelompokkan pelanggan ke dalam tiga kelompok, yaitu youth, adults, dan seniors. Selanjutnya, buatlah pivot table berdasarkan hal tersebut menggunakan contoh kode di bawah ini."
      ]
    },
    {
      "cell_type": "code",
      "execution_count": 54,
      "metadata": {
        "colab": {
          "base_uri": "https://localhost:8080/"
        },
        "id": "DnQICnAsEMGx",
        "outputId": "0155b9cb-f1b0-4e71-fcc9-d9b46f452c62"
      },
      "outputs": [
        {
          "data": {
            "text/plain": [
              "age_group\n",
              "Adults     681\n",
              "Seniors    226\n",
              "Youth       93\n",
              "Name: order_id, dtype: int64"
            ]
          },
          "execution_count": 54,
          "metadata": {},
          "output_type": "execute_result"
        }
      ],
      "source": [
        "orders_customers_df[\"age_group\"] = orders_customers_df.age.apply(lambda x: \"Youth\" if x <= 24 else (\"Seniors\" if x > 64 else \"Adults\"))\n",
        "orders_customers_df.groupby(by=\"age_group\").order_id.nunique().sort_values(ascending=False)"
      ]
    },
    {
      "cell_type": "markdown",
      "metadata": {
        "id": "U64HQlG-Ei4K"
      },
      "source": [
        "Berdasarkan hasil tersebut diketahui bahwa pelanggan yang paling banyak melakukan order berasal dari kelompok usia Adults."
      ]
    },
    {
      "cell_type": "markdown",
      "metadata": {
        "id": "wwmsI7L0Ezqc"
      },
      "source": [
        "#**Eksplorasi Data product_df dan sales_df**"
      ]
    },
    {
      "cell_type": "markdown",
      "metadata": {
        "id": "xAceIaefFCY7"
      },
      "source": [
        "Pada tahap ini, kita akan mengeksplorasi data product_df dan sales_df. Sebagai permulaan, kita dapat melihat rangkuman parameter statistik dari keduanya menggunakan method describe()."
      ]
    },
    {
      "cell_type": "code",
      "execution_count": 55,
      "metadata": {
        "colab": {
          "base_uri": "https://localhost:8080/",
          "height": 300
        },
        "id": "SFYN5kZuFDCi",
        "outputId": "d0cc1a6d-ffb5-4a12-bc9b-eb555fd4979f"
      },
      "outputs": [
        {
          "data": {
            "text/html": [
              "<div>\n",
              "<style scoped>\n",
              "    .dataframe tbody tr th:only-of-type {\n",
              "        vertical-align: middle;\n",
              "    }\n",
              "\n",
              "    .dataframe tbody tr th {\n",
              "        vertical-align: top;\n",
              "    }\n",
              "\n",
              "    .dataframe thead th {\n",
              "        text-align: right;\n",
              "    }\n",
              "</style>\n",
              "<table border=\"1\" class=\"dataframe\">\n",
              "  <thead>\n",
              "    <tr style=\"text-align: right;\">\n",
              "      <th></th>\n",
              "      <th>product_id</th>\n",
              "      <th>product_type</th>\n",
              "      <th>product_name</th>\n",
              "      <th>size</th>\n",
              "      <th>colour</th>\n",
              "      <th>price</th>\n",
              "      <th>quantity</th>\n",
              "      <th>description</th>\n",
              "    </tr>\n",
              "  </thead>\n",
              "  <tbody>\n",
              "    <tr>\n",
              "      <th>count</th>\n",
              "      <td>1260.000000</td>\n",
              "      <td>1260</td>\n",
              "      <td>1260</td>\n",
              "      <td>1260</td>\n",
              "      <td>1260</td>\n",
              "      <td>1260.000000</td>\n",
              "      <td>1260.000000</td>\n",
              "      <td>1260</td>\n",
              "    </tr>\n",
              "    <tr>\n",
              "      <th>unique</th>\n",
              "      <td>NaN</td>\n",
              "      <td>3</td>\n",
              "      <td>35</td>\n",
              "      <td>8</td>\n",
              "      <td>7</td>\n",
              "      <td>NaN</td>\n",
              "      <td>NaN</td>\n",
              "      <td>1260</td>\n",
              "    </tr>\n",
              "    <tr>\n",
              "      <th>top</th>\n",
              "      <td>NaN</td>\n",
              "      <td>Shirt</td>\n",
              "      <td>Denim</td>\n",
              "      <td>XS</td>\n",
              "      <td>red</td>\n",
              "      <td>NaN</td>\n",
              "      <td>NaN</td>\n",
              "      <td>A red coloured, XS sized, Oxford Cloth Shirt</td>\n",
              "    </tr>\n",
              "    <tr>\n",
              "      <th>freq</th>\n",
              "      <td>NaN</td>\n",
              "      <td>420</td>\n",
              "      <td>70</td>\n",
              "      <td>252</td>\n",
              "      <td>180</td>\n",
              "      <td>NaN</td>\n",
              "      <td>NaN</td>\n",
              "      <td>1</td>\n",
              "    </tr>\n",
              "    <tr>\n",
              "      <th>mean</th>\n",
              "      <td>629.500000</td>\n",
              "      <td>NaN</td>\n",
              "      <td>NaN</td>\n",
              "      <td>NaN</td>\n",
              "      <td>NaN</td>\n",
              "      <td>105.805556</td>\n",
              "      <td>60.150000</td>\n",
              "      <td>NaN</td>\n",
              "    </tr>\n",
              "    <tr>\n",
              "      <th>std</th>\n",
              "      <td>363.874979</td>\n",
              "      <td>NaN</td>\n",
              "      <td>NaN</td>\n",
              "      <td>NaN</td>\n",
              "      <td>NaN</td>\n",
              "      <td>9.704423</td>\n",
              "      <td>11.670573</td>\n",
              "      <td>NaN</td>\n",
              "    </tr>\n",
              "    <tr>\n",
              "      <th>min</th>\n",
              "      <td>0.000000</td>\n",
              "      <td>NaN</td>\n",
              "      <td>NaN</td>\n",
              "      <td>NaN</td>\n",
              "      <td>NaN</td>\n",
              "      <td>90.000000</td>\n",
              "      <td>40.000000</td>\n",
              "      <td>NaN</td>\n",
              "    </tr>\n",
              "    <tr>\n",
              "      <th>25%</th>\n",
              "      <td>314.750000</td>\n",
              "      <td>NaN</td>\n",
              "      <td>NaN</td>\n",
              "      <td>NaN</td>\n",
              "      <td>NaN</td>\n",
              "      <td>95.750000</td>\n",
              "      <td>50.000000</td>\n",
              "      <td>NaN</td>\n",
              "    </tr>\n",
              "    <tr>\n",
              "      <th>50%</th>\n",
              "      <td>629.500000</td>\n",
              "      <td>NaN</td>\n",
              "      <td>NaN</td>\n",
              "      <td>NaN</td>\n",
              "      <td>NaN</td>\n",
              "      <td>108.500000</td>\n",
              "      <td>60.000000</td>\n",
              "      <td>NaN</td>\n",
              "    </tr>\n",
              "    <tr>\n",
              "      <th>75%</th>\n",
              "      <td>944.250000</td>\n",
              "      <td>NaN</td>\n",
              "      <td>NaN</td>\n",
              "      <td>NaN</td>\n",
              "      <td>NaN</td>\n",
              "      <td>114.000000</td>\n",
              "      <td>70.000000</td>\n",
              "      <td>NaN</td>\n",
              "    </tr>\n",
              "    <tr>\n",
              "      <th>max</th>\n",
              "      <td>1259.000000</td>\n",
              "      <td>NaN</td>\n",
              "      <td>NaN</td>\n",
              "      <td>NaN</td>\n",
              "      <td>NaN</td>\n",
              "      <td>119.000000</td>\n",
              "      <td>80.000000</td>\n",
              "      <td>NaN</td>\n",
              "    </tr>\n",
              "  </tbody>\n",
              "</table>\n",
              "</div>"
            ],
            "text/plain": [
              "         product_id product_type product_name  size colour        price  \\\n",
              "count   1260.000000         1260         1260  1260   1260  1260.000000   \n",
              "unique          NaN            3           35     8      7          NaN   \n",
              "top             NaN        Shirt        Denim    XS    red          NaN   \n",
              "freq            NaN          420           70   252    180          NaN   \n",
              "mean     629.500000          NaN          NaN   NaN    NaN   105.805556   \n",
              "std      363.874979          NaN          NaN   NaN    NaN     9.704423   \n",
              "min        0.000000          NaN          NaN   NaN    NaN    90.000000   \n",
              "25%      314.750000          NaN          NaN   NaN    NaN    95.750000   \n",
              "50%      629.500000          NaN          NaN   NaN    NaN   108.500000   \n",
              "75%      944.250000          NaN          NaN   NaN    NaN   114.000000   \n",
              "max     1259.000000          NaN          NaN   NaN    NaN   119.000000   \n",
              "\n",
              "           quantity                                   description  \n",
              "count   1260.000000                                          1260  \n",
              "unique          NaN                                          1260  \n",
              "top             NaN  A red coloured, XS sized, Oxford Cloth Shirt  \n",
              "freq            NaN                                             1  \n",
              "mean      60.150000                                           NaN  \n",
              "std       11.670573                                           NaN  \n",
              "min       40.000000                                           NaN  \n",
              "25%       50.000000                                           NaN  \n",
              "50%       60.000000                                           NaN  \n",
              "75%       70.000000                                           NaN  \n",
              "max       80.000000                                           NaN  "
            ]
          },
          "execution_count": 55,
          "metadata": {},
          "output_type": "execute_result"
        }
      ],
      "source": [
        "product_df.describe(include=\"all\")\n"
      ]
    },
    {
      "cell_type": "code",
      "execution_count": 56,
      "metadata": {
        "colab": {
          "base_uri": "https://localhost:8080/",
          "height": 300
        },
        "id": "JNZcbtfuFGJ4",
        "outputId": "9ade063f-acae-422e-8b30-ec7a4c504f81"
      },
      "outputs": [
        {
          "data": {
            "text/html": [
              "<div>\n",
              "<style scoped>\n",
              "    .dataframe tbody tr th:only-of-type {\n",
              "        vertical-align: middle;\n",
              "    }\n",
              "\n",
              "    .dataframe tbody tr th {\n",
              "        vertical-align: top;\n",
              "    }\n",
              "\n",
              "    .dataframe thead th {\n",
              "        text-align: right;\n",
              "    }\n",
              "</style>\n",
              "<table border=\"1\" class=\"dataframe\">\n",
              "  <thead>\n",
              "    <tr style=\"text-align: right;\">\n",
              "      <th></th>\n",
              "      <th>sales_id</th>\n",
              "      <th>order_id</th>\n",
              "      <th>product_id</th>\n",
              "      <th>price_per_unit</th>\n",
              "      <th>quantity</th>\n",
              "      <th>total_price</th>\n",
              "    </tr>\n",
              "  </thead>\n",
              "  <tbody>\n",
              "    <tr>\n",
              "      <th>count</th>\n",
              "      <td>5000.000000</td>\n",
              "      <td>5000.000000</td>\n",
              "      <td>5000.000000</td>\n",
              "      <td>5000.000000</td>\n",
              "      <td>5000.00000</td>\n",
              "      <td>5000.000000</td>\n",
              "    </tr>\n",
              "    <tr>\n",
              "      <th>mean</th>\n",
              "      <td>2499.500000</td>\n",
              "      <td>503.038200</td>\n",
              "      <td>634.053200</td>\n",
              "      <td>103.501600</td>\n",
              "      <td>1.99240</td>\n",
              "      <td>206.360000</td>\n",
              "    </tr>\n",
              "    <tr>\n",
              "      <th>std</th>\n",
              "      <td>1443.520003</td>\n",
              "      <td>285.964418</td>\n",
              "      <td>363.255794</td>\n",
              "      <td>9.195004</td>\n",
              "      <td>0.80751</td>\n",
              "      <td>86.357457</td>\n",
              "    </tr>\n",
              "    <tr>\n",
              "      <th>min</th>\n",
              "      <td>0.000000</td>\n",
              "      <td>1.000000</td>\n",
              "      <td>1.000000</td>\n",
              "      <td>90.000000</td>\n",
              "      <td>1.00000</td>\n",
              "      <td>90.000000</td>\n",
              "    </tr>\n",
              "    <tr>\n",
              "      <th>25%</th>\n",
              "      <td>1249.750000</td>\n",
              "      <td>258.000000</td>\n",
              "      <td>323.000000</td>\n",
              "      <td>95.000000</td>\n",
              "      <td>1.00000</td>\n",
              "      <td>112.000000</td>\n",
              "    </tr>\n",
              "    <tr>\n",
              "      <th>50%</th>\n",
              "      <td>2499.500000</td>\n",
              "      <td>504.500000</td>\n",
              "      <td>635.000000</td>\n",
              "      <td>102.000000</td>\n",
              "      <td>2.00000</td>\n",
              "      <td>204.000000</td>\n",
              "    </tr>\n",
              "    <tr>\n",
              "      <th>75%</th>\n",
              "      <td>3749.250000</td>\n",
              "      <td>749.000000</td>\n",
              "      <td>951.000000</td>\n",
              "      <td>112.000000</td>\n",
              "      <td>3.00000</td>\n",
              "      <td>285.000000</td>\n",
              "    </tr>\n",
              "    <tr>\n",
              "      <th>max</th>\n",
              "      <td>4999.000000</td>\n",
              "      <td>999.000000</td>\n",
              "      <td>1259.000000</td>\n",
              "      <td>119.000000</td>\n",
              "      <td>3.00000</td>\n",
              "      <td>357.000000</td>\n",
              "    </tr>\n",
              "  </tbody>\n",
              "</table>\n",
              "</div>"
            ],
            "text/plain": [
              "          sales_id     order_id   product_id  price_per_unit    quantity  \\\n",
              "count  5000.000000  5000.000000  5000.000000     5000.000000  5000.00000   \n",
              "mean   2499.500000   503.038200   634.053200      103.501600     1.99240   \n",
              "std    1443.520003   285.964418   363.255794        9.195004     0.80751   \n",
              "min       0.000000     1.000000     1.000000       90.000000     1.00000   \n",
              "25%    1249.750000   258.000000   323.000000       95.000000     1.00000   \n",
              "50%    2499.500000   504.500000   635.000000      102.000000     2.00000   \n",
              "75%    3749.250000   749.000000   951.000000      112.000000     3.00000   \n",
              "max    4999.000000   999.000000  1259.000000      119.000000     3.00000   \n",
              "\n",
              "       total_price  \n",
              "count  5000.000000  \n",
              "mean    206.360000  \n",
              "std      86.357457  \n",
              "min      90.000000  \n",
              "25%     112.000000  \n",
              "50%     204.000000  \n",
              "75%     285.000000  \n",
              "max     357.000000  "
            ]
          },
          "execution_count": 56,
          "metadata": {},
          "output_type": "execute_result"
        }
      ],
      "source": [
        "sales_df.describe(include=\"all\")"
      ]
    },
    {
      "cell_type": "markdown",
      "metadata": {
        "id": "DV_UA_SUGEYn"
      },
      "source": [
        "Berdasarkan hasil tersebut, dapat dilihat bahwa harga barang yang dijual berkisar antara 90 hingga 119 dolar. Selain itu, kita juga memperoleh informasi lain yang tidak kalah menarik yaitu pada setiap transaksi pelanggan paling banyak membeli tiga buah item dalam satu jenis produk dengan total harga sebesar 357 dolar."
      ]
    },
    {
      "cell_type": "code",
      "execution_count": 57,
      "metadata": {
        "colab": {
          "base_uri": "https://localhost:8080/",
          "height": 423
        },
        "id": "Cb4xrNLKGIi_",
        "outputId": "2cdbbd82-cd90-4348-e043-0b789f93ac2f"
      },
      "outputs": [
        {
          "data": {
            "text/html": [
              "<div>\n",
              "<style scoped>\n",
              "    .dataframe tbody tr th:only-of-type {\n",
              "        vertical-align: middle;\n",
              "    }\n",
              "\n",
              "    .dataframe tbody tr th {\n",
              "        vertical-align: top;\n",
              "    }\n",
              "\n",
              "    .dataframe thead th {\n",
              "        text-align: right;\n",
              "    }\n",
              "</style>\n",
              "<table border=\"1\" class=\"dataframe\">\n",
              "  <thead>\n",
              "    <tr style=\"text-align: right;\">\n",
              "      <th></th>\n",
              "      <th>product_id</th>\n",
              "      <th>product_type</th>\n",
              "      <th>product_name</th>\n",
              "      <th>size</th>\n",
              "      <th>colour</th>\n",
              "      <th>price</th>\n",
              "      <th>quantity</th>\n",
              "      <th>description</th>\n",
              "    </tr>\n",
              "  </thead>\n",
              "  <tbody>\n",
              "    <tr>\n",
              "      <th>704</th>\n",
              "      <td>698</td>\n",
              "      <td>Jacket</td>\n",
              "      <td>Parka</td>\n",
              "      <td>L</td>\n",
              "      <td>violet</td>\n",
              "      <td>119</td>\n",
              "      <td>53</td>\n",
              "      <td>A violet coloured, L sized, Parka Jacket</td>\n",
              "    </tr>\n",
              "    <tr>\n",
              "      <th>671</th>\n",
              "      <td>665</td>\n",
              "      <td>Jacket</td>\n",
              "      <td>Parka</td>\n",
              "      <td>XS</td>\n",
              "      <td>red</td>\n",
              "      <td>119</td>\n",
              "      <td>65</td>\n",
              "      <td>A red coloured, XS sized, Parka Jacket</td>\n",
              "    </tr>\n",
              "    <tr>\n",
              "      <th>698</th>\n",
              "      <td>692</td>\n",
              "      <td>Jacket</td>\n",
              "      <td>Parka</td>\n",
              "      <td>M</td>\n",
              "      <td>indigo</td>\n",
              "      <td>119</td>\n",
              "      <td>66</td>\n",
              "      <td>A indigo coloured, M sized, Parka Jacket</td>\n",
              "    </tr>\n",
              "    <tr>\n",
              "      <th>699</th>\n",
              "      <td>693</td>\n",
              "      <td>Jacket</td>\n",
              "      <td>Parka</td>\n",
              "      <td>L</td>\n",
              "      <td>indigo</td>\n",
              "      <td>119</td>\n",
              "      <td>44</td>\n",
              "      <td>A indigo coloured, L sized, Parka Jacket</td>\n",
              "    </tr>\n",
              "    <tr>\n",
              "      <th>700</th>\n",
              "      <td>694</td>\n",
              "      <td>Jacket</td>\n",
              "      <td>Parka</td>\n",
              "      <td>XL</td>\n",
              "      <td>indigo</td>\n",
              "      <td>119</td>\n",
              "      <td>78</td>\n",
              "      <td>A indigo coloured, XL sized, Parka Jacket</td>\n",
              "    </tr>\n",
              "    <tr>\n",
              "      <th>...</th>\n",
              "      <td>...</td>\n",
              "      <td>...</td>\n",
              "      <td>...</td>\n",
              "      <td>...</td>\n",
              "      <td>...</td>\n",
              "      <td>...</td>\n",
              "      <td>...</td>\n",
              "      <td>...</td>\n",
              "    </tr>\n",
              "    <tr>\n",
              "      <th>1225</th>\n",
              "      <td>1219</td>\n",
              "      <td>Trousers</td>\n",
              "      <td>Pleated</td>\n",
              "      <td>XL</td>\n",
              "      <td>indigo</td>\n",
              "      <td>90</td>\n",
              "      <td>45</td>\n",
              "      <td>A indigo coloured, XL sized, Pleated Trousers</td>\n",
              "    </tr>\n",
              "    <tr>\n",
              "      <th>1226</th>\n",
              "      <td>1220</td>\n",
              "      <td>Trousers</td>\n",
              "      <td>Pleated</td>\n",
              "      <td>XS</td>\n",
              "      <td>violet</td>\n",
              "      <td>90</td>\n",
              "      <td>58</td>\n",
              "      <td>A violet coloured, XS sized, Pleated Trousers</td>\n",
              "    </tr>\n",
              "    <tr>\n",
              "      <th>1227</th>\n",
              "      <td>1221</td>\n",
              "      <td>Trousers</td>\n",
              "      <td>Pleated</td>\n",
              "      <td>S</td>\n",
              "      <td>violet</td>\n",
              "      <td>90</td>\n",
              "      <td>50</td>\n",
              "      <td>A violet coloured, S sized, Pleated Trousers</td>\n",
              "    </tr>\n",
              "    <tr>\n",
              "      <th>1228</th>\n",
              "      <td>1222</td>\n",
              "      <td>Trousers</td>\n",
              "      <td>Pleated</td>\n",
              "      <td>M</td>\n",
              "      <td>violet</td>\n",
              "      <td>90</td>\n",
              "      <td>45</td>\n",
              "      <td>A violet coloured, M sized, Pleated Trousers</td>\n",
              "    </tr>\n",
              "    <tr>\n",
              "      <th>599</th>\n",
              "      <td>593</td>\n",
              "      <td>Jacket</td>\n",
              "      <td>Bomber</td>\n",
              "      <td>L</td>\n",
              "      <td>violet</td>\n",
              "      <td>90</td>\n",
              "      <td>68</td>\n",
              "      <td>A violet coloured, L sized, Bomber Jacket</td>\n",
              "    </tr>\n",
              "  </tbody>\n",
              "</table>\n",
              "<p>1260 rows × 8 columns</p>\n",
              "</div>"
            ],
            "text/plain": [
              "      product_id product_type product_name size  colour  price  quantity  \\\n",
              "704          698       Jacket        Parka    L  violet    119        53   \n",
              "671          665       Jacket        Parka   XS     red    119        65   \n",
              "698          692       Jacket        Parka    M  indigo    119        66   \n",
              "699          693       Jacket        Parka    L  indigo    119        44   \n",
              "700          694       Jacket        Parka   XL  indigo    119        78   \n",
              "...          ...          ...          ...  ...     ...    ...       ...   \n",
              "1225        1219     Trousers      Pleated   XL  indigo     90        45   \n",
              "1226        1220     Trousers      Pleated   XS  violet     90        58   \n",
              "1227        1221     Trousers      Pleated    S  violet     90        50   \n",
              "1228        1222     Trousers      Pleated    M  violet     90        45   \n",
              "599          593       Jacket       Bomber    L  violet     90        68   \n",
              "\n",
              "                                        description  \n",
              "704        A violet coloured, L sized, Parka Jacket  \n",
              "671          A red coloured, XS sized, Parka Jacket  \n",
              "698        A indigo coloured, M sized, Parka Jacket  \n",
              "699        A indigo coloured, L sized, Parka Jacket  \n",
              "700       A indigo coloured, XL sized, Parka Jacket  \n",
              "...                                             ...  \n",
              "1225  A indigo coloured, XL sized, Pleated Trousers  \n",
              "1226  A violet coloured, XS sized, Pleated Trousers  \n",
              "1227   A violet coloured, S sized, Pleated Trousers  \n",
              "1228   A violet coloured, M sized, Pleated Trousers  \n",
              "599       A violet coloured, L sized, Bomber Jacket  \n",
              "\n",
              "[1260 rows x 8 columns]"
            ]
          },
          "execution_count": 57,
          "metadata": {},
          "output_type": "execute_result"
        }
      ],
      "source": [
        "product_df.sort_values(by=\"price\", ascending=False)"
      ]
    },
    {
      "cell_type": "markdown",
      "metadata": {
        "id": "2irwILPMK-vI"
      },
      "source": [
        "Selanjutnya, kita bisa menggunakan pivot table untuk mencari informasi terkait produk berdasarkan tipe dan nama produknya. Berikut contoh kode yang bisa Anda gunakan."
      ]
    },
    {
      "cell_type": "code",
      "execution_count": 58,
      "metadata": {
        "colab": {
          "base_uri": "https://localhost:8080/",
          "height": 206
        },
        "id": "T2yMkOFLK_Y2",
        "outputId": "dc12a127-8232-4ed0-f608-f92ad24ccccd"
      },
      "outputs": [
        {
          "data": {
            "text/html": [
              "<div>\n",
              "<style scoped>\n",
              "    .dataframe tbody tr th:only-of-type {\n",
              "        vertical-align: middle;\n",
              "    }\n",
              "\n",
              "    .dataframe tbody tr th {\n",
              "        vertical-align: top;\n",
              "    }\n",
              "\n",
              "    .dataframe thead tr th {\n",
              "        text-align: left;\n",
              "    }\n",
              "\n",
              "    .dataframe thead tr:last-of-type th {\n",
              "        text-align: right;\n",
              "    }\n",
              "</style>\n",
              "<table border=\"1\" class=\"dataframe\">\n",
              "  <thead>\n",
              "    <tr>\n",
              "      <th></th>\n",
              "      <th>product_id</th>\n",
              "      <th>quantity</th>\n",
              "      <th colspan=\"2\" halign=\"left\">price</th>\n",
              "    </tr>\n",
              "    <tr>\n",
              "      <th></th>\n",
              "      <th>nunique</th>\n",
              "      <th>sum</th>\n",
              "      <th>min</th>\n",
              "      <th>max</th>\n",
              "    </tr>\n",
              "    <tr>\n",
              "      <th>product_type</th>\n",
              "      <th></th>\n",
              "      <th></th>\n",
              "      <th></th>\n",
              "      <th></th>\n",
              "    </tr>\n",
              "  </thead>\n",
              "  <tbody>\n",
              "    <tr>\n",
              "      <th>Jacket</th>\n",
              "      <td>420</td>\n",
              "      <td>25387</td>\n",
              "      <td>90</td>\n",
              "      <td>119</td>\n",
              "    </tr>\n",
              "    <tr>\n",
              "      <th>Shirt</th>\n",
              "      <td>420</td>\n",
              "      <td>25263</td>\n",
              "      <td>92</td>\n",
              "      <td>119</td>\n",
              "    </tr>\n",
              "    <tr>\n",
              "      <th>Trousers</th>\n",
              "      <td>420</td>\n",
              "      <td>25139</td>\n",
              "      <td>90</td>\n",
              "      <td>119</td>\n",
              "    </tr>\n",
              "  </tbody>\n",
              "</table>\n",
              "</div>"
            ],
            "text/plain": [
              "             product_id quantity price     \n",
              "                nunique      sum   min  max\n",
              "product_type                               \n",
              "Jacket              420    25387    90  119\n",
              "Shirt               420    25263    92  119\n",
              "Trousers            420    25139    90  119"
            ]
          },
          "execution_count": 58,
          "metadata": {},
          "output_type": "execute_result"
        }
      ],
      "source": [
        "product_df.groupby(by=\"product_type\").agg({\n",
        "    \"product_id\": \"nunique\",\n",
        "    \"quantity\": \"sum\",\n",
        "    \"price\":  [\"min\", \"max\"]\n",
        "})\n"
      ]
    },
    {
      "cell_type": "code",
      "execution_count": 59,
      "metadata": {
        "colab": {
          "base_uri": "https://localhost:8080/",
          "height": 1000
        },
        "id": "hDwuToijLEoo",
        "outputId": "4050986d-7709-4dad-98dd-3305f533ab77"
      },
      "outputs": [
        {
          "data": {
            "text/html": [
              "<div>\n",
              "<style scoped>\n",
              "    .dataframe tbody tr th:only-of-type {\n",
              "        vertical-align: middle;\n",
              "    }\n",
              "\n",
              "    .dataframe tbody tr th {\n",
              "        vertical-align: top;\n",
              "    }\n",
              "\n",
              "    .dataframe thead tr th {\n",
              "        text-align: left;\n",
              "    }\n",
              "\n",
              "    .dataframe thead tr:last-of-type th {\n",
              "        text-align: right;\n",
              "    }\n",
              "</style>\n",
              "<table border=\"1\" class=\"dataframe\">\n",
              "  <thead>\n",
              "    <tr>\n",
              "      <th></th>\n",
              "      <th>product_id</th>\n",
              "      <th>quantity</th>\n",
              "      <th colspan=\"2\" halign=\"left\">price</th>\n",
              "    </tr>\n",
              "    <tr>\n",
              "      <th></th>\n",
              "      <th>nunique</th>\n",
              "      <th>sum</th>\n",
              "      <th>min</th>\n",
              "      <th>max</th>\n",
              "    </tr>\n",
              "    <tr>\n",
              "      <th>product_name</th>\n",
              "      <th></th>\n",
              "      <th></th>\n",
              "      <th></th>\n",
              "      <th></th>\n",
              "    </tr>\n",
              "  </thead>\n",
              "  <tbody>\n",
              "    <tr>\n",
              "      <th>Bomber</th>\n",
              "      <td>35</td>\n",
              "      <td>2083</td>\n",
              "      <td>90</td>\n",
              "      <td>90</td>\n",
              "    </tr>\n",
              "    <tr>\n",
              "      <th>Camp Collared</th>\n",
              "      <td>35</td>\n",
              "      <td>2071</td>\n",
              "      <td>112</td>\n",
              "      <td>112</td>\n",
              "    </tr>\n",
              "    <tr>\n",
              "      <th>Cardigan</th>\n",
              "      <td>35</td>\n",
              "      <td>2032</td>\n",
              "      <td>118</td>\n",
              "      <td>118</td>\n",
              "    </tr>\n",
              "    <tr>\n",
              "      <th>Cargo Pants</th>\n",
              "      <td>35</td>\n",
              "      <td>2146</td>\n",
              "      <td>106</td>\n",
              "      <td>106</td>\n",
              "    </tr>\n",
              "    <tr>\n",
              "      <th>Casual Slim Fit</th>\n",
              "      <td>35</td>\n",
              "      <td>2086</td>\n",
              "      <td>113</td>\n",
              "      <td>113</td>\n",
              "    </tr>\n",
              "    <tr>\n",
              "      <th>Chambray</th>\n",
              "      <td>35</td>\n",
              "      <td>2020</td>\n",
              "      <td>105</td>\n",
              "      <td>105</td>\n",
              "    </tr>\n",
              "    <tr>\n",
              "      <th>Chinos</th>\n",
              "      <td>35</td>\n",
              "      <td>2101</td>\n",
              "      <td>100</td>\n",
              "      <td>100</td>\n",
              "    </tr>\n",
              "    <tr>\n",
              "      <th>Coach</th>\n",
              "      <td>35</td>\n",
              "      <td>2158</td>\n",
              "      <td>115</td>\n",
              "      <td>115</td>\n",
              "    </tr>\n",
              "    <tr>\n",
              "      <th>Cords</th>\n",
              "      <td>35</td>\n",
              "      <td>2260</td>\n",
              "      <td>113</td>\n",
              "      <td>113</td>\n",
              "    </tr>\n",
              "    <tr>\n",
              "      <th>Cropped</th>\n",
              "      <td>35</td>\n",
              "      <td>2085</td>\n",
              "      <td>99</td>\n",
              "      <td>99</td>\n",
              "    </tr>\n",
              "    <tr>\n",
              "      <th>Cuban Collar</th>\n",
              "      <td>35</td>\n",
              "      <td>2017</td>\n",
              "      <td>93</td>\n",
              "      <td>93</td>\n",
              "    </tr>\n",
              "    <tr>\n",
              "      <th>Denim</th>\n",
              "      <td>70</td>\n",
              "      <td>4204</td>\n",
              "      <td>92</td>\n",
              "      <td>115</td>\n",
              "    </tr>\n",
              "    <tr>\n",
              "      <th>Drawstring</th>\n",
              "      <td>35</td>\n",
              "      <td>2042</td>\n",
              "      <td>104</td>\n",
              "      <td>104</td>\n",
              "    </tr>\n",
              "    <tr>\n",
              "      <th>Dress</th>\n",
              "      <td>35</td>\n",
              "      <td>2125</td>\n",
              "      <td>119</td>\n",
              "      <td>119</td>\n",
              "    </tr>\n",
              "    <tr>\n",
              "      <th>Flannel</th>\n",
              "      <td>35</td>\n",
              "      <td>2135</td>\n",
              "      <td>96</td>\n",
              "      <td>96</td>\n",
              "    </tr>\n",
              "    <tr>\n",
              "      <th>Henley</th>\n",
              "      <td>35</td>\n",
              "      <td>2051</td>\n",
              "      <td>92</td>\n",
              "      <td>92</td>\n",
              "    </tr>\n",
              "    <tr>\n",
              "      <th>High-Waisted</th>\n",
              "      <td>35</td>\n",
              "      <td>2198</td>\n",
              "      <td>98</td>\n",
              "      <td>98</td>\n",
              "    </tr>\n",
              "    <tr>\n",
              "      <th>Joggers</th>\n",
              "      <td>35</td>\n",
              "      <td>2107</td>\n",
              "      <td>94</td>\n",
              "      <td>94</td>\n",
              "    </tr>\n",
              "    <tr>\n",
              "      <th>Leather</th>\n",
              "      <td>35</td>\n",
              "      <td>2276</td>\n",
              "      <td>113</td>\n",
              "      <td>113</td>\n",
              "    </tr>\n",
              "    <tr>\n",
              "      <th>Linen</th>\n",
              "      <td>35</td>\n",
              "      <td>2138</td>\n",
              "      <td>116</td>\n",
              "      <td>116</td>\n",
              "    </tr>\n",
              "    <tr>\n",
              "      <th>Mandarin Collar</th>\n",
              "      <td>35</td>\n",
              "      <td>2203</td>\n",
              "      <td>108</td>\n",
              "      <td>108</td>\n",
              "    </tr>\n",
              "    <tr>\n",
              "      <th>Oxford Cloth</th>\n",
              "      <td>35</td>\n",
              "      <td>2071</td>\n",
              "      <td>114</td>\n",
              "      <td>114</td>\n",
              "    </tr>\n",
              "    <tr>\n",
              "      <th>Parka</th>\n",
              "      <td>35</td>\n",
              "      <td>2201</td>\n",
              "      <td>119</td>\n",
              "      <td>119</td>\n",
              "    </tr>\n",
              "    <tr>\n",
              "      <th>Peacoat</th>\n",
              "      <td>35</td>\n",
              "      <td>2067</td>\n",
              "      <td>102</td>\n",
              "      <td>102</td>\n",
              "    </tr>\n",
              "    <tr>\n",
              "      <th>Pleated</th>\n",
              "      <td>35</td>\n",
              "      <td>2030</td>\n",
              "      <td>90</td>\n",
              "      <td>90</td>\n",
              "    </tr>\n",
              "    <tr>\n",
              "      <th>Polo</th>\n",
              "      <td>35</td>\n",
              "      <td>2196</td>\n",
              "      <td>117</td>\n",
              "      <td>117</td>\n",
              "    </tr>\n",
              "    <tr>\n",
              "      <th>Puffer</th>\n",
              "      <td>35</td>\n",
              "      <td>1946</td>\n",
              "      <td>110</td>\n",
              "      <td>110</td>\n",
              "    </tr>\n",
              "    <tr>\n",
              "      <th>Pullover</th>\n",
              "      <td>35</td>\n",
              "      <td>2184</td>\n",
              "      <td>114</td>\n",
              "      <td>114</td>\n",
              "    </tr>\n",
              "    <tr>\n",
              "      <th>Relaxed Leg</th>\n",
              "      <td>35</td>\n",
              "      <td>2002</td>\n",
              "      <td>95</td>\n",
              "      <td>95</td>\n",
              "    </tr>\n",
              "    <tr>\n",
              "      <th>Shearling</th>\n",
              "      <td>35</td>\n",
              "      <td>2169</td>\n",
              "      <td>95</td>\n",
              "      <td>95</td>\n",
              "    </tr>\n",
              "    <tr>\n",
              "      <th>Slim-Fit</th>\n",
              "      <td>35</td>\n",
              "      <td>2155</td>\n",
              "      <td>119</td>\n",
              "      <td>119</td>\n",
              "    </tr>\n",
              "    <tr>\n",
              "      <th>Tracksuit Bottoms</th>\n",
              "      <td>35</td>\n",
              "      <td>2038</td>\n",
              "      <td>91</td>\n",
              "      <td>91</td>\n",
              "    </tr>\n",
              "    <tr>\n",
              "      <th>Trench Coat</th>\n",
              "      <td>35</td>\n",
              "      <td>2132</td>\n",
              "      <td>112</td>\n",
              "      <td>112</td>\n",
              "    </tr>\n",
              "    <tr>\n",
              "      <th>Windbreaker</th>\n",
              "      <td>35</td>\n",
              "      <td>2085</td>\n",
              "      <td>109</td>\n",
              "      <td>109</td>\n",
              "    </tr>\n",
              "    <tr>\n",
              "      <th>Wool</th>\n",
              "      <td>35</td>\n",
              "      <td>1975</td>\n",
              "      <td>111</td>\n",
              "      <td>111</td>\n",
              "    </tr>\n",
              "  </tbody>\n",
              "</table>\n",
              "</div>"
            ],
            "text/plain": [
              "                  product_id quantity price     \n",
              "                     nunique      sum   min  max\n",
              "product_name                                    \n",
              "Bomber                    35     2083    90   90\n",
              "Camp Collared             35     2071   112  112\n",
              "Cardigan                  35     2032   118  118\n",
              "Cargo Pants               35     2146   106  106\n",
              "Casual Slim Fit           35     2086   113  113\n",
              "Chambray                  35     2020   105  105\n",
              "Chinos                    35     2101   100  100\n",
              "Coach                     35     2158   115  115\n",
              "Cords                     35     2260   113  113\n",
              "Cropped                   35     2085    99   99\n",
              "Cuban Collar              35     2017    93   93\n",
              "Denim                     70     4204    92  115\n",
              "Drawstring                35     2042   104  104\n",
              "Dress                     35     2125   119  119\n",
              "Flannel                   35     2135    96   96\n",
              "Henley                    35     2051    92   92\n",
              "High-Waisted              35     2198    98   98\n",
              "Joggers                   35     2107    94   94\n",
              "Leather                   35     2276   113  113\n",
              "Linen                     35     2138   116  116\n",
              "Mandarin Collar           35     2203   108  108\n",
              "Oxford Cloth              35     2071   114  114\n",
              "Parka                     35     2201   119  119\n",
              "Peacoat                   35     2067   102  102\n",
              "Pleated                   35     2030    90   90\n",
              "Polo                      35     2196   117  117\n",
              "Puffer                    35     1946   110  110\n",
              "Pullover                  35     2184   114  114\n",
              "Relaxed Leg               35     2002    95   95\n",
              "Shearling                 35     2169    95   95\n",
              "Slim-Fit                  35     2155   119  119\n",
              "Tracksuit Bottoms         35     2038    91   91\n",
              "Trench Coat               35     2132   112  112\n",
              "Windbreaker               35     2085   109  109\n",
              "Wool                      35     1975   111  111"
            ]
          },
          "execution_count": 59,
          "metadata": {},
          "output_type": "execute_result"
        }
      ],
      "source": [
        "product_df.groupby(by=\"product_name\").agg({\n",
        "    \"product_id\": \"nunique\",\n",
        "    \"quantity\": \"sum\",\n",
        "    \"price\": [\"min\", \"max\"]\n",
        "})"
      ]
    },
    {
      "cell_type": "markdown",
      "metadata": {
        "id": "DcMyRYOTMhDN"
      },
      "source": [
        "Pivot table di atas dapat memberikan kita gambaran terkait produk yang dijual oleh Dicoding Collection. Sebagai calon praktisi data yang Andal, tentunya Anda penasaran dengan produk yang paling laris. Nah, untuk menjawab pertanyaan ini, kita perlu menyatukan (merge) tabel product_df dan sales_df dengan kode berikut."
      ]
    },
    {
      "cell_type": "code",
      "execution_count": 60,
      "metadata": {
        "colab": {
          "base_uri": "https://localhost:8080/",
          "height": 206
        },
        "id": "SOZUpuecMha0",
        "outputId": "06874db3-c5f8-43e9-ea67-54bef738fa25"
      },
      "outputs": [
        {
          "data": {
            "text/html": [
              "<div>\n",
              "<style scoped>\n",
              "    .dataframe tbody tr th:only-of-type {\n",
              "        vertical-align: middle;\n",
              "    }\n",
              "\n",
              "    .dataframe tbody tr th {\n",
              "        vertical-align: top;\n",
              "    }\n",
              "\n",
              "    .dataframe thead th {\n",
              "        text-align: right;\n",
              "    }\n",
              "</style>\n",
              "<table border=\"1\" class=\"dataframe\">\n",
              "  <thead>\n",
              "    <tr style=\"text-align: right;\">\n",
              "      <th></th>\n",
              "      <th>sales_id</th>\n",
              "      <th>order_id</th>\n",
              "      <th>product_id</th>\n",
              "      <th>price_per_unit</th>\n",
              "      <th>quantity_x</th>\n",
              "      <th>total_price</th>\n",
              "      <th>product_type</th>\n",
              "      <th>product_name</th>\n",
              "      <th>size</th>\n",
              "      <th>colour</th>\n",
              "      <th>price</th>\n",
              "      <th>quantity_y</th>\n",
              "      <th>description</th>\n",
              "    </tr>\n",
              "  </thead>\n",
              "  <tbody>\n",
              "    <tr>\n",
              "      <th>0</th>\n",
              "      <td>0</td>\n",
              "      <td>1</td>\n",
              "      <td>218</td>\n",
              "      <td>106</td>\n",
              "      <td>2</td>\n",
              "      <td>212</td>\n",
              "      <td>Shirt</td>\n",
              "      <td>Chambray</td>\n",
              "      <td>L</td>\n",
              "      <td>orange</td>\n",
              "      <td>105</td>\n",
              "      <td>44</td>\n",
              "      <td>A orange coloured, L sized, Chambray Shirt</td>\n",
              "    </tr>\n",
              "    <tr>\n",
              "      <th>1</th>\n",
              "      <td>1</td>\n",
              "      <td>1</td>\n",
              "      <td>481</td>\n",
              "      <td>118</td>\n",
              "      <td>1</td>\n",
              "      <td>118</td>\n",
              "      <td>Jacket</td>\n",
              "      <td>Puffer</td>\n",
              "      <td>S</td>\n",
              "      <td>indigo</td>\n",
              "      <td>110</td>\n",
              "      <td>62</td>\n",
              "      <td>A indigo coloured, S sized, Puffer Jacket</td>\n",
              "    </tr>\n",
              "    <tr>\n",
              "      <th>2</th>\n",
              "      <td>2</td>\n",
              "      <td>1</td>\n",
              "      <td>2</td>\n",
              "      <td>96</td>\n",
              "      <td>3</td>\n",
              "      <td>288</td>\n",
              "      <td>Shirt</td>\n",
              "      <td>Oxford Cloth</td>\n",
              "      <td>M</td>\n",
              "      <td>red</td>\n",
              "      <td>114</td>\n",
              "      <td>54</td>\n",
              "      <td>A red coloured, M sized, Oxford Cloth Shirt</td>\n",
              "    </tr>\n",
              "    <tr>\n",
              "      <th>3</th>\n",
              "      <td>3</td>\n",
              "      <td>1</td>\n",
              "      <td>1002</td>\n",
              "      <td>106</td>\n",
              "      <td>2</td>\n",
              "      <td>212</td>\n",
              "      <td>Trousers</td>\n",
              "      <td>Wool</td>\n",
              "      <td>M</td>\n",
              "      <td>blue</td>\n",
              "      <td>111</td>\n",
              "      <td>52</td>\n",
              "      <td>A blue coloured, M sized, Wool Trousers</td>\n",
              "    </tr>\n",
              "    <tr>\n",
              "      <th>4</th>\n",
              "      <td>4</td>\n",
              "      <td>1</td>\n",
              "      <td>691</td>\n",
              "      <td>113</td>\n",
              "      <td>3</td>\n",
              "      <td>339</td>\n",
              "      <td>Jacket</td>\n",
              "      <td>Parka</td>\n",
              "      <td>S</td>\n",
              "      <td>indigo</td>\n",
              "      <td>119</td>\n",
              "      <td>53</td>\n",
              "      <td>A indigo coloured, S sized, Parka Jacket</td>\n",
              "    </tr>\n",
              "  </tbody>\n",
              "</table>\n",
              "</div>"
            ],
            "text/plain": [
              "   sales_id  order_id  product_id  price_per_unit  quantity_x  total_price  \\\n",
              "0         0         1         218             106           2          212   \n",
              "1         1         1         481             118           1          118   \n",
              "2         2         1           2              96           3          288   \n",
              "3         3         1        1002             106           2          212   \n",
              "4         4         1         691             113           3          339   \n",
              "\n",
              "  product_type  product_name size  colour  price  quantity_y  \\\n",
              "0        Shirt      Chambray    L  orange    105          44   \n",
              "1       Jacket        Puffer    S  indigo    110          62   \n",
              "2        Shirt  Oxford Cloth    M     red    114          54   \n",
              "3     Trousers          Wool    M    blue    111          52   \n",
              "4       Jacket         Parka    S  indigo    119          53   \n",
              "\n",
              "                                   description  \n",
              "0   A orange coloured, L sized, Chambray Shirt  \n",
              "1    A indigo coloured, S sized, Puffer Jacket  \n",
              "2  A red coloured, M sized, Oxford Cloth Shirt  \n",
              "3      A blue coloured, M sized, Wool Trousers  \n",
              "4     A indigo coloured, S sized, Parka Jacket  "
            ]
          },
          "execution_count": 60,
          "metadata": {},
          "output_type": "execute_result"
        }
      ],
      "source": [
        "sales_product_df = pd.merge(\n",
        "    left=sales_df,\n",
        "    right=product_df,\n",
        "    how=\"left\",\n",
        "    left_on=\"product_id\",\n",
        "    right_on=\"product_id\"\n",
        ")\n",
        "sales_product_df.head()"
      ]
    },
    {
      "cell_type": "markdown",
      "metadata": {
        "id": "lfBWNUFPQvgB"
      },
      "source": [
        "Pada dasarnya kode di atas akan melakukan proses merge terhadap data product_df dan sales_df. Proses merge tersebut dilakukan menggunakan metode “left”. Berikut hasil dari proses merge tersebut.\n",
        "\n"
      ]
    },
    {
      "cell_type": "markdown",
      "metadata": {
        "id": "V_CKXVfPQ5P5"
      },
      "source": [
        "sekarang kita coba melihat informasi penjualan produk berdasarkan tipenya."
      ]
    },
    {
      "cell_type": "code",
      "execution_count": 61,
      "metadata": {
        "colab": {
          "base_uri": "https://localhost:8080/",
          "height": 175
        },
        "id": "n-gfytJzQ7jZ",
        "outputId": "eef0aea5-e7cc-464d-a875-915e1e1a608c"
      },
      "outputs": [
        {
          "data": {
            "text/html": [
              "<div>\n",
              "<style scoped>\n",
              "    .dataframe tbody tr th:only-of-type {\n",
              "        vertical-align: middle;\n",
              "    }\n",
              "\n",
              "    .dataframe tbody tr th {\n",
              "        vertical-align: top;\n",
              "    }\n",
              "\n",
              "    .dataframe thead th {\n",
              "        text-align: right;\n",
              "    }\n",
              "</style>\n",
              "<table border=\"1\" class=\"dataframe\">\n",
              "  <thead>\n",
              "    <tr style=\"text-align: right;\">\n",
              "      <th></th>\n",
              "      <th>sales_id</th>\n",
              "      <th>quantity_x</th>\n",
              "      <th>total_price</th>\n",
              "    </tr>\n",
              "    <tr>\n",
              "      <th>product_type</th>\n",
              "      <th></th>\n",
              "      <th></th>\n",
              "      <th></th>\n",
              "    </tr>\n",
              "  </thead>\n",
              "  <tbody>\n",
              "    <tr>\n",
              "      <th>Jacket</th>\n",
              "      <td>1676</td>\n",
              "      <td>3343</td>\n",
              "      <td>357026</td>\n",
              "    </tr>\n",
              "    <tr>\n",
              "      <th>Shirt</th>\n",
              "      <td>1641</td>\n",
              "      <td>3259</td>\n",
              "      <td>333600</td>\n",
              "    </tr>\n",
              "    <tr>\n",
              "      <th>Trousers</th>\n",
              "      <td>1683</td>\n",
              "      <td>3360</td>\n",
              "      <td>341174</td>\n",
              "    </tr>\n",
              "  </tbody>\n",
              "</table>\n",
              "</div>"
            ],
            "text/plain": [
              "              sales_id  quantity_x  total_price\n",
              "product_type                                   \n",
              "Jacket            1676        3343       357026\n",
              "Shirt             1641        3259       333600\n",
              "Trousers          1683        3360       341174"
            ]
          },
          "execution_count": 61,
          "metadata": {},
          "output_type": "execute_result"
        }
      ],
      "source": [
        "sales_product_df.groupby(by=\"product_type\").agg({\n",
        "    \"sales_id\": \"nunique\",\n",
        "    \"quantity_x\": \"sum\",\n",
        "    \"total_price\": \"sum\"\n",
        "})"
      ]
    },
    {
      "cell_type": "markdown",
      "metadata": {
        "id": "fgtvp4XmRKIN"
      },
      "source": [
        "Jika Anda perhatikan pivot table di atas, Trousers merupakan tipe produk yang paling laris. Akan tetapi, jika dilihat berdasarkan revenue yang diterima, Jacket merupakan tipe produk yang paling banyak menyumbang revenue perusahaan."
      ]
    },
    {
      "cell_type": "markdown",
      "metadata": {
        "id": "Kd_VFD00R9xp"
      },
      "source": [
        "Kita bisa membuat pivot table yang sama untuk melihat informasi penjualan berdasarkan nama produk menggunakan kode di bawah ini"
      ]
    },
    {
      "cell_type": "code",
      "execution_count": 62,
      "metadata": {
        "colab": {
          "base_uri": "https://localhost:8080/",
          "height": 1000
        },
        "id": "9x8OjGhER-jv",
        "outputId": "e4288f9a-7d26-4dc0-f9ec-e1c775274fc8"
      },
      "outputs": [
        {
          "data": {
            "text/html": [
              "<div>\n",
              "<style scoped>\n",
              "    .dataframe tbody tr th:only-of-type {\n",
              "        vertical-align: middle;\n",
              "    }\n",
              "\n",
              "    .dataframe tbody tr th {\n",
              "        vertical-align: top;\n",
              "    }\n",
              "\n",
              "    .dataframe thead th {\n",
              "        text-align: right;\n",
              "    }\n",
              "</style>\n",
              "<table border=\"1\" class=\"dataframe\">\n",
              "  <thead>\n",
              "    <tr style=\"text-align: right;\">\n",
              "      <th></th>\n",
              "      <th>sales_id</th>\n",
              "      <th>quantity_x</th>\n",
              "      <th>total_price</th>\n",
              "    </tr>\n",
              "    <tr>\n",
              "      <th>product_name</th>\n",
              "      <th></th>\n",
              "      <th></th>\n",
              "      <th></th>\n",
              "    </tr>\n",
              "  </thead>\n",
              "  <tbody>\n",
              "    <tr>\n",
              "      <th>Denim</th>\n",
              "      <td>273</td>\n",
              "      <td>527</td>\n",
              "      <td>52399</td>\n",
              "    </tr>\n",
              "    <tr>\n",
              "      <th>Casual Slim Fit</th>\n",
              "      <td>154</td>\n",
              "      <td>306</td>\n",
              "      <td>36414</td>\n",
              "    </tr>\n",
              "    <tr>\n",
              "      <th>Trench Coat</th>\n",
              "      <td>146</td>\n",
              "      <td>299</td>\n",
              "      <td>35581</td>\n",
              "    </tr>\n",
              "    <tr>\n",
              "      <th>Shearling</th>\n",
              "      <td>150</td>\n",
              "      <td>302</td>\n",
              "      <td>35334</td>\n",
              "    </tr>\n",
              "    <tr>\n",
              "      <th>Puffer</th>\n",
              "      <td>140</td>\n",
              "      <td>298</td>\n",
              "      <td>35164</td>\n",
              "    </tr>\n",
              "    <tr>\n",
              "      <th>Flannel</th>\n",
              "      <td>141</td>\n",
              "      <td>281</td>\n",
              "      <td>33158</td>\n",
              "    </tr>\n",
              "    <tr>\n",
              "      <th>Cropped</th>\n",
              "      <td>135</td>\n",
              "      <td>284</td>\n",
              "      <td>32660</td>\n",
              "    </tr>\n",
              "    <tr>\n",
              "      <th>Pleated</th>\n",
              "      <td>147</td>\n",
              "      <td>308</td>\n",
              "      <td>32340</td>\n",
              "    </tr>\n",
              "    <tr>\n",
              "      <th>Joggers</th>\n",
              "      <td>164</td>\n",
              "      <td>334</td>\n",
              "      <td>31062</td>\n",
              "    </tr>\n",
              "    <tr>\n",
              "      <th>Chambray</th>\n",
              "      <td>141</td>\n",
              "      <td>290</td>\n",
              "      <td>30740</td>\n",
              "    </tr>\n",
              "    <tr>\n",
              "      <th>Parka</th>\n",
              "      <td>134</td>\n",
              "      <td>269</td>\n",
              "      <td>30397</td>\n",
              "    </tr>\n",
              "    <tr>\n",
              "      <th>Bomber</th>\n",
              "      <td>150</td>\n",
              "      <td>297</td>\n",
              "      <td>29700</td>\n",
              "    </tr>\n",
              "    <tr>\n",
              "      <th>Chinos</th>\n",
              "      <td>135</td>\n",
              "      <td>260</td>\n",
              "      <td>29380</td>\n",
              "    </tr>\n",
              "    <tr>\n",
              "      <th>Windbreaker</th>\n",
              "      <td>143</td>\n",
              "      <td>287</td>\n",
              "      <td>29274</td>\n",
              "    </tr>\n",
              "    <tr>\n",
              "      <th>Cardigan</th>\n",
              "      <td>134</td>\n",
              "      <td>260</td>\n",
              "      <td>29120</td>\n",
              "    </tr>\n",
              "    <tr>\n",
              "      <th>Peacoat</th>\n",
              "      <td>132</td>\n",
              "      <td>266</td>\n",
              "      <td>28994</td>\n",
              "    </tr>\n",
              "    <tr>\n",
              "      <th>Tracksuit Bottoms</th>\n",
              "      <td>130</td>\n",
              "      <td>257</td>\n",
              "      <td>28784</td>\n",
              "    </tr>\n",
              "    <tr>\n",
              "      <th>Slim-Fit</th>\n",
              "      <td>154</td>\n",
              "      <td>288</td>\n",
              "      <td>27936</td>\n",
              "    </tr>\n",
              "    <tr>\n",
              "      <th>Oxford Cloth</th>\n",
              "      <td>146</td>\n",
              "      <td>289</td>\n",
              "      <td>27744</td>\n",
              "    </tr>\n",
              "    <tr>\n",
              "      <th>Drawstring</th>\n",
              "      <td>147</td>\n",
              "      <td>288</td>\n",
              "      <td>27648</td>\n",
              "    </tr>\n",
              "    <tr>\n",
              "      <th>High-Waisted</th>\n",
              "      <td>140</td>\n",
              "      <td>278</td>\n",
              "      <td>27522</td>\n",
              "    </tr>\n",
              "    <tr>\n",
              "      <th>Camp Collared</th>\n",
              "      <td>139</td>\n",
              "      <td>279</td>\n",
              "      <td>27342</td>\n",
              "    </tr>\n",
              "    <tr>\n",
              "      <th>Cargo Pants</th>\n",
              "      <td>134</td>\n",
              "      <td>267</td>\n",
              "      <td>27234</td>\n",
              "    </tr>\n",
              "    <tr>\n",
              "      <th>Relaxed Leg</th>\n",
              "      <td>146</td>\n",
              "      <td>301</td>\n",
              "      <td>27090</td>\n",
              "    </tr>\n",
              "    <tr>\n",
              "      <th>Cuban Collar</th>\n",
              "      <td>122</td>\n",
              "      <td>254</td>\n",
              "      <td>26670</td>\n",
              "    </tr>\n",
              "    <tr>\n",
              "      <th>Henley</th>\n",
              "      <td>146</td>\n",
              "      <td>281</td>\n",
              "      <td>26414</td>\n",
              "    </tr>\n",
              "    <tr>\n",
              "      <th>Wool</th>\n",
              "      <td>125</td>\n",
              "      <td>249</td>\n",
              "      <td>26394</td>\n",
              "    </tr>\n",
              "    <tr>\n",
              "      <th>Leather</th>\n",
              "      <td>136</td>\n",
              "      <td>263</td>\n",
              "      <td>25774</td>\n",
              "    </tr>\n",
              "    <tr>\n",
              "      <th>Mandarin Collar</th>\n",
              "      <td>124</td>\n",
              "      <td>236</td>\n",
              "      <td>25724</td>\n",
              "    </tr>\n",
              "    <tr>\n",
              "      <th>Dress</th>\n",
              "      <td>127</td>\n",
              "      <td>243</td>\n",
              "      <td>25272</td>\n",
              "    </tr>\n",
              "    <tr>\n",
              "      <th>Pullover</th>\n",
              "      <td>143</td>\n",
              "      <td>276</td>\n",
              "      <td>25116</td>\n",
              "    </tr>\n",
              "    <tr>\n",
              "      <th>Polo</th>\n",
              "      <td>131</td>\n",
              "      <td>264</td>\n",
              "      <td>25080</td>\n",
              "    </tr>\n",
              "    <tr>\n",
              "      <th>Coach</th>\n",
              "      <td>134</td>\n",
              "      <td>265</td>\n",
              "      <td>24645</td>\n",
              "    </tr>\n",
              "    <tr>\n",
              "      <th>Linen</th>\n",
              "      <td>131</td>\n",
              "      <td>270</td>\n",
              "      <td>24570</td>\n",
              "    </tr>\n",
              "    <tr>\n",
              "      <th>Cords</th>\n",
              "      <td>126</td>\n",
              "      <td>246</td>\n",
              "      <td>23124</td>\n",
              "    </tr>\n",
              "  </tbody>\n",
              "</table>\n",
              "</div>"
            ],
            "text/plain": [
              "                   sales_id  quantity_x  total_price\n",
              "product_name                                        \n",
              "Denim                   273         527        52399\n",
              "Casual Slim Fit         154         306        36414\n",
              "Trench Coat             146         299        35581\n",
              "Shearling               150         302        35334\n",
              "Puffer                  140         298        35164\n",
              "Flannel                 141         281        33158\n",
              "Cropped                 135         284        32660\n",
              "Pleated                 147         308        32340\n",
              "Joggers                 164         334        31062\n",
              "Chambray                141         290        30740\n",
              "Parka                   134         269        30397\n",
              "Bomber                  150         297        29700\n",
              "Chinos                  135         260        29380\n",
              "Windbreaker             143         287        29274\n",
              "Cardigan                134         260        29120\n",
              "Peacoat                 132         266        28994\n",
              "Tracksuit Bottoms       130         257        28784\n",
              "Slim-Fit                154         288        27936\n",
              "Oxford Cloth            146         289        27744\n",
              "Drawstring              147         288        27648\n",
              "High-Waisted            140         278        27522\n",
              "Camp Collared           139         279        27342\n",
              "Cargo Pants             134         267        27234\n",
              "Relaxed Leg             146         301        27090\n",
              "Cuban Collar            122         254        26670\n",
              "Henley                  146         281        26414\n",
              "Wool                    125         249        26394\n",
              "Leather                 136         263        25774\n",
              "Mandarin Collar         124         236        25724\n",
              "Dress                   127         243        25272\n",
              "Pullover                143         276        25116\n",
              "Polo                    131         264        25080\n",
              "Coach                   134         265        24645\n",
              "Linen                   131         270        24570\n",
              "Cords                   126         246        23124"
            ]
          },
          "execution_count": 62,
          "metadata": {},
          "output_type": "execute_result"
        }
      ],
      "source": [
        "sales_product_df.groupby(by=\"product_name\").agg({\n",
        "    \"sales_id\": \"nunique\",\n",
        "    \"quantity_x\": \"sum\",\n",
        "    \"total_price\": \"sum\"\n",
        "}).sort_values(by=\"total_price\", ascending=False)"
      ]
    },
    {
      "cell_type": "markdown",
      "metadata": {
        "id": "o7mgRum4SUOj"
      },
      "source": [
        "Berdasarkan pivot table tersebut, diketahui bahwa produk Denim merupakan produk yang paling laris dan juga paling banyak menyumbang revenue terhadap perusahaan.  "
      ]
    },
    {
      "cell_type": "markdown",
      "metadata": {
        "id": "Ao99PR1YVMjp"
      },
      "source": [
        "#**Eksplorasi Data all_df**\n",
        "\n"
      ]
    },
    {
      "cell_type": "markdown",
      "metadata": {
        "id": "o1u5MErhVY2z"
      },
      "source": [
        "jika diperhatikan data penjualan ini cukup menarik untuk ditelusuri lebih dalam. Hal ini dilakukan guna melihat pola pembelian berdasarkan demografi pelanggan. Oleh karena itu, kita perlu membuat sebuah DataFrame baru bernama all_df untuk menampung semua informasi dari keempat tabel yang kita miliki. Berikut contoh kode yang dapat kita gunakan untuk menjalankan proses penggabungan ini."
      ]
    },
    {
      "cell_type": "code",
      "execution_count": 63,
      "metadata": {
        "colab": {
          "base_uri": "https://localhost:8080/",
          "height": 365
        },
        "id": "Abz_fiTTVayq",
        "outputId": "022d4e1e-7b4e-496a-e570-59b36b229ed6"
      },
      "outputs": [
        {
          "data": {
            "text/html": [
              "<div>\n",
              "<style scoped>\n",
              "    .dataframe tbody tr th:only-of-type {\n",
              "        vertical-align: middle;\n",
              "    }\n",
              "\n",
              "    .dataframe tbody tr th {\n",
              "        vertical-align: top;\n",
              "    }\n",
              "\n",
              "    .dataframe thead th {\n",
              "        text-align: right;\n",
              "    }\n",
              "</style>\n",
              "<table border=\"1\" class=\"dataframe\">\n",
              "  <thead>\n",
              "    <tr style=\"text-align: right;\">\n",
              "      <th></th>\n",
              "      <th>sales_id</th>\n",
              "      <th>order_id</th>\n",
              "      <th>product_id</th>\n",
              "      <th>price_per_unit</th>\n",
              "      <th>quantity_x</th>\n",
              "      <th>total_price</th>\n",
              "      <th>product_type</th>\n",
              "      <th>product_name</th>\n",
              "      <th>size</th>\n",
              "      <th>colour</th>\n",
              "      <th>...</th>\n",
              "      <th>customer_name</th>\n",
              "      <th>gender</th>\n",
              "      <th>age</th>\n",
              "      <th>home_address</th>\n",
              "      <th>zip_code</th>\n",
              "      <th>city</th>\n",
              "      <th>state</th>\n",
              "      <th>country</th>\n",
              "      <th>status</th>\n",
              "      <th>age_group</th>\n",
              "    </tr>\n",
              "  </thead>\n",
              "  <tbody>\n",
              "    <tr>\n",
              "      <th>0</th>\n",
              "      <td>0</td>\n",
              "      <td>1</td>\n",
              "      <td>218</td>\n",
              "      <td>106</td>\n",
              "      <td>2</td>\n",
              "      <td>212</td>\n",
              "      <td>Shirt</td>\n",
              "      <td>Chambray</td>\n",
              "      <td>L</td>\n",
              "      <td>orange</td>\n",
              "      <td>...</td>\n",
              "      <td>fulan 64</td>\n",
              "      <td>Prefer not to say</td>\n",
              "      <td>75</td>\n",
              "      <td>4927 Alice MeadowApt. 960</td>\n",
              "      <td>7787</td>\n",
              "      <td>Sanfordborough</td>\n",
              "      <td>South Australia</td>\n",
              "      <td>Australia</td>\n",
              "      <td>Active</td>\n",
              "      <td>Seniors</td>\n",
              "    </tr>\n",
              "    <tr>\n",
              "      <th>1</th>\n",
              "      <td>1</td>\n",
              "      <td>1</td>\n",
              "      <td>481</td>\n",
              "      <td>118</td>\n",
              "      <td>1</td>\n",
              "      <td>118</td>\n",
              "      <td>Jacket</td>\n",
              "      <td>Puffer</td>\n",
              "      <td>S</td>\n",
              "      <td>indigo</td>\n",
              "      <td>...</td>\n",
              "      <td>fulan 64</td>\n",
              "      <td>Prefer not to say</td>\n",
              "      <td>75</td>\n",
              "      <td>4927 Alice MeadowApt. 960</td>\n",
              "      <td>7787</td>\n",
              "      <td>Sanfordborough</td>\n",
              "      <td>South Australia</td>\n",
              "      <td>Australia</td>\n",
              "      <td>Active</td>\n",
              "      <td>Seniors</td>\n",
              "    </tr>\n",
              "    <tr>\n",
              "      <th>2</th>\n",
              "      <td>2</td>\n",
              "      <td>1</td>\n",
              "      <td>2</td>\n",
              "      <td>96</td>\n",
              "      <td>3</td>\n",
              "      <td>288</td>\n",
              "      <td>Shirt</td>\n",
              "      <td>Oxford Cloth</td>\n",
              "      <td>M</td>\n",
              "      <td>red</td>\n",
              "      <td>...</td>\n",
              "      <td>fulan 64</td>\n",
              "      <td>Prefer not to say</td>\n",
              "      <td>75</td>\n",
              "      <td>4927 Alice MeadowApt. 960</td>\n",
              "      <td>7787</td>\n",
              "      <td>Sanfordborough</td>\n",
              "      <td>South Australia</td>\n",
              "      <td>Australia</td>\n",
              "      <td>Active</td>\n",
              "      <td>Seniors</td>\n",
              "    </tr>\n",
              "    <tr>\n",
              "      <th>3</th>\n",
              "      <td>3</td>\n",
              "      <td>1</td>\n",
              "      <td>1002</td>\n",
              "      <td>106</td>\n",
              "      <td>2</td>\n",
              "      <td>212</td>\n",
              "      <td>Trousers</td>\n",
              "      <td>Wool</td>\n",
              "      <td>M</td>\n",
              "      <td>blue</td>\n",
              "      <td>...</td>\n",
              "      <td>fulan 64</td>\n",
              "      <td>Prefer not to say</td>\n",
              "      <td>75</td>\n",
              "      <td>4927 Alice MeadowApt. 960</td>\n",
              "      <td>7787</td>\n",
              "      <td>Sanfordborough</td>\n",
              "      <td>South Australia</td>\n",
              "      <td>Australia</td>\n",
              "      <td>Active</td>\n",
              "      <td>Seniors</td>\n",
              "    </tr>\n",
              "    <tr>\n",
              "      <th>4</th>\n",
              "      <td>4</td>\n",
              "      <td>1</td>\n",
              "      <td>691</td>\n",
              "      <td>113</td>\n",
              "      <td>3</td>\n",
              "      <td>339</td>\n",
              "      <td>Jacket</td>\n",
              "      <td>Parka</td>\n",
              "      <td>S</td>\n",
              "      <td>indigo</td>\n",
              "      <td>...</td>\n",
              "      <td>fulan 64</td>\n",
              "      <td>Prefer not to say</td>\n",
              "      <td>75</td>\n",
              "      <td>4927 Alice MeadowApt. 960</td>\n",
              "      <td>7787</td>\n",
              "      <td>Sanfordborough</td>\n",
              "      <td>South Australia</td>\n",
              "      <td>Australia</td>\n",
              "      <td>Active</td>\n",
              "      <td>Seniors</td>\n",
              "    </tr>\n",
              "  </tbody>\n",
              "</table>\n",
              "<p>5 rows × 28 columns</p>\n",
              "</div>"
            ],
            "text/plain": [
              "   sales_id  order_id  product_id  price_per_unit  quantity_x  total_price  \\\n",
              "0         0         1         218             106           2          212   \n",
              "1         1         1         481             118           1          118   \n",
              "2         2         1           2              96           3          288   \n",
              "3         3         1        1002             106           2          212   \n",
              "4         4         1         691             113           3          339   \n",
              "\n",
              "  product_type  product_name size  colour  ...  customer_name  \\\n",
              "0        Shirt      Chambray    L  orange  ...       fulan 64   \n",
              "1       Jacket        Puffer    S  indigo  ...       fulan 64   \n",
              "2        Shirt  Oxford Cloth    M     red  ...       fulan 64   \n",
              "3     Trousers          Wool    M    blue  ...       fulan 64   \n",
              "4       Jacket         Parka    S  indigo  ...       fulan 64   \n",
              "\n",
              "              gender age               home_address  zip_code            city  \\\n",
              "0  Prefer not to say  75  4927 Alice MeadowApt. 960      7787  Sanfordborough   \n",
              "1  Prefer not to say  75  4927 Alice MeadowApt. 960      7787  Sanfordborough   \n",
              "2  Prefer not to say  75  4927 Alice MeadowApt. 960      7787  Sanfordborough   \n",
              "3  Prefer not to say  75  4927 Alice MeadowApt. 960      7787  Sanfordborough   \n",
              "4  Prefer not to say  75  4927 Alice MeadowApt. 960      7787  Sanfordborough   \n",
              "\n",
              "             state    country  status age_group  \n",
              "0  South Australia  Australia  Active   Seniors  \n",
              "1  South Australia  Australia  Active   Seniors  \n",
              "2  South Australia  Australia  Active   Seniors  \n",
              "3  South Australia  Australia  Active   Seniors  \n",
              "4  South Australia  Australia  Active   Seniors  \n",
              "\n",
              "[5 rows x 28 columns]"
            ]
          },
          "execution_count": 63,
          "metadata": {},
          "output_type": "execute_result"
        }
      ],
      "source": [
        "all_df = pd.merge(\n",
        "    left=sales_product_df,\n",
        "    right=orders_customers_df,\n",
        "    how=\"left\",\n",
        "    left_on=\"order_id\",\n",
        "    right_on=\"order_id\"\n",
        ")\n",
        "all_df.head()"
      ]
    },
    {
      "cell_type": "markdown",
      "metadata": {
        "id": "XGSr0GzkVxUg"
      },
      "source": [
        "Selanjutnya, mari kita coba lihat preferensi pembelian berdasarkan state pelanggan dan tipe produk menggunakan kode di bawah ini."
      ]
    },
    {
      "cell_type": "code",
      "execution_count": 64,
      "metadata": {
        "colab": {
          "base_uri": "https://localhost:8080/",
          "height": 833
        },
        "id": "zqilQY5_VySn",
        "outputId": "d63d8acb-ffbb-4fb9-ab5f-28942c1964e7"
      },
      "outputs": [
        {
          "data": {
            "text/html": [
              "<div>\n",
              "<style scoped>\n",
              "    .dataframe tbody tr th:only-of-type {\n",
              "        vertical-align: middle;\n",
              "    }\n",
              "\n",
              "    .dataframe tbody tr th {\n",
              "        vertical-align: top;\n",
              "    }\n",
              "\n",
              "    .dataframe thead th {\n",
              "        text-align: right;\n",
              "    }\n",
              "</style>\n",
              "<table border=\"1\" class=\"dataframe\">\n",
              "  <thead>\n",
              "    <tr style=\"text-align: right;\">\n",
              "      <th></th>\n",
              "      <th></th>\n",
              "      <th>quantity_x</th>\n",
              "      <th>total_price</th>\n",
              "    </tr>\n",
              "    <tr>\n",
              "      <th>state</th>\n",
              "      <th>product_type</th>\n",
              "      <th></th>\n",
              "      <th></th>\n",
              "    </tr>\n",
              "  </thead>\n",
              "  <tbody>\n",
              "    <tr>\n",
              "      <th rowspan=\"3\" valign=\"top\">Australian Capital Territory</th>\n",
              "      <th>Jacket</th>\n",
              "      <td>406</td>\n",
              "      <td>43204</td>\n",
              "    </tr>\n",
              "    <tr>\n",
              "      <th>Shirt</th>\n",
              "      <td>396</td>\n",
              "      <td>40448</td>\n",
              "    </tr>\n",
              "    <tr>\n",
              "      <th>Trousers</th>\n",
              "      <td>454</td>\n",
              "      <td>46790</td>\n",
              "    </tr>\n",
              "    <tr>\n",
              "      <th rowspan=\"3\" valign=\"top\">New South Wales</th>\n",
              "      <th>Jacket</th>\n",
              "      <td>451</td>\n",
              "      <td>47998</td>\n",
              "    </tr>\n",
              "    <tr>\n",
              "      <th>Shirt</th>\n",
              "      <td>431</td>\n",
              "      <td>43980</td>\n",
              "    </tr>\n",
              "    <tr>\n",
              "      <th>Trousers</th>\n",
              "      <td>392</td>\n",
              "      <td>39766</td>\n",
              "    </tr>\n",
              "    <tr>\n",
              "      <th rowspan=\"3\" valign=\"top\">Northern Territory</th>\n",
              "      <th>Jacket</th>\n",
              "      <td>365</td>\n",
              "      <td>38991</td>\n",
              "    </tr>\n",
              "    <tr>\n",
              "      <th>Shirt</th>\n",
              "      <td>336</td>\n",
              "      <td>33865</td>\n",
              "    </tr>\n",
              "    <tr>\n",
              "      <th>Trousers</th>\n",
              "      <td>384</td>\n",
              "      <td>38998</td>\n",
              "    </tr>\n",
              "    <tr>\n",
              "      <th rowspan=\"3\" valign=\"top\">Queensland</th>\n",
              "      <th>Jacket</th>\n",
              "      <td>499</td>\n",
              "      <td>53511</td>\n",
              "    </tr>\n",
              "    <tr>\n",
              "      <th>Shirt</th>\n",
              "      <td>417</td>\n",
              "      <td>42506</td>\n",
              "    </tr>\n",
              "    <tr>\n",
              "      <th>Trousers</th>\n",
              "      <td>453</td>\n",
              "      <td>46045</td>\n",
              "    </tr>\n",
              "    <tr>\n",
              "      <th rowspan=\"3\" valign=\"top\">South Australia</th>\n",
              "      <th>Jacket</th>\n",
              "      <td>461</td>\n",
              "      <td>49090</td>\n",
              "    </tr>\n",
              "    <tr>\n",
              "      <th>Shirt</th>\n",
              "      <td>509</td>\n",
              "      <td>52685</td>\n",
              "    </tr>\n",
              "    <tr>\n",
              "      <th>Trousers</th>\n",
              "      <td>455</td>\n",
              "      <td>46041</td>\n",
              "    </tr>\n",
              "    <tr>\n",
              "      <th rowspan=\"3\" valign=\"top\">Tasmania</th>\n",
              "      <th>Jacket</th>\n",
              "      <td>412</td>\n",
              "      <td>44370</td>\n",
              "    </tr>\n",
              "    <tr>\n",
              "      <th>Shirt</th>\n",
              "      <td>387</td>\n",
              "      <td>39668</td>\n",
              "    </tr>\n",
              "    <tr>\n",
              "      <th>Trousers</th>\n",
              "      <td>379</td>\n",
              "      <td>38057</td>\n",
              "    </tr>\n",
              "    <tr>\n",
              "      <th rowspan=\"3\" valign=\"top\">Victoria</th>\n",
              "      <th>Jacket</th>\n",
              "      <td>359</td>\n",
              "      <td>38203</td>\n",
              "    </tr>\n",
              "    <tr>\n",
              "      <th>Shirt</th>\n",
              "      <td>390</td>\n",
              "      <td>40206</td>\n",
              "    </tr>\n",
              "    <tr>\n",
              "      <th>Trousers</th>\n",
              "      <td>414</td>\n",
              "      <td>41948</td>\n",
              "    </tr>\n",
              "    <tr>\n",
              "      <th rowspan=\"3\" valign=\"top\">Western Australia</th>\n",
              "      <th>Jacket</th>\n",
              "      <td>390</td>\n",
              "      <td>41659</td>\n",
              "    </tr>\n",
              "    <tr>\n",
              "      <th>Shirt</th>\n",
              "      <td>393</td>\n",
              "      <td>40242</td>\n",
              "    </tr>\n",
              "    <tr>\n",
              "      <th>Trousers</th>\n",
              "      <td>429</td>\n",
              "      <td>43529</td>\n",
              "    </tr>\n",
              "  </tbody>\n",
              "</table>\n",
              "</div>"
            ],
            "text/plain": [
              "                                           quantity_x  total_price\n",
              "state                        product_type                         \n",
              "Australian Capital Territory Jacket               406        43204\n",
              "                             Shirt                396        40448\n",
              "                             Trousers             454        46790\n",
              "New South Wales              Jacket               451        47998\n",
              "                             Shirt                431        43980\n",
              "                             Trousers             392        39766\n",
              "Northern Territory           Jacket               365        38991\n",
              "                             Shirt                336        33865\n",
              "                             Trousers             384        38998\n",
              "Queensland                   Jacket               499        53511\n",
              "                             Shirt                417        42506\n",
              "                             Trousers             453        46045\n",
              "South Australia              Jacket               461        49090\n",
              "                             Shirt                509        52685\n",
              "                             Trousers             455        46041\n",
              "Tasmania                     Jacket               412        44370\n",
              "                             Shirt                387        39668\n",
              "                             Trousers             379        38057\n",
              "Victoria                     Jacket               359        38203\n",
              "                             Shirt                390        40206\n",
              "                             Trousers             414        41948\n",
              "Western Australia            Jacket               390        41659\n",
              "                             Shirt                393        40242\n",
              "                             Trousers             429        43529"
            ]
          },
          "execution_count": 64,
          "metadata": {},
          "output_type": "execute_result"
        }
      ],
      "source": [
        "all_df.groupby(by=[\"state\", \"product_type\"]).agg({\n",
        "    \"quantity_x\": \"sum\",\n",
        "    \"total_price\": \"sum\"\n",
        "})"
      ]
    },
    {
      "cell_type": "markdown",
      "metadata": {
        "id": "kPM0CAw8V6lG"
      },
      "source": [
        "![image.png](data:image/png;base64,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)"
      ]
    },
    {
      "cell_type": "markdown",
      "metadata": {
        "id": "80r0Dmx2V7Hk"
      },
      "source": [
        "Pivot table di atas memberikan kita gambaran terkait tipe produk yang disukai pengguna berdasarkan lokasi negara bagiannya. Jika diperhatikan, tipe produk Jacket (garis merah) paling banyak terjual pada negara bagian Queensland, South Australia, dan New South Wales. Untuk tipe produk lain, Anda bisa melihatnya pada gambar pivot table di atas."
      ]
    },
    {
      "cell_type": "markdown",
      "metadata": {
        "id": "QBTGyiBVV_Uw"
      },
      "source": [
        "Sekarang Anda bisa melakukan hal yang sama untuk mengetahui selera tipe produk pelanggan berdasarkan gender dan kelompok usia. Berikut contoh kode yang bisa Anda gunakan."
      ]
    },
    {
      "cell_type": "code",
      "execution_count": 65,
      "metadata": {
        "colab": {
          "base_uri": "https://localhost:8080/",
          "height": 363
        },
        "id": "07w0yY2cWGwn",
        "outputId": "09e66654-7352-4eba-e004-3954ac18f6c1"
      },
      "outputs": [
        {
          "data": {
            "text/html": [
              "<div>\n",
              "<style scoped>\n",
              "    .dataframe tbody tr th:only-of-type {\n",
              "        vertical-align: middle;\n",
              "    }\n",
              "\n",
              "    .dataframe tbody tr th {\n",
              "        vertical-align: top;\n",
              "    }\n",
              "\n",
              "    .dataframe thead th {\n",
              "        text-align: right;\n",
              "    }\n",
              "</style>\n",
              "<table border=\"1\" class=\"dataframe\">\n",
              "  <thead>\n",
              "    <tr style=\"text-align: right;\">\n",
              "      <th></th>\n",
              "      <th></th>\n",
              "      <th>quantity_x</th>\n",
              "      <th>total_price</th>\n",
              "    </tr>\n",
              "    <tr>\n",
              "      <th>age_group</th>\n",
              "      <th>product_type</th>\n",
              "      <th></th>\n",
              "      <th></th>\n",
              "    </tr>\n",
              "  </thead>\n",
              "  <tbody>\n",
              "    <tr>\n",
              "      <th rowspan=\"3\" valign=\"top\">Adults</th>\n",
              "      <th>Jacket</th>\n",
              "      <td>2292</td>\n",
              "      <td>245055</td>\n",
              "    </tr>\n",
              "    <tr>\n",
              "      <th>Shirt</th>\n",
              "      <td>2225</td>\n",
              "      <td>227781</td>\n",
              "    </tr>\n",
              "    <tr>\n",
              "      <th>Trousers</th>\n",
              "      <td>2272</td>\n",
              "      <td>231271</td>\n",
              "    </tr>\n",
              "    <tr>\n",
              "      <th rowspan=\"3\" valign=\"top\">Seniors</th>\n",
              "      <th>Jacket</th>\n",
              "      <td>777</td>\n",
              "      <td>82959</td>\n",
              "    </tr>\n",
              "    <tr>\n",
              "      <th>Shirt</th>\n",
              "      <td>733</td>\n",
              "      <td>74977</td>\n",
              "    </tr>\n",
              "    <tr>\n",
              "      <th>Trousers</th>\n",
              "      <td>766</td>\n",
              "      <td>77471</td>\n",
              "    </tr>\n",
              "    <tr>\n",
              "      <th rowspan=\"3\" valign=\"top\">Youth</th>\n",
              "      <th>Jacket</th>\n",
              "      <td>274</td>\n",
              "      <td>29012</td>\n",
              "    </tr>\n",
              "    <tr>\n",
              "      <th>Shirt</th>\n",
              "      <td>301</td>\n",
              "      <td>30842</td>\n",
              "    </tr>\n",
              "    <tr>\n",
              "      <th>Trousers</th>\n",
              "      <td>322</td>\n",
              "      <td>32432</td>\n",
              "    </tr>\n",
              "  </tbody>\n",
              "</table>\n",
              "</div>"
            ],
            "text/plain": [
              "                        quantity_x  total_price\n",
              "age_group product_type                         \n",
              "Adults    Jacket              2292       245055\n",
              "          Shirt               2225       227781\n",
              "          Trousers            2272       231271\n",
              "Seniors   Jacket               777        82959\n",
              "          Shirt                733        74977\n",
              "          Trousers             766        77471\n",
              "Youth     Jacket               274        29012\n",
              "          Shirt                301        30842\n",
              "          Trousers             322        32432"
            ]
          },
          "execution_count": 65,
          "metadata": {},
          "output_type": "execute_result"
        }
      ],
      "source": [
        "all_df.groupby(by=[\"gender\", \"product_type\"]).agg({\n",
        "    \"quantity_x\": \"sum\",\n",
        "    \"total_price\": \"sum\"\n",
        "})\n",
        "\n",
        "all_df.groupby(by=[\"age_group\", \"product_type\"]).agg({\n",
        "    \"quantity_x\": \"sum\",\n",
        "    \"total_price\": \"sum\"\n",
        "})"
      ]
    },
    {
      "cell_type": "markdown",
      "metadata": {
        "id": "Tp75MMrQWLIH"
      },
      "source": [
        "Nah, pivot table di atas dapat memberikan kita gambaran terkait selera tipe produk pelanggan berdasarkan gender dan kelompok usia. Semua informasi ini akan sangat membantu Anda dalam menjawab pertanyaan terkait preferensi pengguna berdasarkan demografinya."
      ]
    }
  ],
  "metadata": {
    "colab": {
      "provenance": []
    },
    "kernelspec": {
      "display_name": "Python 3",
      "name": "python3"
    },
    "language_info": {
      "codemirror_mode": {
        "name": "ipython",
        "version": 3
      },
      "file_extension": ".py",
      "mimetype": "text/x-python",
      "name": "python",
      "nbconvert_exporter": "python",
      "pygments_lexer": "ipython3",
      "version": "3.12.2"
    }
  },
  "nbformat": 4,
  "nbformat_minor": 0
}
